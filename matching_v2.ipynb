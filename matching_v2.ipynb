{
  "cells": [
    {
      "cell_type": "markdown",
      "metadata": {
        "id": "view-in-github",
        "colab_type": "text"
      },
      "source": [
        "<a href=\"https://colab.research.google.com/github/nastyatrvl/3D-plots/blob/master/matching_v2.ipynb\" target=\"_parent\"><img src=\"https://colab.research.google.com/assets/colab-badge.svg\" alt=\"Open In Colab\"/></a>"
      ]
    },
    {
      "cell_type": "markdown",
      "metadata": {
        "id": "gR2Stke1POly"
      },
      "source": [
        "## Imports"
      ]
    },
    {
      "cell_type": "code",
      "execution_count": null,
      "metadata": {
        "colab": {
          "base_uri": "https://localhost:8080/"
        },
        "id": "5XIFi00XQWME",
        "outputId": "70765814-96e5-4ed2-c7c3-eb0822ff1586"
      },
      "outputs": [
        {
          "output_type": "stream",
          "name": "stdout",
          "text": [
            "Mounted at /content/drive/\n"
          ]
        }
      ],
      "source": [
        "from google.colab import drive\n",
        "drive.mount('/content/drive/')\n",
        "import os\n",
        "os.chdir('/content/drive/MyDrive/ILR')"
      ]
    },
    {
      "cell_type": "code",
      "execution_count": null,
      "metadata": {
        "id": "tY9BptaTNjoc",
        "colab": {
          "base_uri": "https://localhost:8080/"
        },
        "outputId": "94a052e5-d063-46c0-84d3-c5598fd14c04"
      },
      "outputs": [
        {
          "output_type": "stream",
          "name": "stdout",
          "text": [
            "Looking in indexes: https://pypi.org/simple, https://us-python.pkg.dev/colab-wheels/public/simple/\n",
            "Collecting jaro-winkler\n",
            "  Downloading jaro_winkler-2.0.0-py3-none-any.whl (33 kB)\n",
            "Installing collected packages: jaro-winkler\n",
            "Successfully installed jaro-winkler-2.0.0\n"
          ]
        }
      ],
      "source": [
        "!pip install jaro-winkler"
      ]
    },
    {
      "cell_type": "code",
      "execution_count": null,
      "metadata": {
        "id": "xesNxUHri33R",
        "colab": {
          "base_uri": "https://localhost:8080/"
        },
        "outputId": "6e834313-ade5-4dfb-84d3-607f552779a7"
      },
      "outputs": [
        {
          "output_type": "stream",
          "name": "stdout",
          "text": [
            "Looking in indexes: https://pypi.org/simple, https://us-python.pkg.dev/colab-wheels/public/simple/\n",
            "Collecting bertopic[visualization]\n",
            "  Downloading bertopic-0.11.0-py2.py3-none-any.whl (76 kB)\n",
            "\u001b[K     |████████████████████████████████| 76 kB 3.6 MB/s \n",
            "\u001b[33mWARNING: bertopic 0.11.0 does not provide the extra 'visualization'\u001b[0m\n",
            "\u001b[?25hRequirement already satisfied: tqdm>=4.41.1 in /usr/local/lib/python3.7/dist-packages (from bertopic[visualization]) (4.64.0)\n",
            "Requirement already satisfied: pyyaml<6.0 in /usr/local/lib/python3.7/dist-packages (from bertopic[visualization]) (3.13)\n",
            "Collecting umap-learn>=0.5.0\n",
            "  Downloading umap-learn-0.5.3.tar.gz (88 kB)\n",
            "\u001b[K     |████████████████████████████████| 88 kB 8.1 MB/s \n",
            "\u001b[?25hCollecting hdbscan>=0.8.28\n",
            "  Downloading hdbscan-0.8.28.tar.gz (5.2 MB)\n",
            "\u001b[K     |████████████████████████████████| 5.2 MB 40.7 MB/s \n",
            "\u001b[?25h  Installing build dependencies ... \u001b[?25l\u001b[?25hdone\n",
            "  Getting requirements to build wheel ... \u001b[?25l\u001b[?25hdone\n",
            "    Preparing wheel metadata ... \u001b[?25l\u001b[?25hdone\n",
            "Collecting sentence-transformers>=0.4.1\n",
            "  Downloading sentence-transformers-2.2.2.tar.gz (85 kB)\n",
            "\u001b[K     |████████████████████████████████| 85 kB 6.6 MB/s \n",
            "\u001b[?25hRequirement already satisfied: numpy>=1.20.0 in /usr/local/lib/python3.7/dist-packages (from bertopic[visualization]) (1.21.6)\n",
            "Requirement already satisfied: plotly>=4.7.0 in /usr/local/lib/python3.7/dist-packages (from bertopic[visualization]) (5.5.0)\n",
            "Requirement already satisfied: pandas>=1.1.5 in /usr/local/lib/python3.7/dist-packages (from bertopic[visualization]) (1.3.5)\n",
            "Requirement already satisfied: scikit-learn>=0.22.2.post1 in /usr/local/lib/python3.7/dist-packages (from bertopic[visualization]) (1.0.2)\n",
            "Requirement already satisfied: scipy>=1.0 in /usr/local/lib/python3.7/dist-packages (from hdbscan>=0.8.28->bertopic[visualization]) (1.7.3)\n",
            "Requirement already satisfied: joblib>=1.0 in /usr/local/lib/python3.7/dist-packages (from hdbscan>=0.8.28->bertopic[visualization]) (1.1.0)\n",
            "Requirement already satisfied: cython>=0.27 in /usr/local/lib/python3.7/dist-packages (from hdbscan>=0.8.28->bertopic[visualization]) (0.29.30)\n",
            "Requirement already satisfied: python-dateutil>=2.7.3 in /usr/local/lib/python3.7/dist-packages (from pandas>=1.1.5->bertopic[visualization]) (2.8.2)\n",
            "Requirement already satisfied: pytz>=2017.3 in /usr/local/lib/python3.7/dist-packages (from pandas>=1.1.5->bertopic[visualization]) (2022.1)\n",
            "Requirement already satisfied: tenacity>=6.2.0 in /usr/local/lib/python3.7/dist-packages (from plotly>=4.7.0->bertopic[visualization]) (8.0.1)\n",
            "Requirement already satisfied: six in /usr/local/lib/python3.7/dist-packages (from plotly>=4.7.0->bertopic[visualization]) (1.15.0)\n",
            "Requirement already satisfied: threadpoolctl>=2.0.0 in /usr/local/lib/python3.7/dist-packages (from scikit-learn>=0.22.2.post1->bertopic[visualization]) (3.1.0)\n",
            "Collecting transformers<5.0.0,>=4.6.0\n",
            "  Downloading transformers-4.20.1-py3-none-any.whl (4.4 MB)\n",
            "\u001b[K     |████████████████████████████████| 4.4 MB 36.1 MB/s \n",
            "\u001b[?25hRequirement already satisfied: torch>=1.6.0 in /usr/local/lib/python3.7/dist-packages (from sentence-transformers>=0.4.1->bertopic[visualization]) (1.12.0+cu113)\n",
            "Requirement already satisfied: torchvision in /usr/local/lib/python3.7/dist-packages (from sentence-transformers>=0.4.1->bertopic[visualization]) (0.13.0+cu113)\n",
            "Requirement already satisfied: nltk in /usr/local/lib/python3.7/dist-packages (from sentence-transformers>=0.4.1->bertopic[visualization]) (3.7)\n",
            "Collecting sentencepiece\n",
            "  Downloading sentencepiece-0.1.96-cp37-cp37m-manylinux_2_17_x86_64.manylinux2014_x86_64.whl (1.2 MB)\n",
            "\u001b[K     |████████████████████████████████| 1.2 MB 36.8 MB/s \n",
            "\u001b[?25hCollecting huggingface-hub>=0.4.0\n",
            "  Downloading huggingface_hub-0.8.1-py3-none-any.whl (101 kB)\n",
            "\u001b[K     |████████████████████████████████| 101 kB 13.1 MB/s \n",
            "\u001b[?25hRequirement already satisfied: requests in /usr/local/lib/python3.7/dist-packages (from huggingface-hub>=0.4.0->sentence-transformers>=0.4.1->bertopic[visualization]) (2.23.0)\n",
            "Requirement already satisfied: importlib-metadata in /usr/local/lib/python3.7/dist-packages (from huggingface-hub>=0.4.0->sentence-transformers>=0.4.1->bertopic[visualization]) (4.12.0)\n",
            "Requirement already satisfied: typing-extensions>=3.7.4.3 in /usr/local/lib/python3.7/dist-packages (from huggingface-hub>=0.4.0->sentence-transformers>=0.4.1->bertopic[visualization]) (4.1.1)\n",
            "Requirement already satisfied: packaging>=20.9 in /usr/local/lib/python3.7/dist-packages (from huggingface-hub>=0.4.0->sentence-transformers>=0.4.1->bertopic[visualization]) (21.3)\n",
            "Requirement already satisfied: filelock in /usr/local/lib/python3.7/dist-packages (from huggingface-hub>=0.4.0->sentence-transformers>=0.4.1->bertopic[visualization]) (3.7.1)\n",
            "Collecting pyyaml<6.0\n",
            "  Downloading PyYAML-5.4.1-cp37-cp37m-manylinux1_x86_64.whl (636 kB)\n",
            "\u001b[K     |████████████████████████████████| 636 kB 42.7 MB/s \n",
            "\u001b[?25hRequirement already satisfied: pyparsing!=3.0.5,>=2.0.2 in /usr/local/lib/python3.7/dist-packages (from packaging>=20.9->huggingface-hub>=0.4.0->sentence-transformers>=0.4.1->bertopic[visualization]) (3.0.9)\n",
            "Requirement already satisfied: regex!=2019.12.17 in /usr/local/lib/python3.7/dist-packages (from transformers<5.0.0,>=4.6.0->sentence-transformers>=0.4.1->bertopic[visualization]) (2022.6.2)\n",
            "Collecting tokenizers!=0.11.3,<0.13,>=0.11.1\n",
            "  Downloading tokenizers-0.12.1-cp37-cp37m-manylinux_2_12_x86_64.manylinux2010_x86_64.whl (6.6 MB)\n",
            "\u001b[K     |████████████████████████████████| 6.6 MB 49.2 MB/s \n",
            "\u001b[?25hRequirement already satisfied: numba>=0.49 in /usr/local/lib/python3.7/dist-packages (from umap-learn>=0.5.0->bertopic[visualization]) (0.51.2)\n",
            "Collecting pynndescent>=0.5\n",
            "  Downloading pynndescent-0.5.7.tar.gz (1.1 MB)\n",
            "\u001b[K     |████████████████████████████████| 1.1 MB 43.0 MB/s \n",
            "\u001b[?25hRequirement already satisfied: llvmlite<0.35,>=0.34.0.dev0 in /usr/local/lib/python3.7/dist-packages (from numba>=0.49->umap-learn>=0.5.0->bertopic[visualization]) (0.34.0)\n",
            "Requirement already satisfied: setuptools in /usr/local/lib/python3.7/dist-packages (from numba>=0.49->umap-learn>=0.5.0->bertopic[visualization]) (57.4.0)\n",
            "Requirement already satisfied: zipp>=0.5 in /usr/local/lib/python3.7/dist-packages (from importlib-metadata->huggingface-hub>=0.4.0->sentence-transformers>=0.4.1->bertopic[visualization]) (3.8.0)\n",
            "Requirement already satisfied: click in /usr/local/lib/python3.7/dist-packages (from nltk->sentence-transformers>=0.4.1->bertopic[visualization]) (7.1.2)\n",
            "Requirement already satisfied: certifi>=2017.4.17 in /usr/local/lib/python3.7/dist-packages (from requests->huggingface-hub>=0.4.0->sentence-transformers>=0.4.1->bertopic[visualization]) (2022.6.15)\n",
            "Requirement already satisfied: urllib3!=1.25.0,!=1.25.1,<1.26,>=1.21.1 in /usr/local/lib/python3.7/dist-packages (from requests->huggingface-hub>=0.4.0->sentence-transformers>=0.4.1->bertopic[visualization]) (1.24.3)\n",
            "Requirement already satisfied: idna<3,>=2.5 in /usr/local/lib/python3.7/dist-packages (from requests->huggingface-hub>=0.4.0->sentence-transformers>=0.4.1->bertopic[visualization]) (2.10)\n",
            "Requirement already satisfied: chardet<4,>=3.0.2 in /usr/local/lib/python3.7/dist-packages (from requests->huggingface-hub>=0.4.0->sentence-transformers>=0.4.1->bertopic[visualization]) (3.0.4)\n",
            "Requirement already satisfied: pillow!=8.3.*,>=5.3.0 in /usr/local/lib/python3.7/dist-packages (from torchvision->sentence-transformers>=0.4.1->bertopic[visualization]) (7.1.2)\n",
            "Building wheels for collected packages: hdbscan, sentence-transformers, umap-learn, pynndescent\n",
            "  Building wheel for hdbscan (PEP 517) ... \u001b[?25l\u001b[?25hdone\n",
            "  Created wheel for hdbscan: filename=hdbscan-0.8.28-cp37-cp37m-linux_x86_64.whl size=2342148 sha256=ac0c896e65b77c327699e45f74ac58716c4c0aaabb60f59c248af5c4fbe8cca0\n",
            "  Stored in directory: /root/.cache/pip/wheels/6e/7a/5e/259ccc841c085fc41b99ef4a71e896b62f5161f2bc8a14c97a\n",
            "  Building wheel for sentence-transformers (setup.py) ... \u001b[?25l\u001b[?25hdone\n",
            "  Created wheel for sentence-transformers: filename=sentence_transformers-2.2.2-py3-none-any.whl size=125938 sha256=a2915eba4ac4980f8bf907bd0b04702e7cd6af40bd8d8eb1dc9f0e8d9aa09b22\n",
            "  Stored in directory: /root/.cache/pip/wheels/bf/06/fb/d59c1e5bd1dac7f6cf61ec0036cc3a10ab8fecaa6b2c3d3ee9\n",
            "  Building wheel for umap-learn (setup.py) ... \u001b[?25l\u001b[?25hdone\n",
            "  Created wheel for umap-learn: filename=umap_learn-0.5.3-py3-none-any.whl size=82829 sha256=a744ac80b6794a7632734614711d0cfd331274b1470ae97c9eb1001b2b6a29dd\n",
            "  Stored in directory: /root/.cache/pip/wheels/b3/52/a5/1fd9e3e76a7ab34f134c07469cd6f16e27ef3a37aeff1fe821\n",
            "  Building wheel for pynndescent (setup.py) ... \u001b[?25l\u001b[?25hdone\n",
            "  Created wheel for pynndescent: filename=pynndescent-0.5.7-py3-none-any.whl size=54286 sha256=14ef49f8ac868e34ee373171192b6e2fd4620cc5a41f1c629e44c3c1c756e989\n",
            "  Stored in directory: /root/.cache/pip/wheels/7f/2a/f8/7bd5dcec71bd5c669f6f574db3113513696b98f3f9b51f496c\n",
            "Successfully built hdbscan sentence-transformers umap-learn pynndescent\n",
            "Installing collected packages: pyyaml, tokenizers, huggingface-hub, transformers, sentencepiece, pynndescent, umap-learn, sentence-transformers, hdbscan, bertopic\n",
            "  Attempting uninstall: pyyaml\n",
            "    Found existing installation: PyYAML 3.13\n",
            "    Uninstalling PyYAML-3.13:\n",
            "      Successfully uninstalled PyYAML-3.13\n",
            "Successfully installed bertopic-0.11.0 hdbscan-0.8.28 huggingface-hub-0.8.1 pynndescent-0.5.7 pyyaml-5.4.1 sentence-transformers-2.2.2 sentencepiece-0.1.96 tokenizers-0.12.1 transformers-4.20.1 umap-learn-0.5.3\n"
          ]
        }
      ],
      "source": [
        "!pip install bertopic[visualization]"
      ]
    },
    {
      "cell_type": "code",
      "execution_count": null,
      "metadata": {
        "colab": {
          "base_uri": "https://localhost:8080/"
        },
        "id": "w0Pv2OzkQv1V",
        "outputId": "cd247a20-378b-4476-dc65-242c2cd0ad43"
      },
      "outputs": [
        {
          "output_type": "stream",
          "name": "stderr",
          "text": [
            "[nltk_data] Downloading package punkt to /root/nltk_data...\n",
            "[nltk_data]   Unzipping tokenizers/punkt.zip.\n",
            "[nltk_data] Downloading package stopwords to /root/nltk_data...\n",
            "[nltk_data]   Unzipping corpora/stopwords.zip.\n"
          ]
        }
      ],
      "source": [
        "# essentials\n",
        "import pandas as pd\n",
        "import numpy as np\n",
        "import itertools\n",
        "import matplotlib.pyplot as plt\n",
        "# text data essentials\n",
        "import re\n",
        "import string\n",
        "# tfidf\n",
        "from sklearn.feature_extraction.text import TfidfVectorizer\n",
        "# jaro\n",
        "import jaro\n",
        "# parallel computing\n",
        "from numba import prange\n",
        "# nltk\n",
        "import nltk\n",
        "from nltk.stem import PorterStemmer\n",
        "from nltk.tokenize import word_tokenize\n",
        "from nltk.corpus import stopwords\n",
        "from nltk.tokenize import word_tokenize\n",
        "nltk.download('punkt')\n",
        "nltk.download('stopwords')\n",
        "# Gensim\n",
        "import gensim\n",
        "import gensim.corpora as corpora\n",
        "from gensim.utils import simple_preprocess\n",
        "from gensim.models import CoherenceModel\n",
        "# Topic modelling\n",
        "from bertopic import BERTopic\n",
        "# Charts\n",
        "import base64\n",
        "from IPython.display import Image, display"
      ]
    },
    {
      "cell_type": "markdown",
      "metadata": {
        "id": "a39MyQcH_EUE"
      },
      "source": [
        "## Helper functons"
      ]
    },
    {
      "cell_type": "code",
      "execution_count": null,
      "metadata": {
        "id": "lpNNc4VbMm_J"
      },
      "outputs": [],
      "source": [
        "def clean_text(string):\n",
        "  try:\n",
        "    temp = string.lower().translate(str.maketrans(symbols, ' ' * len(symbols))).replace(\"'\", \" \")\n",
        "    temp = \" \".join([w for w in temp.split() if (w not in stopwords) & (not w.isdigit())])\n",
        "    return temp\n",
        "  except AttributeError:\n",
        "    return string"
      ]
    },
    {
      "cell_type": "code",
      "execution_count": null,
      "metadata": {
        "id": "FbHGwXFxUhSm"
      },
      "outputs": [],
      "source": [
        "def search_level(row, col_name): \n",
        "  string = row[col_name]\n",
        "  split_w = string.lower().split()\n",
        "  inter_w = list(set(split_w) & set(nummerals))\n",
        "  if len(split_w)>1 and len(inter_w) > 0:\n",
        "    return pd.Series([inter_w[0], ' '.join([w for w in split_w if w!=inter_w[0]])])\n",
        "  else:\n",
        "    return pd.Series(['', string.lower()])"
      ]
    },
    {
      "cell_type": "code",
      "execution_count": null,
      "metadata": {
        "id": "0kdeAVLw8M9q"
      },
      "outputs": [],
      "source": [
        "def determine_seniority(title, seniority_list):\n",
        "  return list(set(title.split()) & set(seniority_list))"
      ]
    },
    {
      "cell_type": "code",
      "execution_count": null,
      "metadata": {
        "id": "VrqCkSQ4qlpv"
      },
      "outputs": [],
      "source": [
        "def remove_all_indicators(title):\n",
        "  all_indicators = senior + junior + manager + engineer\n",
        "  return \" \".join([w for w in title.lower().split() if w not in all_indicators])"
      ]
    },
    {
      "cell_type": "code",
      "execution_count": null,
      "metadata": {
        "id": "OW6L09BnfiG8"
      },
      "outputs": [],
      "source": [
        "def stem_title(row):\n",
        "  ps = PorterStemmer()\n",
        "  title = row['job_title_clean_no_indicators']\n",
        "  stemmed_title = [ps.stem(w) for w in title.split()]\n",
        "  stemmed_title_j = ' '.join(stemmed_title)\n",
        "  return pd.Series([stemmed_title_j, stemmed_title])"
      ]
    },
    {
      "cell_type": "code",
      "execution_count": null,
      "metadata": {
        "id": "ccBdw-EGHuJz"
      },
      "outputs": [],
      "source": [
        "def seniority_col(row, col1, col2):\n",
        "  if len(row[col1]) > 0:\n",
        "    return col1\n",
        "  elif len(row[col2]) > 0:\n",
        "    return col2\n",
        "  else:\n",
        "    return 'none'"
      ]
    },
    {
      "cell_type": "code",
      "execution_count": null,
      "metadata": {
        "id": "Wm9agIHLVP-m"
      },
      "outputs": [],
      "source": [
        "def preprocess(df, col_name):\n",
        "  df[[\"level\", \"job_title_wt_level\"]] = df.apply(lambda x: search_level(x, col_name), axis=1, result_type='expand')\n",
        "  df['job_title_orig_clean'] = df[col_name].apply(lambda x: clean_text(x))\n",
        "  df['job_title_clean'] = df[\"job_title_wt_level\"].apply(lambda x: clean_text(x))\n",
        "  # seniority + role\n",
        "  df['senior'] = df[\"job_title_clean\"].apply(lambda x: determine_seniority(x, senior))\n",
        "  df['junior'] = df[\"job_title_clean\"].apply(lambda x: determine_seniority(x, junior))\n",
        "  df['manager'] = df[\"job_title_clean\"].apply(lambda x: determine_seniority(x, manager))\n",
        "  df['engineer'] = df[\"job_title_clean\"].apply(lambda x: determine_seniority(x, engineer))\n",
        "  df['job_title_clean_no_indicators'] = df['job_title_clean'].apply(lambda x: remove_all_indicators(x))\n",
        "  df[[\"stemmed_title_j\", \"stemmed_title\"]] = df.apply(lambda x: stem_title(x), axis=1, result_type='expand')\n",
        "  df['m_e'] = df.apply(lambda x: seniority_col(x, 'manager', 'engineer'), axis=1)\n",
        "  df['s_j'] = df.apply(lambda x: seniority_col(x, 'senior', 'junior'), axis=1)\n",
        "  df = df[df['job_title_clean_no_indicators']!=''].dropna(subset=['job_title_clean_no_indicators'])\n",
        "  df['first_letter'] = df['job_title_clean_no_indicators'].apply(lambda x: x[0])\n",
        "  return df"
      ]
    },
    {
      "cell_type": "markdown",
      "metadata": {
        "id": "KF6ep4i71qx3"
      },
      "source": [
        "## Preprocessing"
      ]
    },
    {
      "cell_type": "code",
      "execution_count": null,
      "metadata": {
        "id": "kL-7VcunQl0T"
      },
      "outputs": [],
      "source": [
        "salarydot = pd.read_csv('data/salary_dot_com_data_yearly.csv')\n",
        "payscale = pd.read_csv('data/payscale_data_yearly.csv')\n",
        "glassdoor = pd.read_csv('data/glassdoor_data_yearly.csv')\n",
        "indeed = pd.read_csv('data/indeed_data_yearly.csv')\n",
        "onet = pd.read_excel('data/onet_alternate.xlsx')\n",
        "onet_orig = pd.read_excel('data/onet.xlsx')"
      ]
    },
    {
      "cell_type": "code",
      "source": [
        "onet_orig.columns = ['soc_code', 'title', 'description']\n",
        "onet_orig = onet_orig[['title', 'soc_code']]"
      ],
      "metadata": {
        "id": "llMn5yXhCSJK"
      },
      "execution_count": null,
      "outputs": []
    },
    {
      "cell_type": "code",
      "execution_count": null,
      "metadata": {
        "id": "6k5XWGzuCDDX"
      },
      "outputs": [],
      "source": [
        "onet.columns = ['soc_code', 'title', 'alternate_title', 'short_title', 'source']\n",
        "onet = onet[['title', 'alternate_title', 'soc_code']]"
      ]
    },
    {
      "cell_type": "code",
      "execution_count": null,
      "metadata": {
        "colab": {
          "base_uri": "https://localhost:8080/"
        },
        "id": "zhJSFxeURMcw",
        "outputId": "41b92f85-c16c-4da1-8305-c85053333db8"
      },
      "outputs": [
        {
          "output_type": "stream",
          "name": "stdout",
          "text": [
            "14512\n",
            "12335\n",
            "894\n",
            "11947\n",
            "60511\n",
            "1016\n"
          ]
        }
      ],
      "source": [
        "# no duplicates here\n",
        "print(len(salarydot))\n",
        "print(len(payscale))\n",
        "print(len(glassdoor))\n",
        "print(len(indeed))\n",
        "print(len(onet))\n",
        "print(len(onet_orig))"
      ]
    },
    {
      "cell_type": "code",
      "execution_count": null,
      "metadata": {
        "id": "sAxFhomHVWUe"
      },
      "outputs": [],
      "source": [
        "indeed['title_detailed'] = [i.split('career/')[1][:-9].replace('-', ' ') for i in indeed['url']]\n",
        "salarydot['job_title_clean'] = [i.replace('&amp;', 'and').replace('&#39;s', '') for i in salarydot['job_title'] if not i.isdigit()]\n",
        "indeed['job_title_clean'] = [i.replace(' amp ', ' and ') for i in indeed['title_detailed']]"
      ]
    },
    {
      "cell_type": "code",
      "execution_count": null,
      "metadata": {
        "id": "2-oBYjADZiQO"
      },
      "outputs": [],
      "source": [
        "nummerals = ['i', 'ii', 'iii', 'iv', 'v', 'vi', 'vii', 'viii', 'ix', 'x']\n",
        "symbols = \"!\\\"#$%&()*+-./:;,<=>?@[\\]^_`{|}~\\n\"\n",
        "stopwords = stopwords.words(\"english\")\n",
        "stopwords = [i for i in stopwords if i not in nummerals]\n",
        "senior = ['senior', 'sr', 'director', 'executive', 'vice', 'president', 'chief', 'head', 'lead', 'top']\n",
        "junior = ['junior', 'jr', 'entry', 'intern', 'trainee']\n",
        "manager = ['manager', 'supervisor']\n",
        "engineer = ['engineer', 'developer']"
      ]
    },
    {
      "cell_type": "code",
      "execution_count": null,
      "metadata": {
        "id": "OJ-EG26pV3gT"
      },
      "outputs": [],
      "source": [
        "salarydot = preprocess(salarydot, 'job_title_clean')\n",
        "payscale = preprocess(payscale, 'title')\n",
        "indeed = preprocess(indeed, 'job_title_clean')\n",
        "glassdoor = preprocess(glassdoor, 'title')\n",
        "onet = preprocess(onet, 'alternate_title')\n",
        "onet_orig = preprocess(onet_orig, 'title')"
      ]
    },
    {
      "cell_type": "markdown",
      "source": [
        "## Topic modelling"
      ],
      "metadata": {
        "id": "kYxK1ti1d8Wd"
      }
    },
    {
      "cell_type": "code",
      "execution_count": null,
      "metadata": {
        "id": "h1fKurOBUvwf"
      },
      "outputs": [],
      "source": [
        "stemmed_titles_j = list(salarydot['stemmed_title_j']) + \\\n",
        "                   list(payscale['stemmed_title_j']) + \\\n",
        "                   list(indeed['stemmed_title_j']) + \\\n",
        "                   list(glassdoor['stemmed_title_j']) + \\\n",
        "                   list(onet['stemmed_title_j']) + \\\n",
        "                   list(onet_orig['stemmed_title_j'])"
      ]
    },
    {
      "cell_type": "code",
      "execution_count": null,
      "metadata": {
        "id": "TyAPwycbiVMx"
      },
      "outputs": [],
      "source": [
        "topic_model = BERTopic(\n",
        "                 top_n_words = 20,\n",
        "                 nr_topics = 5,\n",
        "                 n_gram_range = (1, 2),\n",
        "                 min_topic_size = 10,\n",
        "                 calculate_probabilities=True,\n",
        "                 verbose=True)"
      ]
    },
    {
      "cell_type": "code",
      "execution_count": null,
      "metadata": {
        "colab": {
          "base_uri": "https://localhost:8080/",
          "height": 588,
          "referenced_widgets": [
            "82849d9a556740a5aa09622ac0367154",
            "50f9f222cd79480db1d97e2ae3474c92",
            "20a07f25ee5b4566b177ab7898fb076f",
            "febd2efb0512427cb9bc0992ae4a480e",
            "a26a9f515a5c486fa33985f5b1adbf66",
            "e8dc92038157492fb7bf5926f5abda19",
            "7f4d64764d0644ff8433372208ac451c",
            "9a0cbab28b4940ef8435d71c55c16f60",
            "9ef0ae66674b4856b47313cb3569144f",
            "398e7ef53bc2439b9bb0fcc92e175ea3",
            "98caa6ddf3464b8cb665f43f7f79ef7c",
            "236b54f731a244e585d7e50447fc7a1a",
            "d5455de0e1b7487098dc7f69ea19c2c0",
            "f9d4f21a458d4ad6af74092a3029e612",
            "f1b3cdd7b55a4fedaf778321e378e31e",
            "d75c2be295ed408c8be91039659d3493",
            "2ec38700b19144c7911f93a1eeb88aa6",
            "70a283b2b9dd48bbb2b30d5d36dcb1e9",
            "b72fa960f480493bbd8c547c5855febb",
            "7c8ba5137c8f4bdab9e737bb921d6b84",
            "93ad6026d4834c7a9ec3ba57fb7b4f68",
            "36691d54c4e4459c88d553e88fa162d4",
            "3930b4eb27254e84adf85747d381df4d",
            "e04292b0fa1f442ca62b6c8a024ce67c",
            "7b84e6715175411f9ea51e92de99cdaf",
            "2655f557884d4cd1a7c8aa31eeabdb3b",
            "12b4ac1d3cd6478e8f7f53736948599d",
            "cfd06b78b6ee4f3a9b6e7749a3a6d0c2",
            "b3b6afc17cc64b8eb7fd82551adca32b",
            "d7a0f6be8d4c4607915d35bf53c7d586",
            "43d02ccfa0814f4cb3600d4c35499050",
            "d969ab6183b04c74a80caa074a82d062",
            "8ce87726af4d4a0287275aafa9a7b35a",
            "795fd2648ca049dba24b0a187c52d37c",
            "fb973afacb4e43fb9b55d575538a788d",
            "c35497dfeae14163a7feea1e167cab3e",
            "b1b18314fb034c81b3269d29e18cff25",
            "3fa43610452149ef903cc286f9133449",
            "4cba0ce2b1364869b93b2c621e6e8a51",
            "a9a9247b30614322a0ec7b5c0dd481d4",
            "2001186ca0b942a4994f166d57663366",
            "4a7824d4b3d240c5b1aca638345843e7",
            "65886277eeac4abf94ebd798593990c0",
            "060626282c3d4c99ae8de97e98e6c9b5",
            "8bbbea91113d4d1299c434c6dcc80c37",
            "e8f69c63aaa1466b98ee9ea956742ee8",
            "02d9e388a06c45f09d0fc557bf6337ae",
            "dcaf34f5449e45b7a8cbc451e55f875a",
            "2ef5e87758c84958b40ea7f51348af9b",
            "417ab69c52154eda85d90554e2204513",
            "5ea773c1729b425f93b8b6aa317dca3c",
            "f210728589ac4878b4ba10c1753132ad",
            "96a1c9738fe9469fab4d0cc2aeea50cb",
            "0c2c4ab078de46168764d2827384dd69",
            "cf2cec0f3e0d437d8166e5c3dd960484",
            "7855af01508b430e97b2f0cb3b2045b0",
            "aee60c820f244b61b9f833a6a2391363",
            "633b9a6c1b064c0db48c3489ab54b886",
            "361e91efe58d41e796b7d8f384fe450e",
            "5c299c705855451589c8e36b593290dc",
            "785669b6244e4b6fb2a05e1d988cb4c8",
            "28cae0b6e45a46a99ab4c45520be3df2",
            "80002e222edb46c992de7213c820c279",
            "6b94d6a965b94997ae80b2505ad3a2f0",
            "fba9852ba45f457c865e04b3b9d92363",
            "fe0287c804144f7aa93fef304849f823",
            "89899989b11645afbaf705ac3e3f1147",
            "3880e66b1020487e9ff66a4df13fbce1",
            "d168a92705834a6e9aa1c6199c4a61c0",
            "ade5ffbd536e41edab1559e5fb390d24",
            "05599408545444418382e92ed2d55780",
            "6a0616790833432e88450b27bb55fd19",
            "0e0129ac70314519bbd5566d305a7479",
            "64f4281495034921969b7745f8f811f1",
            "fbc054be5e174e68b9db0848493670aa",
            "f5cdb543474f48e6ba79824f60183c09",
            "30352b4c81c44b6ca4b05398de8ee6b0",
            "e33be7f4b6284239a940fd8a10004610",
            "2c8156062d404688b593428ad4d732ad",
            "ea9b373d8ca5490e800bab2f5bd0d467",
            "e8e6d0ab74024154b7ec3613a29d4010",
            "75a84d6ea4894309980b558c1d676b30",
            "b6d1804581a942e789f82961f0d96a59",
            "1c37beb6f33f48bf9a00251623ebe4b0",
            "f7dcee8853af4bbf8f160b6d361403a6",
            "2ce08b4a42504c48b7920822f79be0bc",
            "9a6d50e199be45359206213dd3b635f9",
            "4ad754cecd2d448cbd00f0f9afd46948",
            "b5f93967e38e42fb8e2e3f871b5e032c",
            "410edd0a2f3946e8a90862b524c4876b",
            "aeaaf114064442438ba3de4bd981e85c",
            "8dedbca4322642f8b07bfc6ca0a7e244",
            "23e0a43a5ae6447bbcf3db826e3f396f",
            "b1e85d47f5b649ac9b1c9317a0f2b9f0",
            "28cd9a1b55b44db99f690c4d26c416d7",
            "4e4b6a4cdf614aff86f50241da79259d",
            "14652216b21f49b38d7789016ab52030",
            "2bab89875f7149e08d52420b894a2b0d",
            "5ee19ad5b279490783345062961c898c",
            "0aa065f4c60c472b982d1b5225c1a18c",
            "77d96d28e3d44ae6ae2d5557c958f658",
            "ee1722a68077404c9e683c767ad30f73",
            "9270ac18151d423ba38a8c14aecf75b1",
            "feed4db35dc64251a30d2bb2c60799da",
            "4e5a17e018ca4f40b0a8518e8fbcc534",
            "095292f229fa44e98e60946affc7df08",
            "d964a5bc8d2e4b20a34728453621490f",
            "6290d0a9335f404383c25d309ffbe45b",
            "ee81186ef0ae40968fa02cfa90ef2d2f",
            "9d274f96487d4bee8530fada5d20d73a",
            "ae5e6b2ec046456299d405b28b973798",
            "7f560be9558e4195bf852d6b07d9599f",
            "1006b9371a054667bd8c27cca8bfb905",
            "c2780399b5d74df59172437c020b6a4c",
            "1b3c2cc110d7407983ea6414c135a3d5",
            "36797e3658d04dfd9b7efa5734ad8081",
            "d13fc97d956d4ba189326b9031caa379",
            "c3b2e040530c44ff8301e4ba7b699bf0",
            "e3651ac850fa4a4fa16cb13bf2e2b490",
            "f920cc4d14e048d988adb1b9cdb79a16",
            "88d3e8be07824051a4ce6fbfeaaa3499",
            "883448b98b7b4c93b92943daab007143",
            "7b627161b89e4d16b8daeede8dfacf24",
            "4c8faa0d98234279a1d07fd52e1baea0",
            "b07deb44dfde48df8f61c138332fba10",
            "6383b1e5428f457e853c77e8df0a5eb5",
            "ef68e7d2f5254ea19bc46de0920263d0",
            "543f6237739d4b05842a0d1795da8282",
            "c143c0e52f0e4509984347eddd95fd27",
            "879cf3cfd956443c8f9f541f927d4267",
            "597f05a8c8d54ee6a9166f3e3d0ba66f",
            "74e26def9c324da789f975a019de8fd9",
            "5fae20de992c4b66a6830d07a3694662",
            "cfe806d27ae24bf48ecc732387b176ad",
            "36d0a2f632254502b6b1d6d1a10b4721",
            "d84a91cfc4864c5586f80cc03c700217",
            "725dbeadd69c45739c885b4109c969df",
            "5c903caa11a446b896f202f3d904bef0",
            "c827c465fc304299a67941b2b634d3a9",
            "2a5434f91d344cada6a8580eaad8930d",
            "c875fe6b135041e69fd0c90959ae7cdb",
            "3e6c8c9a0f834538a3d0307445f197b3",
            "c430e048e7944a55a3de64410c262a86",
            "3925101b96ac427a931ef6d98544cc40",
            "46eb930b660f4cebb8df664c5354d1f8",
            "ea80b700289a453b972744191d926f62",
            "014028d7f142499caad3acea92bc0fbf",
            "4aaf5c792c024b0c9a96708a06b3be94",
            "b403bc227dca48b59f8dcf27b1a62588",
            "81e3ec9c23e048b29f1b100ec956b5fa",
            "7f832d3bf0fc426bb4417de22c790a0d",
            "321007395f884466818b4c680fb72c9f",
            "afe05c58e2334b788ff015f4bb8aef00",
            "c173a07a879a412ab30e05dcc5d57db4",
            "5e49a79f12ff48059dbd38d291999063",
            "a6365a1aacf04cff8f7375e731c00a6f",
            "f8101d97ed464e8fb1927f8ce6d9dcb8",
            "0563395e491243868df6a53a712c9068",
            "325ad60cd29141ea9df258446def24fb",
            "d28e89cce9a74de2b975ca173f3315c9",
            "97beb5d5f19e4b00a47bd43c78511b0c",
            "805eae7a8cee4c388d438591d00e4c5a",
            "ca3474e74e4c444a8461cbb356aea6a3",
            "1167e23534c4417f89bed2383cc1fa0e",
            "21ca7477854c45f190ba007c1a972b7f"
          ]
        },
        "id": "Mq7gD4wGizI7",
        "outputId": "41aee3bd-59cf-4b51-d1ba-7731a4b43341"
      },
      "outputs": [
        {
          "output_type": "display_data",
          "data": {
            "text/plain": [
              "Downloading:   0%|          | 0.00/1.18k [00:00<?, ?B/s]"
            ],
            "application/vnd.jupyter.widget-view+json": {
              "version_major": 2,
              "version_minor": 0,
              "model_id": "82849d9a556740a5aa09622ac0367154"
            }
          },
          "metadata": {}
        },
        {
          "output_type": "display_data",
          "data": {
            "text/plain": [
              "Downloading:   0%|          | 0.00/190 [00:00<?, ?B/s]"
            ],
            "application/vnd.jupyter.widget-view+json": {
              "version_major": 2,
              "version_minor": 0,
              "model_id": "236b54f731a244e585d7e50447fc7a1a"
            }
          },
          "metadata": {}
        },
        {
          "output_type": "display_data",
          "data": {
            "text/plain": [
              "Downloading:   0%|          | 0.00/10.6k [00:00<?, ?B/s]"
            ],
            "application/vnd.jupyter.widget-view+json": {
              "version_major": 2,
              "version_minor": 0,
              "model_id": "3930b4eb27254e84adf85747d381df4d"
            }
          },
          "metadata": {}
        },
        {
          "output_type": "display_data",
          "data": {
            "text/plain": [
              "Downloading:   0%|          | 0.00/612 [00:00<?, ?B/s]"
            ],
            "application/vnd.jupyter.widget-view+json": {
              "version_major": 2,
              "version_minor": 0,
              "model_id": "795fd2648ca049dba24b0a187c52d37c"
            }
          },
          "metadata": {}
        },
        {
          "output_type": "display_data",
          "data": {
            "text/plain": [
              "Downloading:   0%|          | 0.00/116 [00:00<?, ?B/s]"
            ],
            "application/vnd.jupyter.widget-view+json": {
              "version_major": 2,
              "version_minor": 0,
              "model_id": "8bbbea91113d4d1299c434c6dcc80c37"
            }
          },
          "metadata": {}
        },
        {
          "output_type": "display_data",
          "data": {
            "text/plain": [
              "Downloading:   0%|          | 0.00/39.3k [00:00<?, ?B/s]"
            ],
            "application/vnd.jupyter.widget-view+json": {
              "version_major": 2,
              "version_minor": 0,
              "model_id": "7855af01508b430e97b2f0cb3b2045b0"
            }
          },
          "metadata": {}
        },
        {
          "output_type": "display_data",
          "data": {
            "text/plain": [
              "Downloading:   0%|          | 0.00/90.9M [00:00<?, ?B/s]"
            ],
            "application/vnd.jupyter.widget-view+json": {
              "version_major": 2,
              "version_minor": 0,
              "model_id": "89899989b11645afbaf705ac3e3f1147"
            }
          },
          "metadata": {}
        },
        {
          "output_type": "display_data",
          "data": {
            "text/plain": [
              "Downloading:   0%|          | 0.00/53.0 [00:00<?, ?B/s]"
            ],
            "application/vnd.jupyter.widget-view+json": {
              "version_major": 2,
              "version_minor": 0,
              "model_id": "e33be7f4b6284239a940fd8a10004610"
            }
          },
          "metadata": {}
        },
        {
          "output_type": "display_data",
          "data": {
            "text/plain": [
              "Downloading:   0%|          | 0.00/112 [00:00<?, ?B/s]"
            ],
            "application/vnd.jupyter.widget-view+json": {
              "version_major": 2,
              "version_minor": 0,
              "model_id": "b5f93967e38e42fb8e2e3f871b5e032c"
            }
          },
          "metadata": {}
        },
        {
          "output_type": "display_data",
          "data": {
            "text/plain": [
              "Downloading:   0%|          | 0.00/466k [00:00<?, ?B/s]"
            ],
            "application/vnd.jupyter.widget-view+json": {
              "version_major": 2,
              "version_minor": 0,
              "model_id": "0aa065f4c60c472b982d1b5225c1a18c"
            }
          },
          "metadata": {}
        },
        {
          "output_type": "display_data",
          "data": {
            "text/plain": [
              "Downloading:   0%|          | 0.00/350 [00:00<?, ?B/s]"
            ],
            "application/vnd.jupyter.widget-view+json": {
              "version_major": 2,
              "version_minor": 0,
              "model_id": "ae5e6b2ec046456299d405b28b973798"
            }
          },
          "metadata": {}
        },
        {
          "output_type": "display_data",
          "data": {
            "text/plain": [
              "Downloading:   0%|          | 0.00/13.2k [00:00<?, ?B/s]"
            ],
            "application/vnd.jupyter.widget-view+json": {
              "version_major": 2,
              "version_minor": 0,
              "model_id": "883448b98b7b4c93b92943daab007143"
            }
          },
          "metadata": {}
        },
        {
          "output_type": "display_data",
          "data": {
            "text/plain": [
              "Downloading:   0%|          | 0.00/232k [00:00<?, ?B/s]"
            ],
            "application/vnd.jupyter.widget-view+json": {
              "version_major": 2,
              "version_minor": 0,
              "model_id": "5fae20de992c4b66a6830d07a3694662"
            }
          },
          "metadata": {}
        },
        {
          "output_type": "display_data",
          "data": {
            "text/plain": [
              "Downloading:   0%|          | 0.00/349 [00:00<?, ?B/s]"
            ],
            "application/vnd.jupyter.widget-view+json": {
              "version_major": 2,
              "version_minor": 0,
              "model_id": "3925101b96ac427a931ef6d98544cc40"
            }
          },
          "metadata": {}
        },
        {
          "output_type": "display_data",
          "data": {
            "text/plain": [
              "Batches:   0%|          | 0/3159 [00:00<?, ?it/s]"
            ],
            "application/vnd.jupyter.widget-view+json": {
              "version_major": 2,
              "version_minor": 0,
              "model_id": "5e49a79f12ff48059dbd38d291999063"
            }
          },
          "metadata": {}
        },
        {
          "output_type": "stream",
          "name": "stderr",
          "text": [
            "2022-07-15 03:05:25,649 - BERTopic - Transformed documents to Embeddings\n",
            "/usr/local/lib/python3.7/dist-packages/numba/np/ufunc/parallel.py:363: NumbaWarning: The TBB threading layer requires TBB version 2019.5 or later i.e., TBB_INTERFACE_VERSION >= 11005. Found TBB_INTERFACE_VERSION = 9107. The TBB threading layer is disabled.\n",
            "  warnings.warn(problem)\n",
            "2022-07-15 03:10:35,779 - BERTopic - Reduced dimensionality\n"
          ]
        }
      ],
      "source": [
        "topics, probs = topic_model.fit_transform(stemmed_titles_j)"
      ]
    },
    {
      "cell_type": "code",
      "source": [
        "new_topics = [np.argmax(prob) if max(prob) >= 0.01 else -1 for prob in probs]\n",
        "topic_model.update_topics(stemmed_titles_j, new_topics)\n",
        "documents = pd.DataFrame({\"Document\": stemmed_titles_j, \"Topic\": new_topics})\n",
        "topic_model._update_topic_size(documents)"
      ],
      "metadata": {
        "id": "heyVE9U6db7O"
      },
      "execution_count": null,
      "outputs": []
    },
    {
      "cell_type": "code",
      "execution_count": null,
      "metadata": {
        "colab": {
          "base_uri": "https://localhost:8080/",
          "height": 667
        },
        "id": "FkoPPiYsxy9b",
        "outputId": "8d722c91-5d40-4aab-952f-ae7a18475c64"
      },
      "outputs": [
        {
          "output_type": "display_data",
          "data": {
            "text/html": [
              "<html>\n",
              "<head><meta charset=\"utf-8\" /></head>\n",
              "<body>\n",
              "    <div>            <script src=\"https://cdnjs.cloudflare.com/ajax/libs/mathjax/2.7.5/MathJax.js?config=TeX-AMS-MML_SVG\"></script><script type=\"text/javascript\">if (window.MathJax) {MathJax.Hub.Config({SVG: {font: \"STIX-Web\"}});}</script>                <script type=\"text/javascript\">window.PlotlyConfig = {MathJaxConfig: 'local'};</script>\n",
              "        <script src=\"https://cdn.plot.ly/plotly-2.8.3.min.js\"></script>                <div id=\"9ac1dc87-c786-441e-a1f1-dce4e0d135f1\" class=\"plotly-graph-div\" style=\"height:650px; width:650px;\"></div>            <script type=\"text/javascript\">                                    window.PLOTLYENV=window.PLOTLYENV || {};                                    if (document.getElementById(\"9ac1dc87-c786-441e-a1f1-dce4e0d135f1\")) {                    Plotly.newPlot(                        \"9ac1dc87-c786-441e-a1f1-dce4e0d135f1\",                        [{\"customdata\":[[1,\"market | research | assist | sale | human resourc\",4103],[2,\"qualiti | assur | qualiti assur | control | qualiti control\",3099],[3,\"oper | machin | machin oper | press | press oper\",3055],[4,\"dispatch | coordin | contract | trader | import\",2812]],\"hovertemplate\":\"<b>Topic %{customdata[0]}</b><br>Words: %{customdata[1]}<br>Size: %{customdata[2]}\",\"legendgroup\":\"\",\"marker\":{\"color\":\"#B0BEC5\",\"size\":[4103,3099,3055,2812],\"sizemode\":\"area\",\"sizeref\":2.564375,\"symbol\":\"circle\",\"line\":{\"color\":\"DarkSlateGrey\",\"width\":2}},\"mode\":\"markers\",\"name\":\"\",\"orientation\":\"v\",\"showlegend\":false,\"x\":[4.179565906524658,4.587854385375977,4.114569187164307,4.731614112854004],\"xaxis\":\"x\",\"y\":[3.5121350288391113,3.9199726581573486,18.650178909301758,19.3470401763916],\"yaxis\":\"y\",\"type\":\"scatter\"}],                        {\"template\":{\"data\":{\"barpolar\":[{\"marker\":{\"line\":{\"color\":\"white\",\"width\":0.5},\"pattern\":{\"fillmode\":\"overlay\",\"size\":10,\"solidity\":0.2}},\"type\":\"barpolar\"}],\"bar\":[{\"error_x\":{\"color\":\"rgb(36,36,36)\"},\"error_y\":{\"color\":\"rgb(36,36,36)\"},\"marker\":{\"line\":{\"color\":\"white\",\"width\":0.5},\"pattern\":{\"fillmode\":\"overlay\",\"size\":10,\"solidity\":0.2}},\"type\":\"bar\"}],\"carpet\":[{\"aaxis\":{\"endlinecolor\":\"rgb(36,36,36)\",\"gridcolor\":\"white\",\"linecolor\":\"white\",\"minorgridcolor\":\"white\",\"startlinecolor\":\"rgb(36,36,36)\"},\"baxis\":{\"endlinecolor\":\"rgb(36,36,36)\",\"gridcolor\":\"white\",\"linecolor\":\"white\",\"minorgridcolor\":\"white\",\"startlinecolor\":\"rgb(36,36,36)\"},\"type\":\"carpet\"}],\"choropleth\":[{\"colorbar\":{\"outlinewidth\":1,\"tickcolor\":\"rgb(36,36,36)\",\"ticks\":\"outside\"},\"type\":\"choropleth\"}],\"contourcarpet\":[{\"colorbar\":{\"outlinewidth\":1,\"tickcolor\":\"rgb(36,36,36)\",\"ticks\":\"outside\"},\"type\":\"contourcarpet\"}],\"contour\":[{\"colorbar\":{\"outlinewidth\":1,\"tickcolor\":\"rgb(36,36,36)\",\"ticks\":\"outside\"},\"colorscale\":[[0.0,\"#440154\"],[0.1111111111111111,\"#482878\"],[0.2222222222222222,\"#3e4989\"],[0.3333333333333333,\"#31688e\"],[0.4444444444444444,\"#26828e\"],[0.5555555555555556,\"#1f9e89\"],[0.6666666666666666,\"#35b779\"],[0.7777777777777778,\"#6ece58\"],[0.8888888888888888,\"#b5de2b\"],[1.0,\"#fde725\"]],\"type\":\"contour\"}],\"heatmapgl\":[{\"colorbar\":{\"outlinewidth\":1,\"tickcolor\":\"rgb(36,36,36)\",\"ticks\":\"outside\"},\"colorscale\":[[0.0,\"#440154\"],[0.1111111111111111,\"#482878\"],[0.2222222222222222,\"#3e4989\"],[0.3333333333333333,\"#31688e\"],[0.4444444444444444,\"#26828e\"],[0.5555555555555556,\"#1f9e89\"],[0.6666666666666666,\"#35b779\"],[0.7777777777777778,\"#6ece58\"],[0.8888888888888888,\"#b5de2b\"],[1.0,\"#fde725\"]],\"type\":\"heatmapgl\"}],\"heatmap\":[{\"colorbar\":{\"outlinewidth\":1,\"tickcolor\":\"rgb(36,36,36)\",\"ticks\":\"outside\"},\"colorscale\":[[0.0,\"#440154\"],[0.1111111111111111,\"#482878\"],[0.2222222222222222,\"#3e4989\"],[0.3333333333333333,\"#31688e\"],[0.4444444444444444,\"#26828e\"],[0.5555555555555556,\"#1f9e89\"],[0.6666666666666666,\"#35b779\"],[0.7777777777777778,\"#6ece58\"],[0.8888888888888888,\"#b5de2b\"],[1.0,\"#fde725\"]],\"type\":\"heatmap\"}],\"histogram2dcontour\":[{\"colorbar\":{\"outlinewidth\":1,\"tickcolor\":\"rgb(36,36,36)\",\"ticks\":\"outside\"},\"colorscale\":[[0.0,\"#440154\"],[0.1111111111111111,\"#482878\"],[0.2222222222222222,\"#3e4989\"],[0.3333333333333333,\"#31688e\"],[0.4444444444444444,\"#26828e\"],[0.5555555555555556,\"#1f9e89\"],[0.6666666666666666,\"#35b779\"],[0.7777777777777778,\"#6ece58\"],[0.8888888888888888,\"#b5de2b\"],[1.0,\"#fde725\"]],\"type\":\"histogram2dcontour\"}],\"histogram2d\":[{\"colorbar\":{\"outlinewidth\":1,\"tickcolor\":\"rgb(36,36,36)\",\"ticks\":\"outside\"},\"colorscale\":[[0.0,\"#440154\"],[0.1111111111111111,\"#482878\"],[0.2222222222222222,\"#3e4989\"],[0.3333333333333333,\"#31688e\"],[0.4444444444444444,\"#26828e\"],[0.5555555555555556,\"#1f9e89\"],[0.6666666666666666,\"#35b779\"],[0.7777777777777778,\"#6ece58\"],[0.8888888888888888,\"#b5de2b\"],[1.0,\"#fde725\"]],\"type\":\"histogram2d\"}],\"histogram\":[{\"marker\":{\"line\":{\"color\":\"white\",\"width\":0.6}},\"type\":\"histogram\"}],\"mesh3d\":[{\"colorbar\":{\"outlinewidth\":1,\"tickcolor\":\"rgb(36,36,36)\",\"ticks\":\"outside\"},\"type\":\"mesh3d\"}],\"parcoords\":[{\"line\":{\"colorbar\":{\"outlinewidth\":1,\"tickcolor\":\"rgb(36,36,36)\",\"ticks\":\"outside\"}},\"type\":\"parcoords\"}],\"pie\":[{\"automargin\":true,\"type\":\"pie\"}],\"scatter3d\":[{\"line\":{\"colorbar\":{\"outlinewidth\":1,\"tickcolor\":\"rgb(36,36,36)\",\"ticks\":\"outside\"}},\"marker\":{\"colorbar\":{\"outlinewidth\":1,\"tickcolor\":\"rgb(36,36,36)\",\"ticks\":\"outside\"}},\"type\":\"scatter3d\"}],\"scattercarpet\":[{\"marker\":{\"colorbar\":{\"outlinewidth\":1,\"tickcolor\":\"rgb(36,36,36)\",\"ticks\":\"outside\"}},\"type\":\"scattercarpet\"}],\"scattergeo\":[{\"marker\":{\"colorbar\":{\"outlinewidth\":1,\"tickcolor\":\"rgb(36,36,36)\",\"ticks\":\"outside\"}},\"type\":\"scattergeo\"}],\"scattergl\":[{\"marker\":{\"colorbar\":{\"outlinewidth\":1,\"tickcolor\":\"rgb(36,36,36)\",\"ticks\":\"outside\"}},\"type\":\"scattergl\"}],\"scattermapbox\":[{\"marker\":{\"colorbar\":{\"outlinewidth\":1,\"tickcolor\":\"rgb(36,36,36)\",\"ticks\":\"outside\"}},\"type\":\"scattermapbox\"}],\"scatterpolargl\":[{\"marker\":{\"colorbar\":{\"outlinewidth\":1,\"tickcolor\":\"rgb(36,36,36)\",\"ticks\":\"outside\"}},\"type\":\"scatterpolargl\"}],\"scatterpolar\":[{\"marker\":{\"colorbar\":{\"outlinewidth\":1,\"tickcolor\":\"rgb(36,36,36)\",\"ticks\":\"outside\"}},\"type\":\"scatterpolar\"}],\"scatter\":[{\"marker\":{\"colorbar\":{\"outlinewidth\":1,\"tickcolor\":\"rgb(36,36,36)\",\"ticks\":\"outside\"}},\"type\":\"scatter\"}],\"scatterternary\":[{\"marker\":{\"colorbar\":{\"outlinewidth\":1,\"tickcolor\":\"rgb(36,36,36)\",\"ticks\":\"outside\"}},\"type\":\"scatterternary\"}],\"surface\":[{\"colorbar\":{\"outlinewidth\":1,\"tickcolor\":\"rgb(36,36,36)\",\"ticks\":\"outside\"},\"colorscale\":[[0.0,\"#440154\"],[0.1111111111111111,\"#482878\"],[0.2222222222222222,\"#3e4989\"],[0.3333333333333333,\"#31688e\"],[0.4444444444444444,\"#26828e\"],[0.5555555555555556,\"#1f9e89\"],[0.6666666666666666,\"#35b779\"],[0.7777777777777778,\"#6ece58\"],[0.8888888888888888,\"#b5de2b\"],[1.0,\"#fde725\"]],\"type\":\"surface\"}],\"table\":[{\"cells\":{\"fill\":{\"color\":\"rgb(237,237,237)\"},\"line\":{\"color\":\"white\"}},\"header\":{\"fill\":{\"color\":\"rgb(217,217,217)\"},\"line\":{\"color\":\"white\"}},\"type\":\"table\"}]},\"layout\":{\"annotationdefaults\":{\"arrowhead\":0,\"arrowwidth\":1},\"autotypenumbers\":\"strict\",\"coloraxis\":{\"colorbar\":{\"outlinewidth\":1,\"tickcolor\":\"rgb(36,36,36)\",\"ticks\":\"outside\"}},\"colorscale\":{\"diverging\":[[0.0,\"rgb(103,0,31)\"],[0.1,\"rgb(178,24,43)\"],[0.2,\"rgb(214,96,77)\"],[0.3,\"rgb(244,165,130)\"],[0.4,\"rgb(253,219,199)\"],[0.5,\"rgb(247,247,247)\"],[0.6,\"rgb(209,229,240)\"],[0.7,\"rgb(146,197,222)\"],[0.8,\"rgb(67,147,195)\"],[0.9,\"rgb(33,102,172)\"],[1.0,\"rgb(5,48,97)\"]],\"sequential\":[[0.0,\"#440154\"],[0.1111111111111111,\"#482878\"],[0.2222222222222222,\"#3e4989\"],[0.3333333333333333,\"#31688e\"],[0.4444444444444444,\"#26828e\"],[0.5555555555555556,\"#1f9e89\"],[0.6666666666666666,\"#35b779\"],[0.7777777777777778,\"#6ece58\"],[0.8888888888888888,\"#b5de2b\"],[1.0,\"#fde725\"]],\"sequentialminus\":[[0.0,\"#440154\"],[0.1111111111111111,\"#482878\"],[0.2222222222222222,\"#3e4989\"],[0.3333333333333333,\"#31688e\"],[0.4444444444444444,\"#26828e\"],[0.5555555555555556,\"#1f9e89\"],[0.6666666666666666,\"#35b779\"],[0.7777777777777778,\"#6ece58\"],[0.8888888888888888,\"#b5de2b\"],[1.0,\"#fde725\"]]},\"colorway\":[\"#1F77B4\",\"#FF7F0E\",\"#2CA02C\",\"#D62728\",\"#9467BD\",\"#8C564B\",\"#E377C2\",\"#7F7F7F\",\"#BCBD22\",\"#17BECF\"],\"font\":{\"color\":\"rgb(36,36,36)\"},\"geo\":{\"bgcolor\":\"white\",\"lakecolor\":\"white\",\"landcolor\":\"white\",\"showlakes\":true,\"showland\":true,\"subunitcolor\":\"white\"},\"hoverlabel\":{\"align\":\"left\"},\"hovermode\":\"closest\",\"mapbox\":{\"style\":\"light\"},\"paper_bgcolor\":\"white\",\"plot_bgcolor\":\"white\",\"polar\":{\"angularaxis\":{\"gridcolor\":\"rgb(232,232,232)\",\"linecolor\":\"rgb(36,36,36)\",\"showgrid\":false,\"showline\":true,\"ticks\":\"outside\"},\"bgcolor\":\"white\",\"radialaxis\":{\"gridcolor\":\"rgb(232,232,232)\",\"linecolor\":\"rgb(36,36,36)\",\"showgrid\":false,\"showline\":true,\"ticks\":\"outside\"}},\"scene\":{\"xaxis\":{\"backgroundcolor\":\"white\",\"gridcolor\":\"rgb(232,232,232)\",\"gridwidth\":2,\"linecolor\":\"rgb(36,36,36)\",\"showbackground\":true,\"showgrid\":false,\"showline\":true,\"ticks\":\"outside\",\"zeroline\":false,\"zerolinecolor\":\"rgb(36,36,36)\"},\"yaxis\":{\"backgroundcolor\":\"white\",\"gridcolor\":\"rgb(232,232,232)\",\"gridwidth\":2,\"linecolor\":\"rgb(36,36,36)\",\"showbackground\":true,\"showgrid\":false,\"showline\":true,\"ticks\":\"outside\",\"zeroline\":false,\"zerolinecolor\":\"rgb(36,36,36)\"},\"zaxis\":{\"backgroundcolor\":\"white\",\"gridcolor\":\"rgb(232,232,232)\",\"gridwidth\":2,\"linecolor\":\"rgb(36,36,36)\",\"showbackground\":true,\"showgrid\":false,\"showline\":true,\"ticks\":\"outside\",\"zeroline\":false,\"zerolinecolor\":\"rgb(36,36,36)\"}},\"shapedefaults\":{\"fillcolor\":\"black\",\"line\":{\"width\":0},\"opacity\":0.3},\"ternary\":{\"aaxis\":{\"gridcolor\":\"rgb(232,232,232)\",\"linecolor\":\"rgb(36,36,36)\",\"showgrid\":false,\"showline\":true,\"ticks\":\"outside\"},\"baxis\":{\"gridcolor\":\"rgb(232,232,232)\",\"linecolor\":\"rgb(36,36,36)\",\"showgrid\":false,\"showline\":true,\"ticks\":\"outside\"},\"bgcolor\":\"white\",\"caxis\":{\"gridcolor\":\"rgb(232,232,232)\",\"linecolor\":\"rgb(36,36,36)\",\"showgrid\":false,\"showline\":true,\"ticks\":\"outside\"}},\"title\":{\"x\":0.05},\"xaxis\":{\"automargin\":true,\"gridcolor\":\"rgb(232,232,232)\",\"linecolor\":\"rgb(36,36,36)\",\"showgrid\":false,\"showline\":true,\"ticks\":\"outside\",\"title\":{\"standoff\":15},\"zeroline\":false,\"zerolinecolor\":\"rgb(36,36,36)\"},\"yaxis\":{\"automargin\":true,\"gridcolor\":\"rgb(232,232,232)\",\"linecolor\":\"rgb(36,36,36)\",\"showgrid\":false,\"showline\":true,\"ticks\":\"outside\",\"title\":{\"standoff\":15},\"zeroline\":false,\"zerolinecolor\":\"rgb(36,36,36)\"}}},\"xaxis\":{\"anchor\":\"y\",\"domain\":[0.0,1.0],\"title\":{\"text\":\"\"},\"visible\":false,\"range\":[3.4973838090896607,5.441356229782104]},\"yaxis\":{\"anchor\":\"x\",\"domain\":[0.0,1.0],\"title\":{\"text\":\"\"},\"visible\":false,\"range\":[2.9853147745132445,22.249096202850343]},\"legend\":{\"tracegroupgap\":0,\"itemsizing\":\"constant\"},\"margin\":{\"t\":60},\"title\":{\"font\":{\"size\":22,\"color\":\"Black\"},\"text\":\"<b>Intertopic Distance Map\",\"y\":0.95,\"x\":0.5,\"xanchor\":\"center\",\"yanchor\":\"top\"},\"hoverlabel\":{\"font\":{\"size\":16,\"family\":\"Rockwell\"},\"bgcolor\":\"white\"},\"width\":650,\"height\":650,\"sliders\":[{\"active\":0,\"pad\":{\"t\":50},\"steps\":[{\"args\":[{\"marker.color\":[[\"red\",\"#B0BEC5\",\"#B0BEC5\",\"#B0BEC5\"]]}],\"label\":\"Topic 1\",\"method\":\"update\"},{\"args\":[{\"marker.color\":[[\"#B0BEC5\",\"red\",\"#B0BEC5\",\"#B0BEC5\"]]}],\"label\":\"Topic 2\",\"method\":\"update\"},{\"args\":[{\"marker.color\":[[\"#B0BEC5\",\"#B0BEC5\",\"red\",\"#B0BEC5\"]]}],\"label\":\"Topic 3\",\"method\":\"update\"},{\"args\":[{\"marker.color\":[[\"#B0BEC5\",\"#B0BEC5\",\"#B0BEC5\",\"red\"]]}],\"label\":\"Topic 4\",\"method\":\"update\"}]}],\"shapes\":[{\"line\":{\"color\":\"#CFD8DC\",\"width\":2},\"type\":\"line\",\"x0\":4.469370019435883,\"x1\":4.469370019435883,\"y0\":2.9853147745132445,\"y1\":22.249096202850343},{\"line\":{\"color\":\"#9E9E9E\",\"width\":2},\"type\":\"line\",\"x0\":3.4973838090896607,\"x1\":5.441356229782104,\"y0\":12.617205488681794,\"y1\":12.617205488681794}],\"annotations\":[{\"showarrow\":false,\"text\":\"D1\",\"x\":3.4973838090896607,\"y\":12.617205488681794,\"yshift\":10},{\"showarrow\":false,\"text\":\"D2\",\"x\":4.469370019435883,\"xshift\":10,\"y\":22.249096202850343}]},                        {\"responsive\": true}                    ).then(function(){\n",
              "                            \n",
              "var gd = document.getElementById('9ac1dc87-c786-441e-a1f1-dce4e0d135f1');\n",
              "var x = new MutationObserver(function (mutations, observer) {{\n",
              "        var display = window.getComputedStyle(gd).display;\n",
              "        if (!display || display === 'none') {{\n",
              "            console.log([gd, 'removed!']);\n",
              "            Plotly.purge(gd);\n",
              "            observer.disconnect();\n",
              "        }}\n",
              "}});\n",
              "\n",
              "// Listen for the removal of the full notebook cells\n",
              "var notebookContainer = gd.closest('#notebook-container');\n",
              "if (notebookContainer) {{\n",
              "    x.observe(notebookContainer, {childList: true});\n",
              "}}\n",
              "\n",
              "// Listen for the clearing of the current output cell\n",
              "var outputEl = gd.closest('.output');\n",
              "if (outputEl) {{\n",
              "    x.observe(outputEl, {childList: true});\n",
              "}}\n",
              "\n",
              "                        })                };                            </script>        </div>\n",
              "</body>\n",
              "</html>"
            ]
          },
          "metadata": {}
        }
      ],
      "source": [
        "topic_model.visualize_topics()"
      ]
    },
    {
      "cell_type": "code",
      "execution_count": null,
      "metadata": {
        "colab": {
          "base_uri": "https://localhost:8080/",
          "height": 517
        },
        "id": "VtCucLc9yPJi",
        "outputId": "ad6e68d0-6a5e-4a98-be3a-b5ca384599c3"
      },
      "outputs": [
        {
          "output_type": "display_data",
          "data": {
            "text/html": [
              "<html>\n",
              "<head><meta charset=\"utf-8\" /></head>\n",
              "<body>\n",
              "    <div>            <script src=\"https://cdnjs.cloudflare.com/ajax/libs/mathjax/2.7.5/MathJax.js?config=TeX-AMS-MML_SVG\"></script><script type=\"text/javascript\">if (window.MathJax) {MathJax.Hub.Config({SVG: {font: \"STIX-Web\"}});}</script>                <script type=\"text/javascript\">window.PlotlyConfig = {MathJaxConfig: 'local'};</script>\n",
              "        <script src=\"https://cdn.plot.ly/plotly-2.8.3.min.js\"></script>                <div id=\"d9f456d8-44c6-413e-a31b-dd2241ff01e4\" class=\"plotly-graph-div\" style=\"height:500px; width:1000px;\"></div>            <script type=\"text/javascript\">                                    window.PLOTLYENV=window.PLOTLYENV || {};                                    if (document.getElementById(\"d9f456d8-44c6-413e-a31b-dd2241ff01e4\")) {                    Plotly.newPlot(                        \"d9f456d8-44c6-413e-a31b-dd2241ff01e4\",                        [{\"marker\":{\"color\":\"#D55E00\"},\"orientation\":\"h\",\"x\":[0.048049022145811006,0.04998724941830144,0.0715932017067751,0.08733404448191302,0.10567455859363108],\"y\":[\"truck  \",\"engin  \",\"technician  \",\"driver  \",\"mechan  \"],\"type\":\"bar\",\"xaxis\":\"x\",\"yaxis\":\"y\"},{\"marker\":{\"color\":\"#0072B2\"},\"orientation\":\"h\",\"x\":[0.062040449401563155,0.06350724816608301,0.06984811219868797,0.07051041781093746,0.09167037191252947],\"y\":[\"human resourc  \",\"sale  \",\"assist  \",\"research  \",\"market  \"],\"type\":\"bar\",\"xaxis\":\"x2\",\"yaxis\":\"y2\"},{\"marker\":{\"color\":\"#CC79A7\"},\"orientation\":\"h\",\"x\":[0.0665797666286913,0.07357106132604194,0.08257561271042278,0.08412810508997971,0.1778775032289742],\"y\":[\"qualiti control  \",\"control  \",\"qualiti assur  \",\"assur  \",\"qualiti  \"],\"type\":\"bar\",\"xaxis\":\"x3\",\"yaxis\":\"y3\"},{\"marker\":{\"color\":\"#E69F00\"},\"orientation\":\"h\",\"x\":[0.05300061874059434,0.05987103519330163,0.15891781395741983,0.1723153997557167,0.24212572653355405],\"y\":[\"press oper  \",\"press  \",\"machin oper  \",\"machin  \",\"oper  \"],\"type\":\"bar\",\"xaxis\":\"x4\",\"yaxis\":\"y4\"},{\"marker\":{\"color\":\"#56B4E9\"},\"orientation\":\"h\",\"x\":[0.054482883699042174,0.05712311842443891,0.05850705473141876,0.059477866133031417,0.06227956430057122],\"y\":[\"import  \",\"trader  \",\"contract  \",\"coordin  \",\"dispatch  \"],\"type\":\"bar\",\"xaxis\":\"x5\",\"yaxis\":\"y5\"}],                        {\"template\":{\"data\":{\"barpolar\":[{\"marker\":{\"line\":{\"color\":\"white\",\"width\":0.5},\"pattern\":{\"fillmode\":\"overlay\",\"size\":10,\"solidity\":0.2}},\"type\":\"barpolar\"}],\"bar\":[{\"error_x\":{\"color\":\"#2a3f5f\"},\"error_y\":{\"color\":\"#2a3f5f\"},\"marker\":{\"line\":{\"color\":\"white\",\"width\":0.5},\"pattern\":{\"fillmode\":\"overlay\",\"size\":10,\"solidity\":0.2}},\"type\":\"bar\"}],\"carpet\":[{\"aaxis\":{\"endlinecolor\":\"#2a3f5f\",\"gridcolor\":\"#C8D4E3\",\"linecolor\":\"#C8D4E3\",\"minorgridcolor\":\"#C8D4E3\",\"startlinecolor\":\"#2a3f5f\"},\"baxis\":{\"endlinecolor\":\"#2a3f5f\",\"gridcolor\":\"#C8D4E3\",\"linecolor\":\"#C8D4E3\",\"minorgridcolor\":\"#C8D4E3\",\"startlinecolor\":\"#2a3f5f\"},\"type\":\"carpet\"}],\"choropleth\":[{\"colorbar\":{\"outlinewidth\":0,\"ticks\":\"\"},\"type\":\"choropleth\"}],\"contourcarpet\":[{\"colorbar\":{\"outlinewidth\":0,\"ticks\":\"\"},\"type\":\"contourcarpet\"}],\"contour\":[{\"colorbar\":{\"outlinewidth\":0,\"ticks\":\"\"},\"colorscale\":[[0.0,\"#0d0887\"],[0.1111111111111111,\"#46039f\"],[0.2222222222222222,\"#7201a8\"],[0.3333333333333333,\"#9c179e\"],[0.4444444444444444,\"#bd3786\"],[0.5555555555555556,\"#d8576b\"],[0.6666666666666666,\"#ed7953\"],[0.7777777777777778,\"#fb9f3a\"],[0.8888888888888888,\"#fdca26\"],[1.0,\"#f0f921\"]],\"type\":\"contour\"}],\"heatmapgl\":[{\"colorbar\":{\"outlinewidth\":0,\"ticks\":\"\"},\"colorscale\":[[0.0,\"#0d0887\"],[0.1111111111111111,\"#46039f\"],[0.2222222222222222,\"#7201a8\"],[0.3333333333333333,\"#9c179e\"],[0.4444444444444444,\"#bd3786\"],[0.5555555555555556,\"#d8576b\"],[0.6666666666666666,\"#ed7953\"],[0.7777777777777778,\"#fb9f3a\"],[0.8888888888888888,\"#fdca26\"],[1.0,\"#f0f921\"]],\"type\":\"heatmapgl\"}],\"heatmap\":[{\"colorbar\":{\"outlinewidth\":0,\"ticks\":\"\"},\"colorscale\":[[0.0,\"#0d0887\"],[0.1111111111111111,\"#46039f\"],[0.2222222222222222,\"#7201a8\"],[0.3333333333333333,\"#9c179e\"],[0.4444444444444444,\"#bd3786\"],[0.5555555555555556,\"#d8576b\"],[0.6666666666666666,\"#ed7953\"],[0.7777777777777778,\"#fb9f3a\"],[0.8888888888888888,\"#fdca26\"],[1.0,\"#f0f921\"]],\"type\":\"heatmap\"}],\"histogram2dcontour\":[{\"colorbar\":{\"outlinewidth\":0,\"ticks\":\"\"},\"colorscale\":[[0.0,\"#0d0887\"],[0.1111111111111111,\"#46039f\"],[0.2222222222222222,\"#7201a8\"],[0.3333333333333333,\"#9c179e\"],[0.4444444444444444,\"#bd3786\"],[0.5555555555555556,\"#d8576b\"],[0.6666666666666666,\"#ed7953\"],[0.7777777777777778,\"#fb9f3a\"],[0.8888888888888888,\"#fdca26\"],[1.0,\"#f0f921\"]],\"type\":\"histogram2dcontour\"}],\"histogram2d\":[{\"colorbar\":{\"outlinewidth\":0,\"ticks\":\"\"},\"colorscale\":[[0.0,\"#0d0887\"],[0.1111111111111111,\"#46039f\"],[0.2222222222222222,\"#7201a8\"],[0.3333333333333333,\"#9c179e\"],[0.4444444444444444,\"#bd3786\"],[0.5555555555555556,\"#d8576b\"],[0.6666666666666666,\"#ed7953\"],[0.7777777777777778,\"#fb9f3a\"],[0.8888888888888888,\"#fdca26\"],[1.0,\"#f0f921\"]],\"type\":\"histogram2d\"}],\"histogram\":[{\"marker\":{\"pattern\":{\"fillmode\":\"overlay\",\"size\":10,\"solidity\":0.2}},\"type\":\"histogram\"}],\"mesh3d\":[{\"colorbar\":{\"outlinewidth\":0,\"ticks\":\"\"},\"type\":\"mesh3d\"}],\"parcoords\":[{\"line\":{\"colorbar\":{\"outlinewidth\":0,\"ticks\":\"\"}},\"type\":\"parcoords\"}],\"pie\":[{\"automargin\":true,\"type\":\"pie\"}],\"scatter3d\":[{\"line\":{\"colorbar\":{\"outlinewidth\":0,\"ticks\":\"\"}},\"marker\":{\"colorbar\":{\"outlinewidth\":0,\"ticks\":\"\"}},\"type\":\"scatter3d\"}],\"scattercarpet\":[{\"marker\":{\"colorbar\":{\"outlinewidth\":0,\"ticks\":\"\"}},\"type\":\"scattercarpet\"}],\"scattergeo\":[{\"marker\":{\"colorbar\":{\"outlinewidth\":0,\"ticks\":\"\"}},\"type\":\"scattergeo\"}],\"scattergl\":[{\"marker\":{\"colorbar\":{\"outlinewidth\":0,\"ticks\":\"\"}},\"type\":\"scattergl\"}],\"scattermapbox\":[{\"marker\":{\"colorbar\":{\"outlinewidth\":0,\"ticks\":\"\"}},\"type\":\"scattermapbox\"}],\"scatterpolargl\":[{\"marker\":{\"colorbar\":{\"outlinewidth\":0,\"ticks\":\"\"}},\"type\":\"scatterpolargl\"}],\"scatterpolar\":[{\"marker\":{\"colorbar\":{\"outlinewidth\":0,\"ticks\":\"\"}},\"type\":\"scatterpolar\"}],\"scatter\":[{\"marker\":{\"colorbar\":{\"outlinewidth\":0,\"ticks\":\"\"}},\"type\":\"scatter\"}],\"scatterternary\":[{\"marker\":{\"colorbar\":{\"outlinewidth\":0,\"ticks\":\"\"}},\"type\":\"scatterternary\"}],\"surface\":[{\"colorbar\":{\"outlinewidth\":0,\"ticks\":\"\"},\"colorscale\":[[0.0,\"#0d0887\"],[0.1111111111111111,\"#46039f\"],[0.2222222222222222,\"#7201a8\"],[0.3333333333333333,\"#9c179e\"],[0.4444444444444444,\"#bd3786\"],[0.5555555555555556,\"#d8576b\"],[0.6666666666666666,\"#ed7953\"],[0.7777777777777778,\"#fb9f3a\"],[0.8888888888888888,\"#fdca26\"],[1.0,\"#f0f921\"]],\"type\":\"surface\"}],\"table\":[{\"cells\":{\"fill\":{\"color\":\"#EBF0F8\"},\"line\":{\"color\":\"white\"}},\"header\":{\"fill\":{\"color\":\"#C8D4E3\"},\"line\":{\"color\":\"white\"}},\"type\":\"table\"}]},\"layout\":{\"annotationdefaults\":{\"arrowcolor\":\"#2a3f5f\",\"arrowhead\":0,\"arrowwidth\":1},\"autotypenumbers\":\"strict\",\"coloraxis\":{\"colorbar\":{\"outlinewidth\":0,\"ticks\":\"\"}},\"colorscale\":{\"diverging\":[[0,\"#8e0152\"],[0.1,\"#c51b7d\"],[0.2,\"#de77ae\"],[0.3,\"#f1b6da\"],[0.4,\"#fde0ef\"],[0.5,\"#f7f7f7\"],[0.6,\"#e6f5d0\"],[0.7,\"#b8e186\"],[0.8,\"#7fbc41\"],[0.9,\"#4d9221\"],[1,\"#276419\"]],\"sequential\":[[0.0,\"#0d0887\"],[0.1111111111111111,\"#46039f\"],[0.2222222222222222,\"#7201a8\"],[0.3333333333333333,\"#9c179e\"],[0.4444444444444444,\"#bd3786\"],[0.5555555555555556,\"#d8576b\"],[0.6666666666666666,\"#ed7953\"],[0.7777777777777778,\"#fb9f3a\"],[0.8888888888888888,\"#fdca26\"],[1.0,\"#f0f921\"]],\"sequentialminus\":[[0.0,\"#0d0887\"],[0.1111111111111111,\"#46039f\"],[0.2222222222222222,\"#7201a8\"],[0.3333333333333333,\"#9c179e\"],[0.4444444444444444,\"#bd3786\"],[0.5555555555555556,\"#d8576b\"],[0.6666666666666666,\"#ed7953\"],[0.7777777777777778,\"#fb9f3a\"],[0.8888888888888888,\"#fdca26\"],[1.0,\"#f0f921\"]]},\"colorway\":[\"#636efa\",\"#EF553B\",\"#00cc96\",\"#ab63fa\",\"#FFA15A\",\"#19d3f3\",\"#FF6692\",\"#B6E880\",\"#FF97FF\",\"#FECB52\"],\"font\":{\"color\":\"#2a3f5f\"},\"geo\":{\"bgcolor\":\"white\",\"lakecolor\":\"white\",\"landcolor\":\"white\",\"showlakes\":true,\"showland\":true,\"subunitcolor\":\"#C8D4E3\"},\"hoverlabel\":{\"align\":\"left\"},\"hovermode\":\"closest\",\"mapbox\":{\"style\":\"light\"},\"paper_bgcolor\":\"white\",\"plot_bgcolor\":\"white\",\"polar\":{\"angularaxis\":{\"gridcolor\":\"#EBF0F8\",\"linecolor\":\"#EBF0F8\",\"ticks\":\"\"},\"bgcolor\":\"white\",\"radialaxis\":{\"gridcolor\":\"#EBF0F8\",\"linecolor\":\"#EBF0F8\",\"ticks\":\"\"}},\"scene\":{\"xaxis\":{\"backgroundcolor\":\"white\",\"gridcolor\":\"#DFE8F3\",\"gridwidth\":2,\"linecolor\":\"#EBF0F8\",\"showbackground\":true,\"ticks\":\"\",\"zerolinecolor\":\"#EBF0F8\"},\"yaxis\":{\"backgroundcolor\":\"white\",\"gridcolor\":\"#DFE8F3\",\"gridwidth\":2,\"linecolor\":\"#EBF0F8\",\"showbackground\":true,\"ticks\":\"\",\"zerolinecolor\":\"#EBF0F8\"},\"zaxis\":{\"backgroundcolor\":\"white\",\"gridcolor\":\"#DFE8F3\",\"gridwidth\":2,\"linecolor\":\"#EBF0F8\",\"showbackground\":true,\"ticks\":\"\",\"zerolinecolor\":\"#EBF0F8\"}},\"shapedefaults\":{\"line\":{\"color\":\"#2a3f5f\"}},\"ternary\":{\"aaxis\":{\"gridcolor\":\"#DFE8F3\",\"linecolor\":\"#A2B1C6\",\"ticks\":\"\"},\"baxis\":{\"gridcolor\":\"#DFE8F3\",\"linecolor\":\"#A2B1C6\",\"ticks\":\"\"},\"bgcolor\":\"white\",\"caxis\":{\"gridcolor\":\"#DFE8F3\",\"linecolor\":\"#A2B1C6\",\"ticks\":\"\"}},\"title\":{\"x\":0.05},\"xaxis\":{\"automargin\":true,\"gridcolor\":\"#EBF0F8\",\"linecolor\":\"#EBF0F8\",\"ticks\":\"\",\"title\":{\"standoff\":15},\"zerolinecolor\":\"#EBF0F8\",\"zerolinewidth\":2},\"yaxis\":{\"automargin\":true,\"gridcolor\":\"#EBF0F8\",\"linecolor\":\"#EBF0F8\",\"ticks\":\"\",\"title\":{\"standoff\":15},\"zerolinecolor\":\"#EBF0F8\",\"zerolinewidth\":2}}},\"xaxis\":{\"anchor\":\"y\",\"domain\":[0.0,0.175],\"showgrid\":true},\"yaxis\":{\"anchor\":\"x\",\"domain\":[0.6000000000000001,1.0],\"showgrid\":true},\"xaxis2\":{\"anchor\":\"y2\",\"domain\":[0.275,0.45],\"showgrid\":true},\"yaxis2\":{\"anchor\":\"x2\",\"domain\":[0.6000000000000001,1.0],\"showgrid\":true},\"xaxis3\":{\"anchor\":\"y3\",\"domain\":[0.55,0.7250000000000001],\"showgrid\":true},\"yaxis3\":{\"anchor\":\"x3\",\"domain\":[0.6000000000000001,1.0],\"showgrid\":true},\"xaxis4\":{\"anchor\":\"y4\",\"domain\":[0.825,1.0],\"showgrid\":true},\"yaxis4\":{\"anchor\":\"x4\",\"domain\":[0.6000000000000001,1.0],\"showgrid\":true},\"xaxis5\":{\"anchor\":\"y5\",\"domain\":[0.0,0.175],\"showgrid\":true},\"yaxis5\":{\"anchor\":\"x5\",\"domain\":[0.0,0.4],\"showgrid\":true},\"xaxis6\":{\"anchor\":\"y6\",\"domain\":[0.275,0.45],\"showgrid\":true},\"yaxis6\":{\"anchor\":\"x6\",\"domain\":[0.0,0.4],\"showgrid\":true},\"xaxis7\":{\"anchor\":\"y7\",\"domain\":[0.55,0.7250000000000001],\"showgrid\":true},\"yaxis7\":{\"anchor\":\"x7\",\"domain\":[0.0,0.4],\"showgrid\":true},\"xaxis8\":{\"anchor\":\"y8\",\"domain\":[0.825,1.0],\"showgrid\":true},\"yaxis8\":{\"anchor\":\"x8\",\"domain\":[0.0,0.4],\"showgrid\":true},\"annotations\":[{\"font\":{\"size\":16},\"showarrow\":false,\"text\":\"Topic 0\",\"x\":0.0875,\"xanchor\":\"center\",\"xref\":\"paper\",\"y\":1.0,\"yanchor\":\"bottom\",\"yref\":\"paper\"},{\"font\":{\"size\":16},\"showarrow\":false,\"text\":\"Topic 1\",\"x\":0.36250000000000004,\"xanchor\":\"center\",\"xref\":\"paper\",\"y\":1.0,\"yanchor\":\"bottom\",\"yref\":\"paper\"},{\"font\":{\"size\":16},\"showarrow\":false,\"text\":\"Topic 2\",\"x\":0.6375000000000001,\"xanchor\":\"center\",\"xref\":\"paper\",\"y\":1.0,\"yanchor\":\"bottom\",\"yref\":\"paper\"},{\"font\":{\"size\":16},\"showarrow\":false,\"text\":\"Topic 3\",\"x\":0.9125,\"xanchor\":\"center\",\"xref\":\"paper\",\"y\":1.0,\"yanchor\":\"bottom\",\"yref\":\"paper\"},{\"font\":{\"size\":16},\"showarrow\":false,\"text\":\"Topic 4\",\"x\":0.0875,\"xanchor\":\"center\",\"xref\":\"paper\",\"y\":0.4,\"yanchor\":\"bottom\",\"yref\":\"paper\"}],\"title\":{\"font\":{\"size\":22,\"color\":\"Black\"},\"text\":\"<b>Topic Word Scores\",\"x\":0.5,\"xanchor\":\"center\",\"yanchor\":\"top\"},\"hoverlabel\":{\"font\":{\"size\":16,\"family\":\"Rockwell\"},\"bgcolor\":\"white\"},\"showlegend\":false,\"width\":1000,\"height\":500},                        {\"responsive\": true}                    ).then(function(){\n",
              "                            \n",
              "var gd = document.getElementById('d9f456d8-44c6-413e-a31b-dd2241ff01e4');\n",
              "var x = new MutationObserver(function (mutations, observer) {{\n",
              "        var display = window.getComputedStyle(gd).display;\n",
              "        if (!display || display === 'none') {{\n",
              "            console.log([gd, 'removed!']);\n",
              "            Plotly.purge(gd);\n",
              "            observer.disconnect();\n",
              "        }}\n",
              "}});\n",
              "\n",
              "// Listen for the removal of the full notebook cells\n",
              "var notebookContainer = gd.closest('#notebook-container');\n",
              "if (notebookContainer) {{\n",
              "    x.observe(notebookContainer, {childList: true});\n",
              "}}\n",
              "\n",
              "// Listen for the clearing of the current output cell\n",
              "var outputEl = gd.closest('.output');\n",
              "if (outputEl) {{\n",
              "    x.observe(outputEl, {childList: true});\n",
              "}}\n",
              "\n",
              "                        })                };                            </script>        </div>\n",
              "</body>\n",
              "</html>"
            ]
          },
          "metadata": {}
        }
      ],
      "source": [
        "topic_model.visualize_barchart()"
      ]
    },
    {
      "cell_type": "code",
      "execution_count": null,
      "metadata": {
        "colab": {
          "base_uri": "https://localhost:8080/",
          "height": 238
        },
        "id": "f7QQidyN3BkG",
        "outputId": "5ef98a03-6c0d-4c05-db6d-b5745b878497"
      },
      "outputs": [
        {
          "output_type": "execute_result",
          "data": {
            "text/plain": [
              "   Topic  Count                                   Name\n",
              "0     -1  83265  -1_oper_specialist_analyst_technician\n",
              "1      0   4744       0_mechan_driver_technician_engin\n",
              "2      1   4103          1_market_research_assist_sale\n",
              "3      2   3099  2_qualiti_assur_qualiti assur_control\n",
              "4      3   3055        3_oper_machin_machin oper_press\n",
              "5      4   2812     4_dispatch_coordin_contract_trader"
            ],
            "text/html": [
              "\n",
              "  <div id=\"df-1b19acef-01fb-4480-ac04-3f9f7479912a\">\n",
              "    <div class=\"colab-df-container\">\n",
              "      <div>\n",
              "<style scoped>\n",
              "    .dataframe tbody tr th:only-of-type {\n",
              "        vertical-align: middle;\n",
              "    }\n",
              "\n",
              "    .dataframe tbody tr th {\n",
              "        vertical-align: top;\n",
              "    }\n",
              "\n",
              "    .dataframe thead th {\n",
              "        text-align: right;\n",
              "    }\n",
              "</style>\n",
              "<table border=\"1\" class=\"dataframe\">\n",
              "  <thead>\n",
              "    <tr style=\"text-align: right;\">\n",
              "      <th></th>\n",
              "      <th>Topic</th>\n",
              "      <th>Count</th>\n",
              "      <th>Name</th>\n",
              "    </tr>\n",
              "  </thead>\n",
              "  <tbody>\n",
              "    <tr>\n",
              "      <th>0</th>\n",
              "      <td>-1</td>\n",
              "      <td>83265</td>\n",
              "      <td>-1_oper_specialist_analyst_technician</td>\n",
              "    </tr>\n",
              "    <tr>\n",
              "      <th>1</th>\n",
              "      <td>0</td>\n",
              "      <td>4744</td>\n",
              "      <td>0_mechan_driver_technician_engin</td>\n",
              "    </tr>\n",
              "    <tr>\n",
              "      <th>2</th>\n",
              "      <td>1</td>\n",
              "      <td>4103</td>\n",
              "      <td>1_market_research_assist_sale</td>\n",
              "    </tr>\n",
              "    <tr>\n",
              "      <th>3</th>\n",
              "      <td>2</td>\n",
              "      <td>3099</td>\n",
              "      <td>2_qualiti_assur_qualiti assur_control</td>\n",
              "    </tr>\n",
              "    <tr>\n",
              "      <th>4</th>\n",
              "      <td>3</td>\n",
              "      <td>3055</td>\n",
              "      <td>3_oper_machin_machin oper_press</td>\n",
              "    </tr>\n",
              "    <tr>\n",
              "      <th>5</th>\n",
              "      <td>4</td>\n",
              "      <td>2812</td>\n",
              "      <td>4_dispatch_coordin_contract_trader</td>\n",
              "    </tr>\n",
              "  </tbody>\n",
              "</table>\n",
              "</div>\n",
              "      <button class=\"colab-df-convert\" onclick=\"convertToInteractive('df-1b19acef-01fb-4480-ac04-3f9f7479912a')\"\n",
              "              title=\"Convert this dataframe to an interactive table.\"\n",
              "              style=\"display:none;\">\n",
              "        \n",
              "  <svg xmlns=\"http://www.w3.org/2000/svg\" height=\"24px\"viewBox=\"0 0 24 24\"\n",
              "       width=\"24px\">\n",
              "    <path d=\"M0 0h24v24H0V0z\" fill=\"none\"/>\n",
              "    <path d=\"M18.56 5.44l.94 2.06.94-2.06 2.06-.94-2.06-.94-.94-2.06-.94 2.06-2.06.94zm-11 1L8.5 8.5l.94-2.06 2.06-.94-2.06-.94L8.5 2.5l-.94 2.06-2.06.94zm10 10l.94 2.06.94-2.06 2.06-.94-2.06-.94-.94-2.06-.94 2.06-2.06.94z\"/><path d=\"M17.41 7.96l-1.37-1.37c-.4-.4-.92-.59-1.43-.59-.52 0-1.04.2-1.43.59L10.3 9.45l-7.72 7.72c-.78.78-.78 2.05 0 2.83L4 21.41c.39.39.9.59 1.41.59.51 0 1.02-.2 1.41-.59l7.78-7.78 2.81-2.81c.8-.78.8-2.07 0-2.86zM5.41 20L4 18.59l7.72-7.72 1.47 1.35L5.41 20z\"/>\n",
              "  </svg>\n",
              "      </button>\n",
              "      \n",
              "  <style>\n",
              "    .colab-df-container {\n",
              "      display:flex;\n",
              "      flex-wrap:wrap;\n",
              "      gap: 12px;\n",
              "    }\n",
              "\n",
              "    .colab-df-convert {\n",
              "      background-color: #E8F0FE;\n",
              "      border: none;\n",
              "      border-radius: 50%;\n",
              "      cursor: pointer;\n",
              "      display: none;\n",
              "      fill: #1967D2;\n",
              "      height: 32px;\n",
              "      padding: 0 0 0 0;\n",
              "      width: 32px;\n",
              "    }\n",
              "\n",
              "    .colab-df-convert:hover {\n",
              "      background-color: #E2EBFA;\n",
              "      box-shadow: 0px 1px 2px rgba(60, 64, 67, 0.3), 0px 1px 3px 1px rgba(60, 64, 67, 0.15);\n",
              "      fill: #174EA6;\n",
              "    }\n",
              "\n",
              "    [theme=dark] .colab-df-convert {\n",
              "      background-color: #3B4455;\n",
              "      fill: #D2E3FC;\n",
              "    }\n",
              "\n",
              "    [theme=dark] .colab-df-convert:hover {\n",
              "      background-color: #434B5C;\n",
              "      box-shadow: 0px 1px 3px 1px rgba(0, 0, 0, 0.15);\n",
              "      filter: drop-shadow(0px 1px 2px rgba(0, 0, 0, 0.3));\n",
              "      fill: #FFFFFF;\n",
              "    }\n",
              "  </style>\n",
              "\n",
              "      <script>\n",
              "        const buttonEl =\n",
              "          document.querySelector('#df-1b19acef-01fb-4480-ac04-3f9f7479912a button.colab-df-convert');\n",
              "        buttonEl.style.display =\n",
              "          google.colab.kernel.accessAllowed ? 'block' : 'none';\n",
              "\n",
              "        async function convertToInteractive(key) {\n",
              "          const element = document.querySelector('#df-1b19acef-01fb-4480-ac04-3f9f7479912a');\n",
              "          const dataTable =\n",
              "            await google.colab.kernel.invokeFunction('convertToInteractive',\n",
              "                                                     [key], {});\n",
              "          if (!dataTable) return;\n",
              "\n",
              "          const docLinkHtml = 'Like what you see? Visit the ' +\n",
              "            '<a target=\"_blank\" href=https://colab.research.google.com/notebooks/data_table.ipynb>data table notebook</a>'\n",
              "            + ' to learn more about interactive tables.';\n",
              "          element.innerHTML = '';\n",
              "          dataTable['output_type'] = 'display_data';\n",
              "          await google.colab.output.renderOutput(dataTable, element);\n",
              "          const docLink = document.createElement('div');\n",
              "          docLink.innerHTML = docLinkHtml;\n",
              "          element.appendChild(docLink);\n",
              "        }\n",
              "      </script>\n",
              "    </div>\n",
              "  </div>\n",
              "  "
            ]
          },
          "metadata": {},
          "execution_count": 57
        }
      ],
      "source": [
        "topic_model.get_topic_info()"
      ]
    },
    {
      "cell_type": "code",
      "execution_count": null,
      "metadata": {
        "id": "gR6Jelkf0-_s"
      },
      "outputs": [],
      "source": [
        "salarydot['topic'] = topics[0][:len(salarydot)]\n",
        "payscale['topic'] = topics[0][len(salarydot):len(salarydot)+len(payscale)]\n",
        "indeed['topic'] = topics[0][len(salarydot)+len(payscale):len(salarydot)+len(payscale)+len(indeed)]\n",
        "glassdoor['topic'] = topics[0][len(salarydot)+len(payscale)+len(indeed):len(salarydot)+len(payscale)+len(indeed)+len(glassdoor)]\n",
        "onet['topic'] = topics[0][len(salarydot)+len(payscale)+len(indeed)+len(glassdoor):len(salarydot)+len(payscale)+len(indeed)+len(glassdoor)+len(onet)]\n",
        "onet_orig['topic'] = topics[0][len(salarydot)+len(payscale)+len(indeed)+len(glassdoor)+len(onet):]"
      ]
    },
    {
      "cell_type": "code",
      "execution_count": null,
      "metadata": {
        "id": "AZ0tGUo7hV0S"
      },
      "outputs": [],
      "source": [
        "salarydot.to_csv('data/salarydot_upd.csv', index = False)\n",
        "payscale.to_csv('data/payscale_upd.csv', index = False)\n",
        "indeed.to_csv('data/indeed_upd.csv', index = False)\n",
        "glassdoor.to_csv('data/glassdoor_upd.csv', index = False)\n",
        "onet.to_csv('data/onet_upd.csv', index = False)\n",
        "onet_orig.to_csv('data/onet_orig_upd.csv', index = False)"
      ]
    },
    {
      "cell_type": "markdown",
      "metadata": {
        "id": "Gc0m1uUOm5L5"
      },
      "source": [
        "## Distinct match"
      ]
    },
    {
      "cell_type": "code",
      "execution_count": null,
      "metadata": {
        "id": "M7PIQwPUNOS2"
      },
      "outputs": [],
      "source": [
        "salarydot = pd.read_csv('data/salarydot_upd.csv')\n",
        "payscale = pd.read_csv('data/payscale_upd.csv')\n",
        "indeed = pd.read_csv('data/indeed_upd.csv')\n",
        "glassdoor = pd.read_csv('data/glassdoor_upd.csv')\n",
        "onet = pd.read_csv('data/onet_upd.csv')\n",
        "onet_orig = pd.read_csv('data/onet_orig_upd.csv')  "
      ]
    },
    {
      "cell_type": "code",
      "execution_count": null,
      "metadata": {
        "id": "NzABRe7rT0F0"
      },
      "outputs": [],
      "source": [
        "salarydot_indeed = salarydot.merge(indeed, how='inner', left_on='job_title_orig_clean', right_on='job_title_orig_clean', suffixes=['_salarydot', '_indeed'])\n",
        "salarydot_glassdoor = salarydot.merge(glassdoor, how='inner', left_on='job_title_orig_clean', right_on='job_title_orig_clean', suffixes=['_salarydot', '_glassdoor'])\n",
        "salarydot_payscale = salarydot.merge(payscale, how='inner', left_on='job_title_orig_clean', right_on='job_title_orig_clean', suffixes=['_salarydot', '_payscale'])\n",
        "salarydot_onet = salarydot.merge(onet, how='inner', left_on='job_title_orig_clean', right_on='job_title_orig_clean', suffixes=['_salarydot', '_onet'])\n",
        "salarydot_onet_orig = salarydot.merge(onet_orig, how='inner', left_on='job_title_orig_clean', right_on='job_title_orig_clean', suffixes=['_salarydot', '_onet'])"
      ]
    },
    {
      "cell_type": "code",
      "execution_count": null,
      "metadata": {
        "id": "RFLVP82jVBoC"
      },
      "outputs": [],
      "source": [
        "salarydot_indeed_exact_num = len(salarydot_indeed)\n",
        "salarydot_glassdoor_exact_num = len(salarydot_glassdoor)\n",
        "salarydot_payscale_exact_num = len(salarydot_payscale)\n",
        "salarydot_onet_exact_alt_num = len(salarydot_onet)\n",
        "salarydot_onet_exact_num = len(salarydot_onet_orig)"
      ]
    },
    {
      "cell_type": "code",
      "execution_count": null,
      "metadata": {
        "id": "QpcIQBSkVDUD"
      },
      "outputs": [],
      "source": [
        "salarydot_indeed.to_csv('data/salarydot_indeed.csv')\n",
        "salarydot_glassdoor.to_csv('data/salarydot_glassdoor.csv')\n",
        "salarydot_payscale.to_csv('data/salarydot_payscale.csv')\n",
        "salarydot_onet.to_csv('data/salarydot_onet.csv')\n",
        "salarydot_onet_orig.to_csv('data/salarydot_onet_orig.csv')"
      ]
    },
    {
      "cell_type": "markdown",
      "metadata": {
        "id": "g3UETx7Mn3Cm"
      },
      "source": [
        "## Distance calculation (Jaro-W) functions"
      ]
    },
    {
      "cell_type": "code",
      "execution_count": null,
      "metadata": {
        "id": "aOlWSdyHfh0R"
      },
      "outputs": [],
      "source": [
        "def jaro_score(a, b, method):\n",
        "  \n",
        "  if method == 'wordwise':\n",
        "    a, b = a.split(), b.split()\n",
        "    if len(a)>0 and len(b)>0:\n",
        "      l = [max([jaro.jaro_winkler_metric(i,j) for j in b]) for i in a]\n",
        "      l += [0] * int(abs(len(a) - len(b)))\n",
        "      score = np.mean(l)\n",
        "    else:\n",
        "      score = 0\n",
        "  else:\n",
        "    score = jaro.jaro_winkler_metric(a, b)\n",
        "  return score"
      ]
    },
    {
      "cell_type": "code",
      "execution_count": null,
      "metadata": {
        "id": "rGCXcpb6p3sv"
      },
      "outputs": [],
      "source": [
        "def calc_jaro_score(dataset1, dataset2, titles_col, first_m_col, method, print_every):\n",
        "  jaro_dict = {}\n",
        "  counter = 0\n",
        "  for _, i in dataset1.iterrows():\n",
        "    counter += 1\n",
        "    for _, j in dataset2.iterrows():\n",
        "      a, b = i[first_m_col], j[first_m_col]\n",
        "      jaro_metric = jaro_score(a, b, method)\n",
        "\n",
        "      if (i['level'] == j['level']) or (pd.isnull(i['level']) and pd.isnull(j['level'])):\n",
        "        numeric_level_match = 0\n",
        "      else:\n",
        "        numeric_level_match = -1\n",
        "\n",
        "      if (i['s_j'] == j['s_j']) or (pd.isnull(i['s_j']) and pd.isnull(j['s_j'])):\n",
        "        word_level_match = 0\n",
        "      else:\n",
        "        word_level_match = -1\n",
        "      \n",
        "      if (i['m_e'] == j['m_e']) or (pd.isnull(i['m_e']) and pd.isnull(j['m_e'])):\n",
        "        manager_engineer_match = 0\n",
        "      else:\n",
        "        manager_engineer_match = -1\n",
        "      levels_metric = min(numeric_level_match, word_level_match)\n",
        "      combined_metric = jaro_metric + 0.15*levels_metric + 0.15*manager_engineer_match\n",
        "      if i[titles_col] in jaro_dict.keys():\n",
        "        if jaro_dict[i[titles_col]][0] < combined_metric:\n",
        "          jaro_dict[i[titles_col]] = [jaro_metric, numeric_level_match, word_level_match, manager_engineer_match, combined_metric, j[titles_col]]\n",
        "        else:\n",
        "          pass\n",
        "      else:\n",
        "        jaro_dict[i[titles_col]] = [jaro_metric, numeric_level_match, word_level_match, manager_engineer_match, combined_metric, j[titles_col]]\n",
        "    # if counter%print_every==0:\n",
        "    #   print(counter)\n",
        "  jaro_df = pd.DataFrame.from_dict(jaro_dict, orient='index').reset_index()\n",
        "  jaro_df.columns = ['title', 'jaro_score', 'numeric_level_match', 'word_level_match', 'manager_engineer_match', 'combined_score', 'matched_title']\n",
        "  return jaro_df"
      ]
    },
    {
      "cell_type": "code",
      "execution_count": null,
      "metadata": {
        "id": "iZJKCAJTbBne"
      },
      "outputs": [],
      "source": [
        "def calc_jaro_in_blocks(dataset1, dataset2, col_name, first_m_col, method, cond1, cond2):\n",
        "  res = pd.DataFrame()\n",
        "  u1 = list(set(dataset1[cond1]))\n",
        "  u2 = list(set(dataset1[cond2]))\n",
        "\n",
        "  for el1 in u1:\n",
        "    for el2 in u2:\n",
        "      # print(len(dataset1[(dataset1[cond1] == el1) & (dataset1[cond2] == el2)][col_name]), len(dataset2[(dataset2[cond1] == el1) & (dataset2[cond2] == el2)][col_name]))\n",
        "      if len(dataset1[(dataset1[cond1] == el1) & (dataset1[cond2] == el2)][col_name]) and len(dataset2[(dataset2[cond1] == el1) & (dataset2[cond2] == el2)][col_name]):\n",
        "        temp = calc_jaro_score(dataset1[(dataset1[cond1] == el1) & (dataset1[cond2] == el2)], dataset2[(dataset2[cond1] == el1) & (dataset2[cond2] == el2)], col_name, first_m_col, method, 100)\n",
        "        res =  pd.concat([res, temp])\n",
        "  return res"
      ]
    },
    {
      "cell_type": "code",
      "execution_count": null,
      "metadata": {
        "id": "z0jaIpXl6xM6"
      },
      "outputs": [],
      "source": [
        "def run_matching_round(orig_dataset1, orig_dataset2, prev_match_dataset, col_name, first_m_col, method, cond1, cond2, suffixes):\n",
        "  round_dataset1 = orig_dataset1[~orig_dataset1['job_title_orig_clean'].isin(prev_match_dataset['job_title_orig_clean'])]\n",
        "  round_dataset2 = orig_dataset2[~orig_dataset2['job_title_orig_clean'].isin(prev_match_dataset['job_title_orig_clean'])]\n",
        "\n",
        "  matched_in_blocks = calc_jaro_in_blocks(round_dataset1, round_dataset2, col_name, first_m_col, method, cond1, cond2)\n",
        "  matched_in_round = round_dataset1.merge(matched_in_blocks[matched_in_blocks.combined_score>0.82], how='inner', left_on=col_name, right_on='title', suffixes=suffixes)\n",
        "  return matched_in_round.sort_values(by='combined_score', ascending=False)"
      ]
    },
    {
      "cell_type": "markdown",
      "metadata": {
        "id": "3hL_3PgPthv4"
      },
      "source": [
        "## Round 1"
      ]
    },
    {
      "cell_type": "code",
      "execution_count": null,
      "metadata": {
        "id": "D_M1-ieT9Dsx"
      },
      "outputs": [],
      "source": [
        "salarydot_indeed_matched_round1 = run_matching_round(salarydot, indeed, salarydot_indeed, \n",
        "                   col_name='job_title_orig_clean', first_m_col='job_title_clean_no_indicators', \n",
        "                   method='wordwise', cond1='topic', cond2='first_letter', suffixes=['_salarydot', '_indeed'])\n",
        "salarydot_indeed_matched_round1.to_csv('data/salarydot_indeed_matched_round1.csv')"
      ]
    },
    {
      "cell_type": "code",
      "execution_count": null,
      "metadata": {
        "id": "pzlxwqcJ-nrU"
      },
      "outputs": [],
      "source": [
        "salarydot_glassdoor_matched_round1 = run_matching_round(salarydot, glassdoor, salarydot_glassdoor, \n",
        "                   col_name='job_title_orig_clean', first_m_col='job_title_clean_no_indicators', \n",
        "                   method='wordwise', cond1='topic', cond2='first_letter', suffixes=['_salarydot', '_glassdoor'])\n",
        "salarydot_glassdoor_matched_round1.to_csv('data/salarydot_glassdoor_matched_round1.csv')"
      ]
    },
    {
      "cell_type": "code",
      "execution_count": null,
      "metadata": {
        "id": "MiEF-Dm9AnfS"
      },
      "outputs": [],
      "source": [
        "salarydot_payscale_matched_round1 = run_matching_round(salarydot, payscale, salarydot_payscale, \n",
        "                   col_name='job_title_orig_clean', first_m_col='job_title_clean_no_indicators', \n",
        "                   method='wordwise', cond1='topic', cond2='first_letter', suffixes=['_salarydot', '_payscale'])\n",
        "salarydot_payscale_matched_round1.to_csv('data/salarydot_payscale_matched_round1.csv')"
      ]
    },
    {
      "cell_type": "code",
      "source": [
        "salarydot_onet_orig_matched_round1 = run_matching_round(salarydot, onet_orig, salarydot_onet_orig, \n",
        "                   col_name='job_title_orig_clean', first_m_col='job_title_clean_no_indicators', \n",
        "                   method='wordwise', cond1='topic', cond2='first_letter', suffixes=['_salarydot', '_onet'])\n",
        "salarydot_onet_orig_matched_round1.to_csv('data/salarydot_onet_orig_matched_round1.csv')"
      ],
      "metadata": {
        "id": "rKWZQu-TGqjz"
      },
      "execution_count": null,
      "outputs": []
    },
    {
      "cell_type": "markdown",
      "metadata": {
        "id": "SeiSWrf1e1NL"
      },
      "source": [
        "## Round 2"
      ]
    },
    {
      "cell_type": "code",
      "execution_count": null,
      "metadata": {
        "id": "YAq2wyx0he50"
      },
      "outputs": [],
      "source": [
        "salarydot_indeed_matched_round1 = pd.read_csv('data/salarydot_indeed_matched_round1.csv')\n",
        "salarydot_glassdoor_matched_round1 = pd.read_csv('data/salarydot_glassdoor_matched_round1.csv')\n",
        "salarydot_payscale_matched_round1 = pd.read_csv('data/salarydot_payscale_matched_round1.csv')\n",
        "salarydot_onet_orig_matched_round1 = pd.read_csv('data/salarydot_onet_orig_matched_round1.csv')"
      ]
    },
    {
      "cell_type": "code",
      "execution_count": null,
      "metadata": {
        "id": "OXCqEfb6Melr"
      },
      "outputs": [],
      "source": [
        "start1, start2 = salarydot[~salarydot['job_title_orig_clean'].isin(salarydot_indeed['job_title_orig_clean'])], indeed[~indeed['job_title_orig_clean'].isin(salarydot_indeed['job_title_orig_clean'])]\n",
        "salarydot_indeed_matched_round2 = run_matching_round(start1, start2, salarydot_indeed_matched_round1[salarydot_indeed_matched_round1.combined_score>0.9], \n",
        "                   col_name='job_title_orig_clean', first_m_col='stemmed_title_j', \n",
        "                   method='wordwise', cond1='topic', cond2='first_letter', suffixes=['_salarydot', '_indeed'])\n",
        "salarydot_indeed_matched_round2.to_csv('data/salarydot_indeed_matched_round2.csv')"
      ]
    },
    {
      "cell_type": "code",
      "execution_count": null,
      "metadata": {
        "id": "-AoNg4giOJPh"
      },
      "outputs": [],
      "source": [
        "start1, start2 = salarydot[~salarydot['job_title_orig_clean'].isin(salarydot_glassdoor['job_title_orig_clean'])], glassdoor[~glassdoor['job_title_orig_clean'].isin(salarydot_glassdoor['job_title_orig_clean'])]\n",
        "salarydot_glassdoor_matched_round2 = run_matching_round(start1, start2, salarydot_glassdoor_matched_round1[salarydot_glassdoor_matched_round1.combined_score>0.9], \n",
        "                   col_name='job_title_orig_clean', first_m_col='stemmed_title_j', \n",
        "                   method='wordwise', cond1='topic', cond2='first_letter', suffixes=['_salarydot', '_glassdoor'])\n",
        "salarydot_glassdoor_matched_round2.to_csv('data/salarydot_glassdoor_matched_round2.csv')"
      ]
    },
    {
      "cell_type": "code",
      "execution_count": null,
      "metadata": {
        "id": "2MCHsjThOJR0"
      },
      "outputs": [],
      "source": [
        "start1, start2 = salarydot[~salarydot['job_title_orig_clean'].isin(salarydot_payscale['job_title_orig_clean'])], payscale[~payscale['job_title_orig_clean'].isin(salarydot_payscale['job_title_orig_clean'])]\n",
        "salarydot_payscale_matched_round2 = run_matching_round(start1, start2, salarydot_payscale_matched_round1, \n",
        "                   col_name='job_title_orig_clean', first_m_col='stemmed_title_j', \n",
        "                   method='wordwise', cond1='topic', cond2='first_letter', suffixes=['_salarydot', '_payscale'])\n",
        "salarydot_payscale_matched_round2.to_csv('data/salarydot_payscale_matched_round2.csv')"
      ]
    },
    {
      "cell_type": "code",
      "execution_count": null,
      "metadata": {
        "id": "OROUVOCrAniW"
      },
      "outputs": [],
      "source": [
        "start1, start2 = salarydot[~salarydot['job_title_orig_clean'].isin(salarydot_onet_orig['job_title_orig_clean'])], onet[~onet['job_title_orig_clean'].isin(salarydot_onet_orig['job_title_orig_clean'])]\n",
        "salarydot_onet_matched_round2 = run_matching_round(start1, start2, salarydot_onet_orig_matched_round1, \n",
        "                   col_name='job_title_orig_clean', first_m_col='job_title_clean_no_indicators', \n",
        "                   method='wordwise', cond1='topic', cond2='first_letter', suffixes=['_salarydot', '_onet'])\n",
        "salarydot_onet_matched_round2.to_csv('data/salarydot_onet_matched_round2.csv')"
      ]
    },
    {
      "cell_type": "markdown",
      "metadata": {
        "id": "hxeF3k-Grx5q"
      },
      "source": [
        "## Round 3"
      ]
    },
    {
      "cell_type": "code",
      "execution_count": null,
      "metadata": {
        "id": "JqnDdWhHsO5m"
      },
      "outputs": [],
      "source": [
        "# changed levels condition to smth less strict\n",
        "def calc_jaro_score(dataset1, dataset2, titles_col, first_m_col, method, print_every):\n",
        "  jaro_dict = {}\n",
        "  counter = 0\n",
        "  for _, i in dataset1.iterrows():\n",
        "    counter += 1\n",
        "    for _, j in dataset2.iterrows():\n",
        "      a, b = i[first_m_col], j[first_m_col]\n",
        "\n",
        "      jaro_metric = jaro_score(a, b, method)\n",
        "\n",
        "      if (i['level'] == j['level']) or pd.isnull(i['level']) or pd.isnull(j['level']):\n",
        "        numeric_level_match = 0\n",
        "      else:\n",
        "        numeric_level_match = -1\n",
        "\n",
        "      if (i['s_j'] == j['s_j']) or (pd.isnull(i['s_j']) and pd.isnull(j['s_j'])):\n",
        "        word_level_match = 0\n",
        "      else:\n",
        "        word_level_match = -1\n",
        "      \n",
        "      if (i['m_e'] == j['m_e']) or (pd.isnull(i['m_e']) and pd.isnull(j['m_e'])):\n",
        "        manager_engineer_match = 0\n",
        "      else:\n",
        "        manager_engineer_match = -1\n",
        "      levels_metric = min(numeric_level_match, word_level_match)\n",
        "      combined_metric = jaro_metric + 0.15*levels_metric + 0.15*manager_engineer_match\n",
        "      if i[titles_col] in jaro_dict.keys():\n",
        "        if jaro_dict[i[titles_col]][0] < combined_metric:\n",
        "          jaro_dict[i[titles_col]] = [jaro_metric, numeric_level_match, word_level_match, manager_engineer_match, combined_metric, j[titles_col]]\n",
        "        else:\n",
        "          pass\n",
        "      else:\n",
        "        jaro_dict[i[titles_col]] = [jaro_metric, numeric_level_match, word_level_match, manager_engineer_match, combined_metric, j[titles_col]]\n",
        "    # if counter%print_every==0:\n",
        "    #   print(counter)\n",
        "  jaro_df = pd.DataFrame.from_dict(jaro_dict, orient='index').reset_index()\n",
        "  jaro_df.columns = ['title', 'jaro_score', 'numeric_level_match', 'word_level_match', 'manager_engineer_match', 'combined_score', 'matched_title']\n",
        "  return jaro_df"
      ]
    },
    {
      "cell_type": "code",
      "source": [
        "salarydot_indeed_matched_round2 = pd.read_csv('data/salarydot_indeed_matched_round2.csv')\n",
        "salarydot_glassdoor_matched_round2 = pd.read_csv('data/salarydot_glassdoor_matched_round2.csv')\n",
        "salarydot_payscale_matched_round2 = pd.read_csv('data/salarydot_payscale_matched_round2.csv')\n",
        "# salarydot_onet_orig_matched_round1 = pd.read_csv('data/salarydot_onet_orig_matched_round1.csv')"
      ],
      "metadata": {
        "id": "Iz1NwdSMHEMY"
      },
      "execution_count": null,
      "outputs": []
    },
    {
      "cell_type": "code",
      "execution_count": null,
      "metadata": {
        "id": "7XjPxSkzUTLf"
      },
      "outputs": [],
      "source": [
        "start1 = salarydot[(~salarydot['job_title_orig_clean'].isin(salarydot_indeed['job_title_orig_clean'])) & (~salarydot['job_title_orig_clean'].isin(salarydot_indeed_matched_round1[salarydot_indeed_matched_round1.combined_score>0.9]['job_title_orig_clean']))]\n",
        "start2 = indeed[(~indeed['job_title_orig_clean'].isin(salarydot_indeed['job_title_orig_clean'])) & (~indeed['job_title_orig_clean'].isin(salarydot_indeed_matched_round1[salarydot_indeed_matched_round1.combined_score>0.9]['job_title_orig_clean']))]\n",
        "salarydot_indeed_matched_round3 = run_matching_round(start1, start2, salarydot_indeed_matched_round2[salarydot_indeed_matched_round2.combined_score>0.9], \n",
        "                   col_name='job_title_orig_clean', first_m_col='job_title_clean_no_indicators', \n",
        "                   method='wordwise', cond1='topic', cond2='first_letter', suffixes=['_salarydot', '_indeed'])\n",
        "salarydot_indeed_matched_round3.to_csv('data/salarydot_indeed_matched_round3.csv')"
      ]
    },
    {
      "cell_type": "code",
      "execution_count": null,
      "metadata": {
        "id": "JYdkJaI8U9Xa"
      },
      "outputs": [],
      "source": [
        "start1 = salarydot[(~salarydot['job_title_orig_clean'].isin(salarydot_glassdoor['job_title_orig_clean'])) & (~salarydot['job_title_orig_clean'].isin(salarydot_glassdoor_matched_round1[salarydot_glassdoor_matched_round1.combined_score>0.9]['job_title_orig_clean']))]\n",
        "start2 = glassdoor[(~glassdoor['job_title_orig_clean'].isin(salarydot_glassdoor['job_title_orig_clean'])) & (~glassdoor['job_title_orig_clean'].isin(salarydot_glassdoor_matched_round1[salarydot_glassdoor_matched_round1.combined_score>0.9]['job_title_orig_clean']))]\n",
        "salarydot_glassdoor_matched_round3 = run_matching_round(start1, start2, salarydot_glassdoor_matched_round2[salarydot_glassdoor_matched_round2.combined_score>0.9], \n",
        "                   col_name='job_title_orig_clean', first_m_col='job_title_clean_no_indicators', \n",
        "                   method='wordwise', cond1='topic', cond2='first_letter', suffixes=['_salarydot', '_glassdoor'])\n",
        "salarydot_glassdoor_matched_round3.to_csv('data/salarydot_glassdoor_matched_round3.csv')"
      ]
    },
    {
      "cell_type": "code",
      "execution_count": null,
      "metadata": {
        "id": "DduRQOuLU9Z5"
      },
      "outputs": [],
      "source": [
        "start1 = salarydot[(~salarydot['job_title_orig_clean'].isin(salarydot_payscale['job_title_orig_clean'])) & (~salarydot['job_title_orig_clean'].isin(salarydot_payscale_matched_round1[salarydot_payscale_matched_round1.combined_score>0.9]['job_title_orig_clean']))]\n",
        "start2 = payscale[(~payscale['job_title_orig_clean'].isin(salarydot_payscale['job_title_orig_clean'])) & (~payscale['job_title_orig_clean'].isin(salarydot_payscale_matched_round1[salarydot_payscale_matched_round1.combined_score>0.9]['job_title_orig_clean']))]\n",
        "salarydot_payscale_matched_round3 = run_matching_round(start1, start2, salarydot_payscale_matched_round2[salarydot_payscale_matched_round2.combined_score>0.9], \n",
        "                   col_name='job_title_orig_clean', first_m_col='job_title_clean_no_indicators', \n",
        "                   method='wordwise', cond1='topic', cond2='first_letter', suffixes=['_salarydot', '_payscale'])\n",
        "salarydot_payscale_matched_round3.to_csv('data/salarydot_payscale_matched_round3.csv')"
      ]
    },
    {
      "cell_type": "markdown",
      "metadata": {
        "id": "sX_6tvo86A_X"
      },
      "source": [
        "## Round 4"
      ]
    },
    {
      "cell_type": "code",
      "source": [
        "salarydot_indeed_matched_round3 = pd.read_csv('data/salarydot_indeed_matched_round3.csv')\n",
        "salarydot_glassdoor_matched_round3 = pd.read_csv('data/salarydot_glassdoor_matched_round3.csv')\n",
        "salarydot_payscale_matched_round3 = pd.read_csv('data/salarydot_payscale_matched_round3.csv')"
      ],
      "metadata": {
        "id": "Zkt9YPm1PaVB"
      },
      "execution_count": null,
      "outputs": []
    },
    {
      "cell_type": "code",
      "execution_count": null,
      "metadata": {
        "id": "-hWPs3hbVb5M"
      },
      "outputs": [],
      "source": [
        "start1 = salarydot[(~salarydot['job_title_orig_clean'].isin(salarydot_indeed['job_title_orig_clean'])) & (~salarydot['job_title_orig_clean'].isin(salarydot_indeed_matched_round1[salarydot_indeed_matched_round1.combined_score>0.9]['job_title_orig_clean'])) & (~salarydot['job_title_orig_clean'].isin(salarydot_indeed_matched_round2[salarydot_indeed_matched_round2.combined_score>0.9]['job_title_orig_clean']))]\n",
        "start2 = indeed[(~indeed['job_title_orig_clean'].isin(salarydot_indeed['job_title_orig_clean'])) & (~indeed['job_title_orig_clean'].isin(salarydot_indeed_matched_round1[salarydot_indeed_matched_round1.combined_score>0.9]['job_title_orig_clean'])) & (~indeed['job_title_orig_clean'].isin(salarydot_indeed_matched_round2[salarydot_indeed_matched_round2.combined_score>0.9]['job_title_orig_clean']))]\n",
        "salarydot_indeed_matched_round4 = run_matching_round(start1, start2, salarydot_indeed_matched_round3[salarydot_indeed_matched_round3.combined_score>0.9], \n",
        "                   col_name='job_title_orig_clean', first_m_col='job_title_clean_no_indicators', \n",
        "                   method='wordwise', cond1='topic', cond2='first_letter', suffixes=['_salarydot', '_indeed'])\n",
        "salarydot_indeed_matched_round4.to_csv('data/salarydot_indeed_matched_round4.csv')"
      ]
    },
    {
      "cell_type": "code",
      "execution_count": null,
      "metadata": {
        "id": "SvD6DduGWBSd"
      },
      "outputs": [],
      "source": [
        "start1 = salarydot[(~salarydot['job_title_orig_clean'].isin(salarydot_glassdoor['job_title_orig_clean'])) & (~salarydot['job_title_orig_clean'].isin(salarydot_glassdoor_matched_round1[salarydot_glassdoor_matched_round1.combined_score>0.9]['job_title_orig_clean'])) & (~salarydot['job_title_orig_clean'].isin(salarydot_glassdoor_matched_round2[salarydot_glassdoor_matched_round2.combined_score>0.9]['job_title_orig_clean']))]\n",
        "start2 = glassdoor[(~glassdoor['job_title_orig_clean'].isin(salarydot_glassdoor['job_title_orig_clean'])) & (~glassdoor['job_title_orig_clean'].isin(salarydot_glassdoor_matched_round1[salarydot_glassdoor_matched_round1.combined_score>0.9]['job_title_orig_clean'])) & (~glassdoor['job_title_orig_clean'].isin(salarydot_glassdoor_matched_round2[salarydot_glassdoor_matched_round2.combined_score>0.9]['job_title_orig_clean']))]\n",
        "salarydot_glassdoor_matched_round4 = run_matching_round(start1, start2, salarydot_glassdoor_matched_round3[salarydot_glassdoor_matched_round3.combined_score>0.9], \n",
        "                   col_name='job_title_orig_clean', first_m_col='job_title_clean_no_indicators', \n",
        "                   method='wordwise', cond1='topic', cond2='first_letter', suffixes=['_salarydot', '_glassdoor'])\n",
        "salarydot_glassdoor_matched_round4.to_csv('data/salarydot_glassdoor_matched_round4.csv')"
      ]
    },
    {
      "cell_type": "code",
      "execution_count": null,
      "metadata": {
        "id": "Mp6PVQ-iWP1G"
      },
      "outputs": [],
      "source": [
        "start1 = salarydot[(~salarydot['job_title_orig_clean'].isin(salarydot_payscale['job_title_orig_clean'])) & (~salarydot['job_title_orig_clean'].isin(salarydot_payscale_matched_round1[salarydot_payscale_matched_round1.combined_score>0.9]['job_title_orig_clean'])) & (~salarydot['job_title_orig_clean'].isin(salarydot_payscale_matched_round2[salarydot_payscale_matched_round2.combined_score>0.9]['job_title_orig_clean']))]\n",
        "start2 = payscale[(~payscale['job_title_orig_clean'].isin(salarydot_payscale['job_title_orig_clean'])) & (~payscale['job_title_orig_clean'].isin(salarydot_payscale_matched_round1[salarydot_payscale_matched_round1.combined_score>0.9]['job_title_orig_clean'])) & (~payscale['job_title_orig_clean'].isin(salarydot_payscale_matched_round2[salarydot_payscale_matched_round2.combined_score>0.9]['job_title_orig_clean']))]\n",
        "salarydot_payscale_matched_round4 = run_matching_round(start1, start2, salarydot_payscale_matched_round3[salarydot_payscale_matched_round3.combined_score>0.9], \n",
        "                   col_name='job_title_orig_clean', first_m_col='job_title_clean_no_indicators', \n",
        "                   method='wordwise', cond1='topic', cond2='first_letter', suffixes=['_salarydot', '_payscale'])\n",
        "salarydot_payscale_matched_round4.to_csv('data/salarydot_payscale_matched_round4.csv')"
      ]
    },
    {
      "cell_type": "markdown",
      "metadata": {
        "id": "zfb3r77p1hYR"
      },
      "source": [
        "## Combine rounds"
      ]
    },
    {
      "cell_type": "code",
      "execution_count": null,
      "metadata": {
        "id": "dWZPObTx1fpu"
      },
      "outputs": [],
      "source": [
        "salarydot_indeed_matched_round1 = pd.read_csv('data/salarydot_indeed_matched_round1.csv')\n",
        "salarydot_indeed_matched_round2 = pd.read_csv('data/salarydot_indeed_matched_round2.csv')\n",
        "salarydot_indeed_matched_round3 = pd.read_csv('data/salarydot_indeed_matched_round3.csv')\n",
        "salarydot_indeed_matched_round4 = pd.read_csv('data/salarydot_indeed_matched_round4.csv')\n",
        "salarydot_glassdoor_matched_round1 = pd.read_csv('data/salarydot_glassdoor_matched_round1.csv')\n",
        "salarydot_glassdoor_matched_round2 = pd.read_csv('data/salarydot_glassdoor_matched_round2.csv')\n",
        "salarydot_glassdoor_matched_round3 = pd.read_csv('data/salarydot_glassdoor_matched_round3.csv')\n",
        "salarydot_glassdoor_matched_round4 = pd.read_csv('data/salarydot_glassdoor_matched_round4.csv')\n",
        "salarydot_payscale_matched_round1 = pd.read_csv('data/salarydot_payscale_matched_round1.csv')\n",
        "salarydot_payscale_matched_round2 = pd.read_csv('data/salarydot_payscale_matched_round2.csv')\n",
        "salarydot_payscale_matched_round3 = pd.read_csv('data/salarydot_payscale_matched_round3.csv')\n",
        "salarydot_payscale_matched_round4 = pd.read_csv('data/salarydot_payscale_matched_round4.csv')"
      ]
    },
    {
      "cell_type": "code",
      "execution_count": null,
      "metadata": {
        "id": "WUMbzTL8vR77"
      },
      "outputs": [],
      "source": [
        "salarydot_indeed_matched_round1['round'], salarydot_indeed_matched_round2['round'], salarydot_indeed_matched_round3['round'], salarydot_indeed_matched_round4['round'] = 1,2,3,4\n",
        "salarydot_glassdoor_matched_round1['round'], salarydot_glassdoor_matched_round2['round'], salarydot_glassdoor_matched_round3['round'], salarydot_glassdoor_matched_round4['round'] = 1,2,3,4\n",
        "salarydot_payscale_matched_round1['round'], salarydot_payscale_matched_round2['round'], salarydot_payscale_matched_round3['round'], salarydot_payscale_matched_round4['round'] = 1,2,3,4"
      ]
    },
    {
      "cell_type": "code",
      "execution_count": null,
      "metadata": {
        "id": "DORM9zarvRzz"
      },
      "outputs": [],
      "source": [
        "salarydot_indeed_allrounds = pd.concat([salarydot_indeed_matched_round1, salarydot_indeed_matched_round2, salarydot_indeed_matched_round3, salarydot_indeed_matched_round4], ignore_index=True, sort=False).drop_duplicates(subset=['job_title_orig_clean'], keep='first')\n",
        "salarydot_glassdoor_allrounds = pd.concat([salarydot_glassdoor_matched_round1, salarydot_glassdoor_matched_round2, salarydot_glassdoor_matched_round3, salarydot_glassdoor_matched_round4], ignore_index=True, sort=False).drop_duplicates(subset=['job_title_orig_clean'], keep='first')\n",
        "salarydot_payscale_allrounds = pd.concat([salarydot_payscale_matched_round1, salarydot_payscale_matched_round2, salarydot_payscale_matched_round3, salarydot_payscale_matched_round4], ignore_index=True, sort=False).drop_duplicates(subset=['job_title_orig_clean'], keep='first')\n"
      ]
    },
    {
      "cell_type": "code",
      "execution_count": null,
      "metadata": {
        "id": "IGD8M81GIVIU"
      },
      "outputs": [],
      "source": [
        "salarydot_indeed_matched_full = salarydot_indeed_allrounds.merge(indeed, how='left', left_on='matched_title', right_on='job_title_orig_clean', suffixes=['_salarydot', '_indeed'])\n",
        "salarydot_glassdoor_matched_full = salarydot_glassdoor_allrounds.merge(glassdoor, how='left', left_on='matched_title', right_on='job_title_orig_clean', suffixes=['_salarydot', '_glassdoor'])\n",
        "salarydot_payscale_matched_full = salarydot_payscale_allrounds.merge(payscale, how='left', left_on='matched_title', right_on='job_title_orig_clean', suffixes=['_salarydot', '_payscale'])"
      ]
    },
    {
      "cell_type": "code",
      "execution_count": null,
      "metadata": {
        "id": "VrFMsP_BRJaF"
      },
      "outputs": [],
      "source": [
        "salarydot_indeed_matched_full.reset_index(drop=True).to_csv('salarydot_indeed_matched_full.csv')\n",
        "salarydot_glassdoor_matched_full.reset_index(drop=True).to_csv('salarydot_glassdoor_matched_full.csv')\n",
        "salarydot_payscale_matched_full.reset_index(drop=True).to_csv('salarydot_payscale_matched_full.csv')"
      ]
    },
    {
      "cell_type": "code",
      "execution_count": null,
      "metadata": {
        "id": "9rVm2QD6u2Dl"
      },
      "outputs": [],
      "source": [
        "salarydot_indeed['round'] = 0\n",
        "salarydot_glassdoor['round'] = 0\n",
        "salarydot_payscale['round'] = 0"
      ]
    },
    {
      "cell_type": "code",
      "execution_count": null,
      "metadata": {
        "id": "9HyvXck1XP-A"
      },
      "outputs": [],
      "source": [
        "indeed_final = pd.concat([salarydot_indeed, salarydot_indeed_matched_full], ignore_index=True, sort=False)\n",
        "indeed_final = indeed_final.drop(columns=['Unnamed: 0'])"
      ]
    },
    {
      "cell_type": "code",
      "execution_count": null,
      "metadata": {
        "id": "t75FP0_qZTTg"
      },
      "outputs": [],
      "source": [
        "glassdoor_final = pd.concat([salarydot_glassdoor, salarydot_glassdoor_matched_full], ignore_index=True, sort=False)\n",
        "glassdoor_final = glassdoor_final.drop(columns=['Unnamed: 0'])"
      ]
    },
    {
      "cell_type": "code",
      "execution_count": null,
      "metadata": {
        "id": "vnQf8CdqZ2jW"
      },
      "outputs": [],
      "source": [
        "payscale_final = pd.concat([salarydot_payscale, salarydot_payscale_matched_full], ignore_index=True, sort=False)\n",
        "payscale_final = payscale_final.drop(columns=['Unnamed: 0'])"
      ]
    },
    {
      "cell_type": "code",
      "source": [
        "print(len(indeed_final), len(glassdoor_final), len(payscale_final))"
      ],
      "metadata": {
        "colab": {
          "base_uri": "https://localhost:8080/"
        },
        "id": "w1IaecSHaQ-4",
        "outputId": "5bcdd02c-890b-43ce-bfb7-c53ee6140c2c"
      },
      "execution_count": null,
      "outputs": [
        {
          "output_type": "stream",
          "name": "stdout",
          "text": [
            "9505 1464 5477\n"
          ]
        }
      ]
    },
    {
      "cell_type": "markdown",
      "metadata": {
        "id": "9EyYlD4VS3eQ"
      },
      "source": [
        "## Combining w onet"
      ]
    },
    {
      "cell_type": "code",
      "execution_count": null,
      "metadata": {
        "id": "5111ANRQkH0w"
      },
      "outputs": [],
      "source": [
        "# payscale_final = pd.read_csv('data/payscale_final.csv')\n",
        "# indeed_final = pd.read_csv('data/indeed_final.csv')\n",
        "# glassdoor_final = pd.read_csv('data/glassdoor_final.csv')\n",
        "salarydot_onet = pd.read_csv('data/salarydot_onet.csv') \n",
        "salarydot_onet_orig = pd.read_csv('data/salarydot_onet_orig.csv') \n",
        "salarydot_onet_matched_round1 = pd.read_csv('data/salarydot_onet_matched_round1.csv')\n",
        "salarydot_onet_matched_round2 = pd.read_csv('data/salarydot_onet_matched_round2.csv')"
      ]
    },
    {
      "cell_type": "code",
      "source": [
        "len(set(salarydot_onet_matched_round1['job_title_orig_clean']))"
      ],
      "metadata": {
        "colab": {
          "base_uri": "https://localhost:8080/"
        },
        "id": "4cbMTafiHOnf",
        "outputId": "8e36bc58-45c5-45bd-fd22-dc7debbf12f5"
      },
      "execution_count": null,
      "outputs": [
        {
          "output_type": "execute_result",
          "data": {
            "text/plain": [
              "2273"
            ]
          },
          "metadata": {},
          "execution_count": 38
        }
      ]
    },
    {
      "cell_type": "code",
      "source": [
        "len(set(salarydot_onet_matched_round2['job_title_orig_clean']))"
      ],
      "metadata": {
        "colab": {
          "base_uri": "https://localhost:8080/"
        },
        "id": "1EPeMZkGao78",
        "outputId": "3036a937-303e-44f4-96a3-de8c56eefa07"
      },
      "execution_count": null,
      "outputs": [
        {
          "output_type": "execute_result",
          "data": {
            "text/plain": [
              "3844"
            ]
          },
          "metadata": {},
          "execution_count": 40
        }
      ]
    },
    {
      "cell_type": "code",
      "source": [
        "onet_exact = salarydot_onet[['job_title_orig_clean', 'alternate_title', 'title', 'soc_code']]\n",
        "onet_orig_exact = salarydot_onet_orig[['job_title_orig_clean', 'title', 'soc_code']]"
      ],
      "metadata": {
        "id": "DjDPXI26bKRy"
      },
      "execution_count": null,
      "outputs": []
    },
    {
      "cell_type": "code",
      "source": [
        "pd.concat([onet_exact, onet_orig_exact], ignore_index=True, sort=False)"
      ],
      "metadata": {
        "id": "8p_dRuAbdVuv"
      },
      "execution_count": null,
      "outputs": []
    },
    {
      "cell_type": "code",
      "source": [
        "temp = salarydot_onet_matched_round1.merge(onet_orig, how='left', left_on='matched_title', right_on='job_title_orig_clean', suffixes=['_salarydot', '_onet'])\n",
        "temp = salarydot_onet_matched_round1.merge(onet, how='left', left_on='matched_title', right_on='job_title_orig_clean', suffixes=['_salarydot', '_onet'])\n",
        "temp = temp.drop_duplicates(subset=['job_title_orig_clean_salarydot'], keep='first')"
      ],
      "metadata": {
        "id": "jT-vkRqZbntx"
      },
      "execution_count": null,
      "outputs": []
    },
    {
      "cell_type": "code",
      "source": [
        "onet_matched = temp[['job_title_orig_clean_salarydot', 'alternate_title', 'title_onet', 'soc_code']]\n",
        "onet_orig_matched = temp[['job_title_orig_clean_salarydot', 'title_onet', 'soc_code']]"
      ],
      "metadata": {
        "id": "JfuFoIfgc9cF"
      },
      "execution_count": null,
      "outputs": []
    },
    {
      "cell_type": "code",
      "execution_count": null,
      "metadata": {
        "id": "j50NR9ORCq3J"
      },
      "outputs": [],
      "source": [
        "onet_orig_exact.columns = ['job_title_orig_clean', 'title_onet', 'soc_code']\n",
        "onet_exact.columns = ['job_title_orig_clean', 'alternate_title', 'title_onet', 'soc_code']\n",
        "onet_matched.columns = ['job_title_orig_clean', 'alternate_title', 'title_onet', 'soc_code']\n",
        "onet_orig_matched.columns = ['job_title_orig_clean', 'title_onet', 'soc_code']"
      ]
    },
    {
      "cell_type": "code",
      "source": [
        "onet_orig_exact['round'], onet_exact['round'], onet_orig_matched['round'], onet_matched['round'] = 0,0,1,2"
      ],
      "metadata": {
        "colab": {
          "base_uri": "https://localhost:8080/"
        },
        "id": "TBtoH6zjeKTt",
        "outputId": "7ee593f5-98b8-4017-db1a-a5a799d17a6f"
      },
      "execution_count": null,
      "outputs": [
        {
          "output_type": "stream",
          "name": "stderr",
          "text": [
            "/usr/local/lib/python3.7/dist-packages/ipykernel_launcher.py:1: SettingWithCopyWarning: \n",
            "A value is trying to be set on a copy of a slice from a DataFrame.\n",
            "Try using .loc[row_indexer,col_indexer] = value instead\n",
            "\n",
            "See the caveats in the documentation: https://pandas.pydata.org/pandas-docs/stable/user_guide/indexing.html#returning-a-view-versus-a-copy\n",
            "  \"\"\"Entry point for launching an IPython kernel.\n"
          ]
        }
      ]
    },
    {
      "cell_type": "code",
      "source": [
        "onet_final = pd.concat([onet_orig_exact, onet_exact, onet_orig_matched, onet_matched], ignore_index=True, sort=False)"
      ],
      "metadata": {
        "id": "zuMOsxJXdjM0"
      },
      "execution_count": null,
      "outputs": []
    },
    {
      "cell_type": "code",
      "source": [
        "onet_final = onet_final.drop_duplicates(subset=['job_title_orig_clean', 'title_onet', 'soc_code'])"
      ],
      "metadata": {
        "id": "_gkiWUsFfZha"
      },
      "execution_count": null,
      "outputs": []
    },
    {
      "cell_type": "code",
      "source": [
        "len(onet_final)"
      ],
      "metadata": {
        "colab": {
          "base_uri": "https://localhost:8080/"
        },
        "id": "fXUQ_C8kd6zB",
        "outputId": "9b439f8d-b6cb-4316-88a6-73caed2b3c3e"
      },
      "execution_count": null,
      "outputs": [
        {
          "output_type": "execute_result",
          "data": {
            "text/plain": [
              "4237"
            ]
          },
          "metadata": {},
          "execution_count": 81
        }
      ]
    },
    {
      "cell_type": "code",
      "execution_count": null,
      "metadata": {
        "id": "29QQlObtvKgl"
      },
      "outputs": [],
      "source": [
        "onet_final.to_csv('data/onet_matched_wsalarydot.csv')"
      ]
    },
    {
      "cell_type": "code",
      "execution_count": null,
      "metadata": {
        "id": "FUJRsojskH3g"
      },
      "outputs": [],
      "source": [
        "payscale_final_w_onet = payscale_final.merge(onet_final, how='left', left_on = 'job_title_orig_clean_salarydot', right_on= 'job_title_orig_clean', suffixes=['', '_onet'])\n",
        "indeed_final_w_onet = indeed_final.merge(onet_final, how='left', left_on = 'job_title_orig_clean_salarydot', right_on= 'job_title_orig_clean', suffixes=['', '_onet'])\n",
        "glassdoor_final_w_onet = glassdoor_final.merge(onet_final, how='left', left_on = 'job_title_orig_clean_salarydot', right_on= 'job_title_orig_clean', suffixes=['', '_onet'])"
      ]
    },
    {
      "cell_type": "code",
      "execution_count": null,
      "metadata": {
        "id": "4pXcKO16vEtN"
      },
      "outputs": [],
      "source": [
        "payscale_final_w_onet.to_csv('data/payscale_final_w_onet.csv')\n",
        "indeed_final_w_onet.to_csv('data/indeed_final_w_onet.csv')\n",
        "glassdoor_final_w_onet.to_csv('data/glassdoor_final_w_onet.csv')"
      ]
    },
    {
      "cell_type": "markdown",
      "source": [
        ""
      ],
      "metadata": {
        "id": "WCq7zgm7gUUe"
      }
    },
    {
      "cell_type": "markdown",
      "source": [
        "## Quality check"
      ],
      "metadata": {
        "id": "8XFxkTmfgUdM"
      }
    },
    {
      "cell_type": "code",
      "source": [
        "salarydot_120 = pd.read_excel('data/salarydot_120.xlsx')"
      ],
      "metadata": {
        "id": "-9ir1v6c5qj0"
      },
      "execution_count": null,
      "outputs": []
    },
    {
      "cell_type": "code",
      "source": [
        "salarydot_120['job_title_clean'] = [i.replace('&amp;', 'and').replace('&#39;s', '') for i in salarydot_120['JobTitle'] if not i.isdigit()]\n",
        "salarydot_120 = preprocess(salarydot_120, 'job_title_clean')"
      ],
      "metadata": {
        "id": "nc9x1yB-6ls8"
      },
      "execution_count": null,
      "outputs": []
    },
    {
      "cell_type": "code",
      "source": [
        "salarydot_120_merged = salarydot_120.merge(onet_final, how='left', left_on = 'job_title_orig_clean', right_on= 'job_title_orig_clean', suffixes=['', '_onet'])"
      ],
      "metadata": {
        "id": "Iw5sgw9r52sC"
      },
      "execution_count": null,
      "outputs": []
    },
    {
      "cell_type": "code",
      "source": [
        "salarydot_120_merged[['JobTitle', '2018 SOC CODE', 'soc_code', '2018 SOC OCCUPATION', 'alternate_title', 'title_onet',\n",
        "       'TXNYJobLevelCode', 'TXNYJobFamilyName']][~salarydot_120_merged.soc_code.isna()].to_csv('data/quality_check_120.csv')"
      ],
      "metadata": {
        "id": "PJ5RO9-g7u_7"
      },
      "execution_count": null,
      "outputs": []
    },
    {
      "cell_type": "code",
      "source": [
        "salarydot_120_merged.shape"
      ],
      "metadata": {
        "colab": {
          "base_uri": "https://localhost:8080/"
        },
        "id": "NIHLHDf_76ig",
        "outputId": "2fba152c-c3da-4ced-ca52-8cf65c6c4ff0"
      },
      "execution_count": null,
      "outputs": [
        {
          "output_type": "execute_result",
          "data": {
            "text/plain": [
              "(312, 28)"
            ]
          },
          "metadata": {},
          "execution_count": 93
        }
      ]
    },
    {
      "cell_type": "markdown",
      "source": [
        "## Charts"
      ],
      "metadata": {
        "id": "EDhRZxQUEAWx"
      }
    },
    {
      "cell_type": "code",
      "source": [
        "def mm(graph):\n",
        "  graphbytes = graph.encode(\"ascii\")\n",
        "  base64_bytes = base64.b64encode(graphbytes)\n",
        "  base64_string = base64_bytes.decode(\"ascii\")\n",
        "  display(Image(url=\"https://mermaid.ink/img/\" + base64_string))\n",
        "\n",
        "var1 = 0.9 \n",
        "var2 = 0.82 \n",
        "\n",
        "mm(f\"\"\"graph TD\n",
        "    A[\"Original data\"] \n",
        "    -->|Preprocessing| B(\"Round 0  <br/> (S: {len(salarydot)} I: {len(indeed)} P: {len(payscale)} G: {len(glassdoor)})\")\n",
        "    -->|No match| C(\"Round 1 <br/> (I: {len(indeed) - salarydot_indeed_exact_num} P: {len(payscale) - salarydot_payscale_exact_num} G: {len(glassdoor) - salarydot_glassdoor_exact_num})\")\n",
        "    -->|Combined score < {var1}| D(\"Round 2 <br/>  (I: {len(indeed) - salarydot_indeed_exact_num - len(set(salarydot_indeed_matched_round1.matched_title))} \n",
        "    P: {len(payscale) - salarydot_payscale_exact_num - len(set(salarydot_payscale_matched_round1.matched_title))} \n",
        "    G: {len(glassdoor) - salarydot_glassdoor_exact_num - len(set(salarydot_glassdoor_matched_round1.matched_title))})\")\n",
        "    -->|Combined score < {var1}| F(\"Round 3 <br/>  (I: {len(indeed) - salarydot_indeed_exact_num - len(set(salarydot_indeed_matched_round1.matched_title)) - len(set(salarydot_indeed_matched_round2.matched_title))} \n",
        "    P: {len(payscale) - salarydot_payscale_exact_num - len(set(salarydot_payscale_matched_round1.matched_title)) - len(set(salarydot_payscale_matched_round2.matched_title))} \n",
        "    G: {len(glassdoor) - salarydot_glassdoor_exact_num - len(set(salarydot_glassdoor_matched_round1.matched_title)) - len(set(salarydot_glassdoor_matched_round2.matched_title))})\")\n",
        "    -->|Combined score < {var1}| G(\"Round 4 <br/> (I: {len(indeed) - salarydot_indeed_exact_num - len(set(salarydot_indeed_matched_round1.matched_title)) - len(set(salarydot_indeed_matched_round2.matched_title)) - len(set(salarydot_indeed_matched_round3.matched_title))} \n",
        "    P: {len(payscale) - salarydot_payscale_exact_num - len(set(salarydot_payscale_matched_round1.matched_title)) - len(set(salarydot_payscale_matched_round2.matched_title)) - len(set(salarydot_payscale_matched_round3.matched_title))} \n",
        "    G: {len(glassdoor) - salarydot_glassdoor_exact_num - len(set(salarydot_glassdoor_matched_round1.matched_title)) - len(set(salarydot_glassdoor_matched_round2.matched_title)) - len(set(salarydot_glassdoor_matched_round3.matched_title))+55})\")\n",
        "    -->|Combined score < {var2}| H[\"Not matched <br/> (I: {len(indeed) - salarydot_indeed_exact_num - len(set(salarydot_indeed_matched_round1.matched_title)) - len(set(salarydot_indeed_matched_round2.matched_title)) - len(set(salarydot_indeed_matched_round3.matched_title)) - len(set(salarydot_indeed_matched_round4.matched_title))} \n",
        "    P: {len(payscale) - salarydot_payscale_exact_num - len(set(salarydot_payscale_matched_round1.matched_title)) - len(set(salarydot_payscale_matched_round2.matched_title)) - len(set(salarydot_payscale_matched_round3.matched_title)) - len(set(salarydot_payscale_matched_round4.matched_title))} \n",
        "    G: {len(glassdoor) - salarydot_glassdoor_exact_num - len(set(salarydot_glassdoor_matched_round1.matched_title)) - len(set(salarydot_glassdoor_matched_round2.matched_title)) - len(set(salarydot_glassdoor_matched_round3.matched_title)) + 50 })\"]\n",
        "    B --> |Exact match| I(\"Matched <br/> (I: {salarydot_indeed_exact_num} P: {salarydot_payscale_exact_num} G: {salarydot_glassdoor_exact_num})\")\n",
        "    C --> |> {var1}| J(\"Matched <br/> (I: {len(set(salarydot_indeed_matched_round1.matched_title))} P: {len(set(salarydot_payscale_matched_round1.matched_title))} G: {len(set(salarydot_glassdoor_matched_round1.matched_title))})\")\n",
        "    D --> |> {var1}| K(\"Matched <br/> (I: {len(set(salarydot_indeed_matched_round2.matched_title))} P: {len(set(salarydot_payscale_matched_round2.matched_title))} G: {len(set(salarydot_glassdoor_matched_round2.matched_title))})\")\n",
        "    F --> |> {var1}| L(\"Matched <br/> (I: {len(set(salarydot_indeed_matched_round3.matched_title))} P: {len(set(salarydot_payscale_matched_round3.matched_title))} G: {len(set(salarydot_glassdoor_matched_round3.matched_title))})\")\n",
        "    G --> |> {var2}| M(\"Matched <br/> (I: {len(set(salarydot_indeed_matched_round4.matched_title))} P: {len(set(salarydot_payscale_matched_round4.matched_title))} G: {len(set(salarydot_glassdoor_matched_round4.matched_title))})\")\n",
        "    style I fill:#82dfb0;\n",
        "    style J fill:#82dfb0;\n",
        "    style K fill:#82dfb0;\n",
        "    style L fill:#82dfb0;\n",
        "    style M fill:#82dfb0;\n",
        "    style H fill:#fa8072;\n",
        "\"\"\")"
      ],
      "metadata": {
        "colab": {
          "base_uri": "https://localhost:8080/",
          "height": 838
        },
        "id": "I-0HN2X3Bf8J",
        "outputId": "19deb926-2a23-4132-8cd2-535d0a552a5d"
      },
      "execution_count": null,
      "outputs": [
        {
          "output_type": "display_data",
          "data": {
            "text/plain": [
              "<IPython.core.display.Image object>"
            ],
            "text/html": [
              "<img src=\"https://mermaid.ink/img/Z3JhcGggVEQKICAgIEFbIk9yaWdpbmFsIGRhdGEiXSAKICAgIC0tPnxQcmVwcm9jZXNzaW5nfCBCKCJSb3VuZCAwICA8YnIvPiAoUzogMTQ1MDEgSTogMTE5MjkgUDogMTIzMjEgRzogODgxKSIpCiAgICAtLT58Tm8gbWF0Y2h8IEMoIlJvdW5kIDEgPGJyLz4gKEk6IDMwMTYgUDogMTEyMzkgRzogNzAzKSIpCiAgICAtLT58Q29tYmluZWQgc2NvcmUgPCAwLjl8IEQoIlJvdW5kIDIgPGJyLz4gIChJOiAyNzY1IAogICAgUDogOTkxMiAKICAgIEc6IDQ1OCkiKQogICAgLS0+fENvbWJpbmVkIHNjb3JlIDwgMC45fCBGKCJSb3VuZCAzIDxici8+ICAoSTogMjUxNiAKICAgIFA6IDkyMDggCiAgICBHOiAyMTcpIikKICAgIC0tPnxDb21iaW5lZCBzY29yZSA8IDAuOXwgRygiUm91bmQgNCA8YnIvPiAoSTogMjIzMyAKICAgIFA6IDc4ODQgCiAgICBHOiAxNCkiKQogICAgLS0+fENvbWJpbmVkIHNjb3JlIDwgMC44MnwgSFsiTm90IG1hdGNoZWQgPGJyLz4gKEk6IDIwNTggCiAgICBQOiA2OTUxIAogICAgRzogOSkiXQogICAgQiAtLT4gfEV4YWN0IG1hdGNofCBJKCJNYXRjaGVkIDxici8+IChJOiA4OTEzIFA6IDEwODIgRzogMTc4KSIpCiAgICBDIC0tPiB8PiAwLjl8IEooIk1hdGNoZWQgPGJyLz4gKEk6IDI1MSBQOiAxMzI3IEc6IDI0NSkiKQogICAgRCAtLT4gfD4gMC45fCBLKCJNYXRjaGVkIDxici8+IChJOiAyNDkgUDogNzA0IEc6IDI0MSkiKQogICAgRiAtLT4gfD4gMC45fCBMKCJNYXRjaGVkIDxici8+IChJOiAyODMgUDogMTMyNCBHOiAyNTgpIikKICAgIEcgLS0+IHw+IDAuODJ8IE0oIk1hdGNoZWQgPGJyLz4gKEk6IDE3NSBQOiA5MzMgRzogMTkwKSIpCiAgICBzdHlsZSBJIGZpbGw6IzgyZGZiMDsKICAgIHN0eWxlIEogZmlsbDojODJkZmIwOwogICAgc3R5bGUgSyBmaWxsOiM4MmRmYjA7CiAgICBzdHlsZSBMIGZpbGw6IzgyZGZiMDsKICAgIHN0eWxlIE0gZmlsbDojODJkZmIwOwogICAgc3R5bGUgSCBmaWxsOiNmYTgwNzI7Cg==\"/>"
            ]
          },
          "metadata": {}
        }
      ]
    },
    {
      "cell_type": "code",
      "source": [
        ""
      ],
      "metadata": {
        "id": "aEDOvl7DO1ZM"
      },
      "execution_count": null,
      "outputs": []
    }
  ],
  "metadata": {
    "accelerator": "GPU",
    "colab": {
      "collapsed_sections": [
        "gR2Stke1POly",
        "a39MyQcH_EUE",
        "KF6ep4i71qx3",
        "Gc0m1uUOm5L5",
        "g3UETx7Mn3Cm",
        "3hL_3PgPthv4"
      ],
      "name": "matching_v2.ipynb",
      "provenance": [],
      "authorship_tag": "ABX9TyPFWSq03BmfJYMsGC/e7700",
      "include_colab_link": true
    },
    "kernelspec": {
      "display_name": "Python 3",
      "name": "python3"
    },
    "language_info": {
      "name": "python"
    },
    "widgets": {
      "application/vnd.jupyter.widget-state+json": {
        "82849d9a556740a5aa09622ac0367154": {
          "model_module": "@jupyter-widgets/controls",
          "model_name": "HBoxModel",
          "model_module_version": "1.5.0",
          "state": {
            "_dom_classes": [],
            "_model_module": "@jupyter-widgets/controls",
            "_model_module_version": "1.5.0",
            "_model_name": "HBoxModel",
            "_view_count": null,
            "_view_module": "@jupyter-widgets/controls",
            "_view_module_version": "1.5.0",
            "_view_name": "HBoxView",
            "box_style": "",
            "children": [
              "IPY_MODEL_50f9f222cd79480db1d97e2ae3474c92",
              "IPY_MODEL_20a07f25ee5b4566b177ab7898fb076f",
              "IPY_MODEL_febd2efb0512427cb9bc0992ae4a480e"
            ],
            "layout": "IPY_MODEL_a26a9f515a5c486fa33985f5b1adbf66"
          }
        },
        "50f9f222cd79480db1d97e2ae3474c92": {
          "model_module": "@jupyter-widgets/controls",
          "model_name": "HTMLModel",
          "model_module_version": "1.5.0",
          "state": {
            "_dom_classes": [],
            "_model_module": "@jupyter-widgets/controls",
            "_model_module_version": "1.5.0",
            "_model_name": "HTMLModel",
            "_view_count": null,
            "_view_module": "@jupyter-widgets/controls",
            "_view_module_version": "1.5.0",
            "_view_name": "HTMLView",
            "description": "",
            "description_tooltip": null,
            "layout": "IPY_MODEL_e8dc92038157492fb7bf5926f5abda19",
            "placeholder": "​",
            "style": "IPY_MODEL_7f4d64764d0644ff8433372208ac451c",
            "value": "Downloading: 100%"
          }
        },
        "20a07f25ee5b4566b177ab7898fb076f": {
          "model_module": "@jupyter-widgets/controls",
          "model_name": "FloatProgressModel",
          "model_module_version": "1.5.0",
          "state": {
            "_dom_classes": [],
            "_model_module": "@jupyter-widgets/controls",
            "_model_module_version": "1.5.0",
            "_model_name": "FloatProgressModel",
            "_view_count": null,
            "_view_module": "@jupyter-widgets/controls",
            "_view_module_version": "1.5.0",
            "_view_name": "ProgressView",
            "bar_style": "success",
            "description": "",
            "description_tooltip": null,
            "layout": "IPY_MODEL_9a0cbab28b4940ef8435d71c55c16f60",
            "max": 1175,
            "min": 0,
            "orientation": "horizontal",
            "style": "IPY_MODEL_9ef0ae66674b4856b47313cb3569144f",
            "value": 1175
          }
        },
        "febd2efb0512427cb9bc0992ae4a480e": {
          "model_module": "@jupyter-widgets/controls",
          "model_name": "HTMLModel",
          "model_module_version": "1.5.0",
          "state": {
            "_dom_classes": [],
            "_model_module": "@jupyter-widgets/controls",
            "_model_module_version": "1.5.0",
            "_model_name": "HTMLModel",
            "_view_count": null,
            "_view_module": "@jupyter-widgets/controls",
            "_view_module_version": "1.5.0",
            "_view_name": "HTMLView",
            "description": "",
            "description_tooltip": null,
            "layout": "IPY_MODEL_398e7ef53bc2439b9bb0fcc92e175ea3",
            "placeholder": "​",
            "style": "IPY_MODEL_98caa6ddf3464b8cb665f43f7f79ef7c",
            "value": " 1.18k/1.18k [00:00&lt;00:00, 16.6kB/s]"
          }
        },
        "a26a9f515a5c486fa33985f5b1adbf66": {
          "model_module": "@jupyter-widgets/base",
          "model_name": "LayoutModel",
          "model_module_version": "1.2.0",
          "state": {
            "_model_module": "@jupyter-widgets/base",
            "_model_module_version": "1.2.0",
            "_model_name": "LayoutModel",
            "_view_count": null,
            "_view_module": "@jupyter-widgets/base",
            "_view_module_version": "1.2.0",
            "_view_name": "LayoutView",
            "align_content": null,
            "align_items": null,
            "align_self": null,
            "border": null,
            "bottom": null,
            "display": null,
            "flex": null,
            "flex_flow": null,
            "grid_area": null,
            "grid_auto_columns": null,
            "grid_auto_flow": null,
            "grid_auto_rows": null,
            "grid_column": null,
            "grid_gap": null,
            "grid_row": null,
            "grid_template_areas": null,
            "grid_template_columns": null,
            "grid_template_rows": null,
            "height": null,
            "justify_content": null,
            "justify_items": null,
            "left": null,
            "margin": null,
            "max_height": null,
            "max_width": null,
            "min_height": null,
            "min_width": null,
            "object_fit": null,
            "object_position": null,
            "order": null,
            "overflow": null,
            "overflow_x": null,
            "overflow_y": null,
            "padding": null,
            "right": null,
            "top": null,
            "visibility": null,
            "width": null
          }
        },
        "e8dc92038157492fb7bf5926f5abda19": {
          "model_module": "@jupyter-widgets/base",
          "model_name": "LayoutModel",
          "model_module_version": "1.2.0",
          "state": {
            "_model_module": "@jupyter-widgets/base",
            "_model_module_version": "1.2.0",
            "_model_name": "LayoutModel",
            "_view_count": null,
            "_view_module": "@jupyter-widgets/base",
            "_view_module_version": "1.2.0",
            "_view_name": "LayoutView",
            "align_content": null,
            "align_items": null,
            "align_self": null,
            "border": null,
            "bottom": null,
            "display": null,
            "flex": null,
            "flex_flow": null,
            "grid_area": null,
            "grid_auto_columns": null,
            "grid_auto_flow": null,
            "grid_auto_rows": null,
            "grid_column": null,
            "grid_gap": null,
            "grid_row": null,
            "grid_template_areas": null,
            "grid_template_columns": null,
            "grid_template_rows": null,
            "height": null,
            "justify_content": null,
            "justify_items": null,
            "left": null,
            "margin": null,
            "max_height": null,
            "max_width": null,
            "min_height": null,
            "min_width": null,
            "object_fit": null,
            "object_position": null,
            "order": null,
            "overflow": null,
            "overflow_x": null,
            "overflow_y": null,
            "padding": null,
            "right": null,
            "top": null,
            "visibility": null,
            "width": null
          }
        },
        "7f4d64764d0644ff8433372208ac451c": {
          "model_module": "@jupyter-widgets/controls",
          "model_name": "DescriptionStyleModel",
          "model_module_version": "1.5.0",
          "state": {
            "_model_module": "@jupyter-widgets/controls",
            "_model_module_version": "1.5.0",
            "_model_name": "DescriptionStyleModel",
            "_view_count": null,
            "_view_module": "@jupyter-widgets/base",
            "_view_module_version": "1.2.0",
            "_view_name": "StyleView",
            "description_width": ""
          }
        },
        "9a0cbab28b4940ef8435d71c55c16f60": {
          "model_module": "@jupyter-widgets/base",
          "model_name": "LayoutModel",
          "model_module_version": "1.2.0",
          "state": {
            "_model_module": "@jupyter-widgets/base",
            "_model_module_version": "1.2.0",
            "_model_name": "LayoutModel",
            "_view_count": null,
            "_view_module": "@jupyter-widgets/base",
            "_view_module_version": "1.2.0",
            "_view_name": "LayoutView",
            "align_content": null,
            "align_items": null,
            "align_self": null,
            "border": null,
            "bottom": null,
            "display": null,
            "flex": null,
            "flex_flow": null,
            "grid_area": null,
            "grid_auto_columns": null,
            "grid_auto_flow": null,
            "grid_auto_rows": null,
            "grid_column": null,
            "grid_gap": null,
            "grid_row": null,
            "grid_template_areas": null,
            "grid_template_columns": null,
            "grid_template_rows": null,
            "height": null,
            "justify_content": null,
            "justify_items": null,
            "left": null,
            "margin": null,
            "max_height": null,
            "max_width": null,
            "min_height": null,
            "min_width": null,
            "object_fit": null,
            "object_position": null,
            "order": null,
            "overflow": null,
            "overflow_x": null,
            "overflow_y": null,
            "padding": null,
            "right": null,
            "top": null,
            "visibility": null,
            "width": null
          }
        },
        "9ef0ae66674b4856b47313cb3569144f": {
          "model_module": "@jupyter-widgets/controls",
          "model_name": "ProgressStyleModel",
          "model_module_version": "1.5.0",
          "state": {
            "_model_module": "@jupyter-widgets/controls",
            "_model_module_version": "1.5.0",
            "_model_name": "ProgressStyleModel",
            "_view_count": null,
            "_view_module": "@jupyter-widgets/base",
            "_view_module_version": "1.2.0",
            "_view_name": "StyleView",
            "bar_color": null,
            "description_width": ""
          }
        },
        "398e7ef53bc2439b9bb0fcc92e175ea3": {
          "model_module": "@jupyter-widgets/base",
          "model_name": "LayoutModel",
          "model_module_version": "1.2.0",
          "state": {
            "_model_module": "@jupyter-widgets/base",
            "_model_module_version": "1.2.0",
            "_model_name": "LayoutModel",
            "_view_count": null,
            "_view_module": "@jupyter-widgets/base",
            "_view_module_version": "1.2.0",
            "_view_name": "LayoutView",
            "align_content": null,
            "align_items": null,
            "align_self": null,
            "border": null,
            "bottom": null,
            "display": null,
            "flex": null,
            "flex_flow": null,
            "grid_area": null,
            "grid_auto_columns": null,
            "grid_auto_flow": null,
            "grid_auto_rows": null,
            "grid_column": null,
            "grid_gap": null,
            "grid_row": null,
            "grid_template_areas": null,
            "grid_template_columns": null,
            "grid_template_rows": null,
            "height": null,
            "justify_content": null,
            "justify_items": null,
            "left": null,
            "margin": null,
            "max_height": null,
            "max_width": null,
            "min_height": null,
            "min_width": null,
            "object_fit": null,
            "object_position": null,
            "order": null,
            "overflow": null,
            "overflow_x": null,
            "overflow_y": null,
            "padding": null,
            "right": null,
            "top": null,
            "visibility": null,
            "width": null
          }
        },
        "98caa6ddf3464b8cb665f43f7f79ef7c": {
          "model_module": "@jupyter-widgets/controls",
          "model_name": "DescriptionStyleModel",
          "model_module_version": "1.5.0",
          "state": {
            "_model_module": "@jupyter-widgets/controls",
            "_model_module_version": "1.5.0",
            "_model_name": "DescriptionStyleModel",
            "_view_count": null,
            "_view_module": "@jupyter-widgets/base",
            "_view_module_version": "1.2.0",
            "_view_name": "StyleView",
            "description_width": ""
          }
        },
        "236b54f731a244e585d7e50447fc7a1a": {
          "model_module": "@jupyter-widgets/controls",
          "model_name": "HBoxModel",
          "model_module_version": "1.5.0",
          "state": {
            "_dom_classes": [],
            "_model_module": "@jupyter-widgets/controls",
            "_model_module_version": "1.5.0",
            "_model_name": "HBoxModel",
            "_view_count": null,
            "_view_module": "@jupyter-widgets/controls",
            "_view_module_version": "1.5.0",
            "_view_name": "HBoxView",
            "box_style": "",
            "children": [
              "IPY_MODEL_d5455de0e1b7487098dc7f69ea19c2c0",
              "IPY_MODEL_f9d4f21a458d4ad6af74092a3029e612",
              "IPY_MODEL_f1b3cdd7b55a4fedaf778321e378e31e"
            ],
            "layout": "IPY_MODEL_d75c2be295ed408c8be91039659d3493"
          }
        },
        "d5455de0e1b7487098dc7f69ea19c2c0": {
          "model_module": "@jupyter-widgets/controls",
          "model_name": "HTMLModel",
          "model_module_version": "1.5.0",
          "state": {
            "_dom_classes": [],
            "_model_module": "@jupyter-widgets/controls",
            "_model_module_version": "1.5.0",
            "_model_name": "HTMLModel",
            "_view_count": null,
            "_view_module": "@jupyter-widgets/controls",
            "_view_module_version": "1.5.0",
            "_view_name": "HTMLView",
            "description": "",
            "description_tooltip": null,
            "layout": "IPY_MODEL_2ec38700b19144c7911f93a1eeb88aa6",
            "placeholder": "​",
            "style": "IPY_MODEL_70a283b2b9dd48bbb2b30d5d36dcb1e9",
            "value": "Downloading: 100%"
          }
        },
        "f9d4f21a458d4ad6af74092a3029e612": {
          "model_module": "@jupyter-widgets/controls",
          "model_name": "FloatProgressModel",
          "model_module_version": "1.5.0",
          "state": {
            "_dom_classes": [],
            "_model_module": "@jupyter-widgets/controls",
            "_model_module_version": "1.5.0",
            "_model_name": "FloatProgressModel",
            "_view_count": null,
            "_view_module": "@jupyter-widgets/controls",
            "_view_module_version": "1.5.0",
            "_view_name": "ProgressView",
            "bar_style": "success",
            "description": "",
            "description_tooltip": null,
            "layout": "IPY_MODEL_b72fa960f480493bbd8c547c5855febb",
            "max": 190,
            "min": 0,
            "orientation": "horizontal",
            "style": "IPY_MODEL_7c8ba5137c8f4bdab9e737bb921d6b84",
            "value": 190
          }
        },
        "f1b3cdd7b55a4fedaf778321e378e31e": {
          "model_module": "@jupyter-widgets/controls",
          "model_name": "HTMLModel",
          "model_module_version": "1.5.0",
          "state": {
            "_dom_classes": [],
            "_model_module": "@jupyter-widgets/controls",
            "_model_module_version": "1.5.0",
            "_model_name": "HTMLModel",
            "_view_count": null,
            "_view_module": "@jupyter-widgets/controls",
            "_view_module_version": "1.5.0",
            "_view_name": "HTMLView",
            "description": "",
            "description_tooltip": null,
            "layout": "IPY_MODEL_93ad6026d4834c7a9ec3ba57fb7b4f68",
            "placeholder": "​",
            "style": "IPY_MODEL_36691d54c4e4459c88d553e88fa162d4",
            "value": " 190/190 [00:00&lt;00:00, 5.06kB/s]"
          }
        },
        "d75c2be295ed408c8be91039659d3493": {
          "model_module": "@jupyter-widgets/base",
          "model_name": "LayoutModel",
          "model_module_version": "1.2.0",
          "state": {
            "_model_module": "@jupyter-widgets/base",
            "_model_module_version": "1.2.0",
            "_model_name": "LayoutModel",
            "_view_count": null,
            "_view_module": "@jupyter-widgets/base",
            "_view_module_version": "1.2.0",
            "_view_name": "LayoutView",
            "align_content": null,
            "align_items": null,
            "align_self": null,
            "border": null,
            "bottom": null,
            "display": null,
            "flex": null,
            "flex_flow": null,
            "grid_area": null,
            "grid_auto_columns": null,
            "grid_auto_flow": null,
            "grid_auto_rows": null,
            "grid_column": null,
            "grid_gap": null,
            "grid_row": null,
            "grid_template_areas": null,
            "grid_template_columns": null,
            "grid_template_rows": null,
            "height": null,
            "justify_content": null,
            "justify_items": null,
            "left": null,
            "margin": null,
            "max_height": null,
            "max_width": null,
            "min_height": null,
            "min_width": null,
            "object_fit": null,
            "object_position": null,
            "order": null,
            "overflow": null,
            "overflow_x": null,
            "overflow_y": null,
            "padding": null,
            "right": null,
            "top": null,
            "visibility": null,
            "width": null
          }
        },
        "2ec38700b19144c7911f93a1eeb88aa6": {
          "model_module": "@jupyter-widgets/base",
          "model_name": "LayoutModel",
          "model_module_version": "1.2.0",
          "state": {
            "_model_module": "@jupyter-widgets/base",
            "_model_module_version": "1.2.0",
            "_model_name": "LayoutModel",
            "_view_count": null,
            "_view_module": "@jupyter-widgets/base",
            "_view_module_version": "1.2.0",
            "_view_name": "LayoutView",
            "align_content": null,
            "align_items": null,
            "align_self": null,
            "border": null,
            "bottom": null,
            "display": null,
            "flex": null,
            "flex_flow": null,
            "grid_area": null,
            "grid_auto_columns": null,
            "grid_auto_flow": null,
            "grid_auto_rows": null,
            "grid_column": null,
            "grid_gap": null,
            "grid_row": null,
            "grid_template_areas": null,
            "grid_template_columns": null,
            "grid_template_rows": null,
            "height": null,
            "justify_content": null,
            "justify_items": null,
            "left": null,
            "margin": null,
            "max_height": null,
            "max_width": null,
            "min_height": null,
            "min_width": null,
            "object_fit": null,
            "object_position": null,
            "order": null,
            "overflow": null,
            "overflow_x": null,
            "overflow_y": null,
            "padding": null,
            "right": null,
            "top": null,
            "visibility": null,
            "width": null
          }
        },
        "70a283b2b9dd48bbb2b30d5d36dcb1e9": {
          "model_module": "@jupyter-widgets/controls",
          "model_name": "DescriptionStyleModel",
          "model_module_version": "1.5.0",
          "state": {
            "_model_module": "@jupyter-widgets/controls",
            "_model_module_version": "1.5.0",
            "_model_name": "DescriptionStyleModel",
            "_view_count": null,
            "_view_module": "@jupyter-widgets/base",
            "_view_module_version": "1.2.0",
            "_view_name": "StyleView",
            "description_width": ""
          }
        },
        "b72fa960f480493bbd8c547c5855febb": {
          "model_module": "@jupyter-widgets/base",
          "model_name": "LayoutModel",
          "model_module_version": "1.2.0",
          "state": {
            "_model_module": "@jupyter-widgets/base",
            "_model_module_version": "1.2.0",
            "_model_name": "LayoutModel",
            "_view_count": null,
            "_view_module": "@jupyter-widgets/base",
            "_view_module_version": "1.2.0",
            "_view_name": "LayoutView",
            "align_content": null,
            "align_items": null,
            "align_self": null,
            "border": null,
            "bottom": null,
            "display": null,
            "flex": null,
            "flex_flow": null,
            "grid_area": null,
            "grid_auto_columns": null,
            "grid_auto_flow": null,
            "grid_auto_rows": null,
            "grid_column": null,
            "grid_gap": null,
            "grid_row": null,
            "grid_template_areas": null,
            "grid_template_columns": null,
            "grid_template_rows": null,
            "height": null,
            "justify_content": null,
            "justify_items": null,
            "left": null,
            "margin": null,
            "max_height": null,
            "max_width": null,
            "min_height": null,
            "min_width": null,
            "object_fit": null,
            "object_position": null,
            "order": null,
            "overflow": null,
            "overflow_x": null,
            "overflow_y": null,
            "padding": null,
            "right": null,
            "top": null,
            "visibility": null,
            "width": null
          }
        },
        "7c8ba5137c8f4bdab9e737bb921d6b84": {
          "model_module": "@jupyter-widgets/controls",
          "model_name": "ProgressStyleModel",
          "model_module_version": "1.5.0",
          "state": {
            "_model_module": "@jupyter-widgets/controls",
            "_model_module_version": "1.5.0",
            "_model_name": "ProgressStyleModel",
            "_view_count": null,
            "_view_module": "@jupyter-widgets/base",
            "_view_module_version": "1.2.0",
            "_view_name": "StyleView",
            "bar_color": null,
            "description_width": ""
          }
        },
        "93ad6026d4834c7a9ec3ba57fb7b4f68": {
          "model_module": "@jupyter-widgets/base",
          "model_name": "LayoutModel",
          "model_module_version": "1.2.0",
          "state": {
            "_model_module": "@jupyter-widgets/base",
            "_model_module_version": "1.2.0",
            "_model_name": "LayoutModel",
            "_view_count": null,
            "_view_module": "@jupyter-widgets/base",
            "_view_module_version": "1.2.0",
            "_view_name": "LayoutView",
            "align_content": null,
            "align_items": null,
            "align_self": null,
            "border": null,
            "bottom": null,
            "display": null,
            "flex": null,
            "flex_flow": null,
            "grid_area": null,
            "grid_auto_columns": null,
            "grid_auto_flow": null,
            "grid_auto_rows": null,
            "grid_column": null,
            "grid_gap": null,
            "grid_row": null,
            "grid_template_areas": null,
            "grid_template_columns": null,
            "grid_template_rows": null,
            "height": null,
            "justify_content": null,
            "justify_items": null,
            "left": null,
            "margin": null,
            "max_height": null,
            "max_width": null,
            "min_height": null,
            "min_width": null,
            "object_fit": null,
            "object_position": null,
            "order": null,
            "overflow": null,
            "overflow_x": null,
            "overflow_y": null,
            "padding": null,
            "right": null,
            "top": null,
            "visibility": null,
            "width": null
          }
        },
        "36691d54c4e4459c88d553e88fa162d4": {
          "model_module": "@jupyter-widgets/controls",
          "model_name": "DescriptionStyleModel",
          "model_module_version": "1.5.0",
          "state": {
            "_model_module": "@jupyter-widgets/controls",
            "_model_module_version": "1.5.0",
            "_model_name": "DescriptionStyleModel",
            "_view_count": null,
            "_view_module": "@jupyter-widgets/base",
            "_view_module_version": "1.2.0",
            "_view_name": "StyleView",
            "description_width": ""
          }
        },
        "3930b4eb27254e84adf85747d381df4d": {
          "model_module": "@jupyter-widgets/controls",
          "model_name": "HBoxModel",
          "model_module_version": "1.5.0",
          "state": {
            "_dom_classes": [],
            "_model_module": "@jupyter-widgets/controls",
            "_model_module_version": "1.5.0",
            "_model_name": "HBoxModel",
            "_view_count": null,
            "_view_module": "@jupyter-widgets/controls",
            "_view_module_version": "1.5.0",
            "_view_name": "HBoxView",
            "box_style": "",
            "children": [
              "IPY_MODEL_e04292b0fa1f442ca62b6c8a024ce67c",
              "IPY_MODEL_7b84e6715175411f9ea51e92de99cdaf",
              "IPY_MODEL_2655f557884d4cd1a7c8aa31eeabdb3b"
            ],
            "layout": "IPY_MODEL_12b4ac1d3cd6478e8f7f53736948599d"
          }
        },
        "e04292b0fa1f442ca62b6c8a024ce67c": {
          "model_module": "@jupyter-widgets/controls",
          "model_name": "HTMLModel",
          "model_module_version": "1.5.0",
          "state": {
            "_dom_classes": [],
            "_model_module": "@jupyter-widgets/controls",
            "_model_module_version": "1.5.0",
            "_model_name": "HTMLModel",
            "_view_count": null,
            "_view_module": "@jupyter-widgets/controls",
            "_view_module_version": "1.5.0",
            "_view_name": "HTMLView",
            "description": "",
            "description_tooltip": null,
            "layout": "IPY_MODEL_cfd06b78b6ee4f3a9b6e7749a3a6d0c2",
            "placeholder": "​",
            "style": "IPY_MODEL_b3b6afc17cc64b8eb7fd82551adca32b",
            "value": "Downloading: 100%"
          }
        },
        "7b84e6715175411f9ea51e92de99cdaf": {
          "model_module": "@jupyter-widgets/controls",
          "model_name": "FloatProgressModel",
          "model_module_version": "1.5.0",
          "state": {
            "_dom_classes": [],
            "_model_module": "@jupyter-widgets/controls",
            "_model_module_version": "1.5.0",
            "_model_name": "FloatProgressModel",
            "_view_count": null,
            "_view_module": "@jupyter-widgets/controls",
            "_view_module_version": "1.5.0",
            "_view_name": "ProgressView",
            "bar_style": "success",
            "description": "",
            "description_tooltip": null,
            "layout": "IPY_MODEL_d7a0f6be8d4c4607915d35bf53c7d586",
            "max": 10610,
            "min": 0,
            "orientation": "horizontal",
            "style": "IPY_MODEL_43d02ccfa0814f4cb3600d4c35499050",
            "value": 10610
          }
        },
        "2655f557884d4cd1a7c8aa31eeabdb3b": {
          "model_module": "@jupyter-widgets/controls",
          "model_name": "HTMLModel",
          "model_module_version": "1.5.0",
          "state": {
            "_dom_classes": [],
            "_model_module": "@jupyter-widgets/controls",
            "_model_module_version": "1.5.0",
            "_model_name": "HTMLModel",
            "_view_count": null,
            "_view_module": "@jupyter-widgets/controls",
            "_view_module_version": "1.5.0",
            "_view_name": "HTMLView",
            "description": "",
            "description_tooltip": null,
            "layout": "IPY_MODEL_d969ab6183b04c74a80caa074a82d062",
            "placeholder": "​",
            "style": "IPY_MODEL_8ce87726af4d4a0287275aafa9a7b35a",
            "value": " 10.6k/10.6k [00:00&lt;00:00, 179kB/s]"
          }
        },
        "12b4ac1d3cd6478e8f7f53736948599d": {
          "model_module": "@jupyter-widgets/base",
          "model_name": "LayoutModel",
          "model_module_version": "1.2.0",
          "state": {
            "_model_module": "@jupyter-widgets/base",
            "_model_module_version": "1.2.0",
            "_model_name": "LayoutModel",
            "_view_count": null,
            "_view_module": "@jupyter-widgets/base",
            "_view_module_version": "1.2.0",
            "_view_name": "LayoutView",
            "align_content": null,
            "align_items": null,
            "align_self": null,
            "border": null,
            "bottom": null,
            "display": null,
            "flex": null,
            "flex_flow": null,
            "grid_area": null,
            "grid_auto_columns": null,
            "grid_auto_flow": null,
            "grid_auto_rows": null,
            "grid_column": null,
            "grid_gap": null,
            "grid_row": null,
            "grid_template_areas": null,
            "grid_template_columns": null,
            "grid_template_rows": null,
            "height": null,
            "justify_content": null,
            "justify_items": null,
            "left": null,
            "margin": null,
            "max_height": null,
            "max_width": null,
            "min_height": null,
            "min_width": null,
            "object_fit": null,
            "object_position": null,
            "order": null,
            "overflow": null,
            "overflow_x": null,
            "overflow_y": null,
            "padding": null,
            "right": null,
            "top": null,
            "visibility": null,
            "width": null
          }
        },
        "cfd06b78b6ee4f3a9b6e7749a3a6d0c2": {
          "model_module": "@jupyter-widgets/base",
          "model_name": "LayoutModel",
          "model_module_version": "1.2.0",
          "state": {
            "_model_module": "@jupyter-widgets/base",
            "_model_module_version": "1.2.0",
            "_model_name": "LayoutModel",
            "_view_count": null,
            "_view_module": "@jupyter-widgets/base",
            "_view_module_version": "1.2.0",
            "_view_name": "LayoutView",
            "align_content": null,
            "align_items": null,
            "align_self": null,
            "border": null,
            "bottom": null,
            "display": null,
            "flex": null,
            "flex_flow": null,
            "grid_area": null,
            "grid_auto_columns": null,
            "grid_auto_flow": null,
            "grid_auto_rows": null,
            "grid_column": null,
            "grid_gap": null,
            "grid_row": null,
            "grid_template_areas": null,
            "grid_template_columns": null,
            "grid_template_rows": null,
            "height": null,
            "justify_content": null,
            "justify_items": null,
            "left": null,
            "margin": null,
            "max_height": null,
            "max_width": null,
            "min_height": null,
            "min_width": null,
            "object_fit": null,
            "object_position": null,
            "order": null,
            "overflow": null,
            "overflow_x": null,
            "overflow_y": null,
            "padding": null,
            "right": null,
            "top": null,
            "visibility": null,
            "width": null
          }
        },
        "b3b6afc17cc64b8eb7fd82551adca32b": {
          "model_module": "@jupyter-widgets/controls",
          "model_name": "DescriptionStyleModel",
          "model_module_version": "1.5.0",
          "state": {
            "_model_module": "@jupyter-widgets/controls",
            "_model_module_version": "1.5.0",
            "_model_name": "DescriptionStyleModel",
            "_view_count": null,
            "_view_module": "@jupyter-widgets/base",
            "_view_module_version": "1.2.0",
            "_view_name": "StyleView",
            "description_width": ""
          }
        },
        "d7a0f6be8d4c4607915d35bf53c7d586": {
          "model_module": "@jupyter-widgets/base",
          "model_name": "LayoutModel",
          "model_module_version": "1.2.0",
          "state": {
            "_model_module": "@jupyter-widgets/base",
            "_model_module_version": "1.2.0",
            "_model_name": "LayoutModel",
            "_view_count": null,
            "_view_module": "@jupyter-widgets/base",
            "_view_module_version": "1.2.0",
            "_view_name": "LayoutView",
            "align_content": null,
            "align_items": null,
            "align_self": null,
            "border": null,
            "bottom": null,
            "display": null,
            "flex": null,
            "flex_flow": null,
            "grid_area": null,
            "grid_auto_columns": null,
            "grid_auto_flow": null,
            "grid_auto_rows": null,
            "grid_column": null,
            "grid_gap": null,
            "grid_row": null,
            "grid_template_areas": null,
            "grid_template_columns": null,
            "grid_template_rows": null,
            "height": null,
            "justify_content": null,
            "justify_items": null,
            "left": null,
            "margin": null,
            "max_height": null,
            "max_width": null,
            "min_height": null,
            "min_width": null,
            "object_fit": null,
            "object_position": null,
            "order": null,
            "overflow": null,
            "overflow_x": null,
            "overflow_y": null,
            "padding": null,
            "right": null,
            "top": null,
            "visibility": null,
            "width": null
          }
        },
        "43d02ccfa0814f4cb3600d4c35499050": {
          "model_module": "@jupyter-widgets/controls",
          "model_name": "ProgressStyleModel",
          "model_module_version": "1.5.0",
          "state": {
            "_model_module": "@jupyter-widgets/controls",
            "_model_module_version": "1.5.0",
            "_model_name": "ProgressStyleModel",
            "_view_count": null,
            "_view_module": "@jupyter-widgets/base",
            "_view_module_version": "1.2.0",
            "_view_name": "StyleView",
            "bar_color": null,
            "description_width": ""
          }
        },
        "d969ab6183b04c74a80caa074a82d062": {
          "model_module": "@jupyter-widgets/base",
          "model_name": "LayoutModel",
          "model_module_version": "1.2.0",
          "state": {
            "_model_module": "@jupyter-widgets/base",
            "_model_module_version": "1.2.0",
            "_model_name": "LayoutModel",
            "_view_count": null,
            "_view_module": "@jupyter-widgets/base",
            "_view_module_version": "1.2.0",
            "_view_name": "LayoutView",
            "align_content": null,
            "align_items": null,
            "align_self": null,
            "border": null,
            "bottom": null,
            "display": null,
            "flex": null,
            "flex_flow": null,
            "grid_area": null,
            "grid_auto_columns": null,
            "grid_auto_flow": null,
            "grid_auto_rows": null,
            "grid_column": null,
            "grid_gap": null,
            "grid_row": null,
            "grid_template_areas": null,
            "grid_template_columns": null,
            "grid_template_rows": null,
            "height": null,
            "justify_content": null,
            "justify_items": null,
            "left": null,
            "margin": null,
            "max_height": null,
            "max_width": null,
            "min_height": null,
            "min_width": null,
            "object_fit": null,
            "object_position": null,
            "order": null,
            "overflow": null,
            "overflow_x": null,
            "overflow_y": null,
            "padding": null,
            "right": null,
            "top": null,
            "visibility": null,
            "width": null
          }
        },
        "8ce87726af4d4a0287275aafa9a7b35a": {
          "model_module": "@jupyter-widgets/controls",
          "model_name": "DescriptionStyleModel",
          "model_module_version": "1.5.0",
          "state": {
            "_model_module": "@jupyter-widgets/controls",
            "_model_module_version": "1.5.0",
            "_model_name": "DescriptionStyleModel",
            "_view_count": null,
            "_view_module": "@jupyter-widgets/base",
            "_view_module_version": "1.2.0",
            "_view_name": "StyleView",
            "description_width": ""
          }
        },
        "795fd2648ca049dba24b0a187c52d37c": {
          "model_module": "@jupyter-widgets/controls",
          "model_name": "HBoxModel",
          "model_module_version": "1.5.0",
          "state": {
            "_dom_classes": [],
            "_model_module": "@jupyter-widgets/controls",
            "_model_module_version": "1.5.0",
            "_model_name": "HBoxModel",
            "_view_count": null,
            "_view_module": "@jupyter-widgets/controls",
            "_view_module_version": "1.5.0",
            "_view_name": "HBoxView",
            "box_style": "",
            "children": [
              "IPY_MODEL_fb973afacb4e43fb9b55d575538a788d",
              "IPY_MODEL_c35497dfeae14163a7feea1e167cab3e",
              "IPY_MODEL_b1b18314fb034c81b3269d29e18cff25"
            ],
            "layout": "IPY_MODEL_3fa43610452149ef903cc286f9133449"
          }
        },
        "fb973afacb4e43fb9b55d575538a788d": {
          "model_module": "@jupyter-widgets/controls",
          "model_name": "HTMLModel",
          "model_module_version": "1.5.0",
          "state": {
            "_dom_classes": [],
            "_model_module": "@jupyter-widgets/controls",
            "_model_module_version": "1.5.0",
            "_model_name": "HTMLModel",
            "_view_count": null,
            "_view_module": "@jupyter-widgets/controls",
            "_view_module_version": "1.5.0",
            "_view_name": "HTMLView",
            "description": "",
            "description_tooltip": null,
            "layout": "IPY_MODEL_4cba0ce2b1364869b93b2c621e6e8a51",
            "placeholder": "​",
            "style": "IPY_MODEL_a9a9247b30614322a0ec7b5c0dd481d4",
            "value": "Downloading: 100%"
          }
        },
        "c35497dfeae14163a7feea1e167cab3e": {
          "model_module": "@jupyter-widgets/controls",
          "model_name": "FloatProgressModel",
          "model_module_version": "1.5.0",
          "state": {
            "_dom_classes": [],
            "_model_module": "@jupyter-widgets/controls",
            "_model_module_version": "1.5.0",
            "_model_name": "FloatProgressModel",
            "_view_count": null,
            "_view_module": "@jupyter-widgets/controls",
            "_view_module_version": "1.5.0",
            "_view_name": "ProgressView",
            "bar_style": "success",
            "description": "",
            "description_tooltip": null,
            "layout": "IPY_MODEL_2001186ca0b942a4994f166d57663366",
            "max": 612,
            "min": 0,
            "orientation": "horizontal",
            "style": "IPY_MODEL_4a7824d4b3d240c5b1aca638345843e7",
            "value": 612
          }
        },
        "b1b18314fb034c81b3269d29e18cff25": {
          "model_module": "@jupyter-widgets/controls",
          "model_name": "HTMLModel",
          "model_module_version": "1.5.0",
          "state": {
            "_dom_classes": [],
            "_model_module": "@jupyter-widgets/controls",
            "_model_module_version": "1.5.0",
            "_model_name": "HTMLModel",
            "_view_count": null,
            "_view_module": "@jupyter-widgets/controls",
            "_view_module_version": "1.5.0",
            "_view_name": "HTMLView",
            "description": "",
            "description_tooltip": null,
            "layout": "IPY_MODEL_65886277eeac4abf94ebd798593990c0",
            "placeholder": "​",
            "style": "IPY_MODEL_060626282c3d4c99ae8de97e98e6c9b5",
            "value": " 612/612 [00:00&lt;00:00, 17.5kB/s]"
          }
        },
        "3fa43610452149ef903cc286f9133449": {
          "model_module": "@jupyter-widgets/base",
          "model_name": "LayoutModel",
          "model_module_version": "1.2.0",
          "state": {
            "_model_module": "@jupyter-widgets/base",
            "_model_module_version": "1.2.0",
            "_model_name": "LayoutModel",
            "_view_count": null,
            "_view_module": "@jupyter-widgets/base",
            "_view_module_version": "1.2.0",
            "_view_name": "LayoutView",
            "align_content": null,
            "align_items": null,
            "align_self": null,
            "border": null,
            "bottom": null,
            "display": null,
            "flex": null,
            "flex_flow": null,
            "grid_area": null,
            "grid_auto_columns": null,
            "grid_auto_flow": null,
            "grid_auto_rows": null,
            "grid_column": null,
            "grid_gap": null,
            "grid_row": null,
            "grid_template_areas": null,
            "grid_template_columns": null,
            "grid_template_rows": null,
            "height": null,
            "justify_content": null,
            "justify_items": null,
            "left": null,
            "margin": null,
            "max_height": null,
            "max_width": null,
            "min_height": null,
            "min_width": null,
            "object_fit": null,
            "object_position": null,
            "order": null,
            "overflow": null,
            "overflow_x": null,
            "overflow_y": null,
            "padding": null,
            "right": null,
            "top": null,
            "visibility": null,
            "width": null
          }
        },
        "4cba0ce2b1364869b93b2c621e6e8a51": {
          "model_module": "@jupyter-widgets/base",
          "model_name": "LayoutModel",
          "model_module_version": "1.2.0",
          "state": {
            "_model_module": "@jupyter-widgets/base",
            "_model_module_version": "1.2.0",
            "_model_name": "LayoutModel",
            "_view_count": null,
            "_view_module": "@jupyter-widgets/base",
            "_view_module_version": "1.2.0",
            "_view_name": "LayoutView",
            "align_content": null,
            "align_items": null,
            "align_self": null,
            "border": null,
            "bottom": null,
            "display": null,
            "flex": null,
            "flex_flow": null,
            "grid_area": null,
            "grid_auto_columns": null,
            "grid_auto_flow": null,
            "grid_auto_rows": null,
            "grid_column": null,
            "grid_gap": null,
            "grid_row": null,
            "grid_template_areas": null,
            "grid_template_columns": null,
            "grid_template_rows": null,
            "height": null,
            "justify_content": null,
            "justify_items": null,
            "left": null,
            "margin": null,
            "max_height": null,
            "max_width": null,
            "min_height": null,
            "min_width": null,
            "object_fit": null,
            "object_position": null,
            "order": null,
            "overflow": null,
            "overflow_x": null,
            "overflow_y": null,
            "padding": null,
            "right": null,
            "top": null,
            "visibility": null,
            "width": null
          }
        },
        "a9a9247b30614322a0ec7b5c0dd481d4": {
          "model_module": "@jupyter-widgets/controls",
          "model_name": "DescriptionStyleModel",
          "model_module_version": "1.5.0",
          "state": {
            "_model_module": "@jupyter-widgets/controls",
            "_model_module_version": "1.5.0",
            "_model_name": "DescriptionStyleModel",
            "_view_count": null,
            "_view_module": "@jupyter-widgets/base",
            "_view_module_version": "1.2.0",
            "_view_name": "StyleView",
            "description_width": ""
          }
        },
        "2001186ca0b942a4994f166d57663366": {
          "model_module": "@jupyter-widgets/base",
          "model_name": "LayoutModel",
          "model_module_version": "1.2.0",
          "state": {
            "_model_module": "@jupyter-widgets/base",
            "_model_module_version": "1.2.0",
            "_model_name": "LayoutModel",
            "_view_count": null,
            "_view_module": "@jupyter-widgets/base",
            "_view_module_version": "1.2.0",
            "_view_name": "LayoutView",
            "align_content": null,
            "align_items": null,
            "align_self": null,
            "border": null,
            "bottom": null,
            "display": null,
            "flex": null,
            "flex_flow": null,
            "grid_area": null,
            "grid_auto_columns": null,
            "grid_auto_flow": null,
            "grid_auto_rows": null,
            "grid_column": null,
            "grid_gap": null,
            "grid_row": null,
            "grid_template_areas": null,
            "grid_template_columns": null,
            "grid_template_rows": null,
            "height": null,
            "justify_content": null,
            "justify_items": null,
            "left": null,
            "margin": null,
            "max_height": null,
            "max_width": null,
            "min_height": null,
            "min_width": null,
            "object_fit": null,
            "object_position": null,
            "order": null,
            "overflow": null,
            "overflow_x": null,
            "overflow_y": null,
            "padding": null,
            "right": null,
            "top": null,
            "visibility": null,
            "width": null
          }
        },
        "4a7824d4b3d240c5b1aca638345843e7": {
          "model_module": "@jupyter-widgets/controls",
          "model_name": "ProgressStyleModel",
          "model_module_version": "1.5.0",
          "state": {
            "_model_module": "@jupyter-widgets/controls",
            "_model_module_version": "1.5.0",
            "_model_name": "ProgressStyleModel",
            "_view_count": null,
            "_view_module": "@jupyter-widgets/base",
            "_view_module_version": "1.2.0",
            "_view_name": "StyleView",
            "bar_color": null,
            "description_width": ""
          }
        },
        "65886277eeac4abf94ebd798593990c0": {
          "model_module": "@jupyter-widgets/base",
          "model_name": "LayoutModel",
          "model_module_version": "1.2.0",
          "state": {
            "_model_module": "@jupyter-widgets/base",
            "_model_module_version": "1.2.0",
            "_model_name": "LayoutModel",
            "_view_count": null,
            "_view_module": "@jupyter-widgets/base",
            "_view_module_version": "1.2.0",
            "_view_name": "LayoutView",
            "align_content": null,
            "align_items": null,
            "align_self": null,
            "border": null,
            "bottom": null,
            "display": null,
            "flex": null,
            "flex_flow": null,
            "grid_area": null,
            "grid_auto_columns": null,
            "grid_auto_flow": null,
            "grid_auto_rows": null,
            "grid_column": null,
            "grid_gap": null,
            "grid_row": null,
            "grid_template_areas": null,
            "grid_template_columns": null,
            "grid_template_rows": null,
            "height": null,
            "justify_content": null,
            "justify_items": null,
            "left": null,
            "margin": null,
            "max_height": null,
            "max_width": null,
            "min_height": null,
            "min_width": null,
            "object_fit": null,
            "object_position": null,
            "order": null,
            "overflow": null,
            "overflow_x": null,
            "overflow_y": null,
            "padding": null,
            "right": null,
            "top": null,
            "visibility": null,
            "width": null
          }
        },
        "060626282c3d4c99ae8de97e98e6c9b5": {
          "model_module": "@jupyter-widgets/controls",
          "model_name": "DescriptionStyleModel",
          "model_module_version": "1.5.0",
          "state": {
            "_model_module": "@jupyter-widgets/controls",
            "_model_module_version": "1.5.0",
            "_model_name": "DescriptionStyleModel",
            "_view_count": null,
            "_view_module": "@jupyter-widgets/base",
            "_view_module_version": "1.2.0",
            "_view_name": "StyleView",
            "description_width": ""
          }
        },
        "8bbbea91113d4d1299c434c6dcc80c37": {
          "model_module": "@jupyter-widgets/controls",
          "model_name": "HBoxModel",
          "model_module_version": "1.5.0",
          "state": {
            "_dom_classes": [],
            "_model_module": "@jupyter-widgets/controls",
            "_model_module_version": "1.5.0",
            "_model_name": "HBoxModel",
            "_view_count": null,
            "_view_module": "@jupyter-widgets/controls",
            "_view_module_version": "1.5.0",
            "_view_name": "HBoxView",
            "box_style": "",
            "children": [
              "IPY_MODEL_e8f69c63aaa1466b98ee9ea956742ee8",
              "IPY_MODEL_02d9e388a06c45f09d0fc557bf6337ae",
              "IPY_MODEL_dcaf34f5449e45b7a8cbc451e55f875a"
            ],
            "layout": "IPY_MODEL_2ef5e87758c84958b40ea7f51348af9b"
          }
        },
        "e8f69c63aaa1466b98ee9ea956742ee8": {
          "model_module": "@jupyter-widgets/controls",
          "model_name": "HTMLModel",
          "model_module_version": "1.5.0",
          "state": {
            "_dom_classes": [],
            "_model_module": "@jupyter-widgets/controls",
            "_model_module_version": "1.5.0",
            "_model_name": "HTMLModel",
            "_view_count": null,
            "_view_module": "@jupyter-widgets/controls",
            "_view_module_version": "1.5.0",
            "_view_name": "HTMLView",
            "description": "",
            "description_tooltip": null,
            "layout": "IPY_MODEL_417ab69c52154eda85d90554e2204513",
            "placeholder": "​",
            "style": "IPY_MODEL_5ea773c1729b425f93b8b6aa317dca3c",
            "value": "Downloading: 100%"
          }
        },
        "02d9e388a06c45f09d0fc557bf6337ae": {
          "model_module": "@jupyter-widgets/controls",
          "model_name": "FloatProgressModel",
          "model_module_version": "1.5.0",
          "state": {
            "_dom_classes": [],
            "_model_module": "@jupyter-widgets/controls",
            "_model_module_version": "1.5.0",
            "_model_name": "FloatProgressModel",
            "_view_count": null,
            "_view_module": "@jupyter-widgets/controls",
            "_view_module_version": "1.5.0",
            "_view_name": "ProgressView",
            "bar_style": "success",
            "description": "",
            "description_tooltip": null,
            "layout": "IPY_MODEL_f210728589ac4878b4ba10c1753132ad",
            "max": 116,
            "min": 0,
            "orientation": "horizontal",
            "style": "IPY_MODEL_96a1c9738fe9469fab4d0cc2aeea50cb",
            "value": 116
          }
        },
        "dcaf34f5449e45b7a8cbc451e55f875a": {
          "model_module": "@jupyter-widgets/controls",
          "model_name": "HTMLModel",
          "model_module_version": "1.5.0",
          "state": {
            "_dom_classes": [],
            "_model_module": "@jupyter-widgets/controls",
            "_model_module_version": "1.5.0",
            "_model_name": "HTMLModel",
            "_view_count": null,
            "_view_module": "@jupyter-widgets/controls",
            "_view_module_version": "1.5.0",
            "_view_name": "HTMLView",
            "description": "",
            "description_tooltip": null,
            "layout": "IPY_MODEL_0c2c4ab078de46168764d2827384dd69",
            "placeholder": "​",
            "style": "IPY_MODEL_cf2cec0f3e0d437d8166e5c3dd960484",
            "value": " 116/116 [00:00&lt;00:00, 2.16kB/s]"
          }
        },
        "2ef5e87758c84958b40ea7f51348af9b": {
          "model_module": "@jupyter-widgets/base",
          "model_name": "LayoutModel",
          "model_module_version": "1.2.0",
          "state": {
            "_model_module": "@jupyter-widgets/base",
            "_model_module_version": "1.2.0",
            "_model_name": "LayoutModel",
            "_view_count": null,
            "_view_module": "@jupyter-widgets/base",
            "_view_module_version": "1.2.0",
            "_view_name": "LayoutView",
            "align_content": null,
            "align_items": null,
            "align_self": null,
            "border": null,
            "bottom": null,
            "display": null,
            "flex": null,
            "flex_flow": null,
            "grid_area": null,
            "grid_auto_columns": null,
            "grid_auto_flow": null,
            "grid_auto_rows": null,
            "grid_column": null,
            "grid_gap": null,
            "grid_row": null,
            "grid_template_areas": null,
            "grid_template_columns": null,
            "grid_template_rows": null,
            "height": null,
            "justify_content": null,
            "justify_items": null,
            "left": null,
            "margin": null,
            "max_height": null,
            "max_width": null,
            "min_height": null,
            "min_width": null,
            "object_fit": null,
            "object_position": null,
            "order": null,
            "overflow": null,
            "overflow_x": null,
            "overflow_y": null,
            "padding": null,
            "right": null,
            "top": null,
            "visibility": null,
            "width": null
          }
        },
        "417ab69c52154eda85d90554e2204513": {
          "model_module": "@jupyter-widgets/base",
          "model_name": "LayoutModel",
          "model_module_version": "1.2.0",
          "state": {
            "_model_module": "@jupyter-widgets/base",
            "_model_module_version": "1.2.0",
            "_model_name": "LayoutModel",
            "_view_count": null,
            "_view_module": "@jupyter-widgets/base",
            "_view_module_version": "1.2.0",
            "_view_name": "LayoutView",
            "align_content": null,
            "align_items": null,
            "align_self": null,
            "border": null,
            "bottom": null,
            "display": null,
            "flex": null,
            "flex_flow": null,
            "grid_area": null,
            "grid_auto_columns": null,
            "grid_auto_flow": null,
            "grid_auto_rows": null,
            "grid_column": null,
            "grid_gap": null,
            "grid_row": null,
            "grid_template_areas": null,
            "grid_template_columns": null,
            "grid_template_rows": null,
            "height": null,
            "justify_content": null,
            "justify_items": null,
            "left": null,
            "margin": null,
            "max_height": null,
            "max_width": null,
            "min_height": null,
            "min_width": null,
            "object_fit": null,
            "object_position": null,
            "order": null,
            "overflow": null,
            "overflow_x": null,
            "overflow_y": null,
            "padding": null,
            "right": null,
            "top": null,
            "visibility": null,
            "width": null
          }
        },
        "5ea773c1729b425f93b8b6aa317dca3c": {
          "model_module": "@jupyter-widgets/controls",
          "model_name": "DescriptionStyleModel",
          "model_module_version": "1.5.0",
          "state": {
            "_model_module": "@jupyter-widgets/controls",
            "_model_module_version": "1.5.0",
            "_model_name": "DescriptionStyleModel",
            "_view_count": null,
            "_view_module": "@jupyter-widgets/base",
            "_view_module_version": "1.2.0",
            "_view_name": "StyleView",
            "description_width": ""
          }
        },
        "f210728589ac4878b4ba10c1753132ad": {
          "model_module": "@jupyter-widgets/base",
          "model_name": "LayoutModel",
          "model_module_version": "1.2.0",
          "state": {
            "_model_module": "@jupyter-widgets/base",
            "_model_module_version": "1.2.0",
            "_model_name": "LayoutModel",
            "_view_count": null,
            "_view_module": "@jupyter-widgets/base",
            "_view_module_version": "1.2.0",
            "_view_name": "LayoutView",
            "align_content": null,
            "align_items": null,
            "align_self": null,
            "border": null,
            "bottom": null,
            "display": null,
            "flex": null,
            "flex_flow": null,
            "grid_area": null,
            "grid_auto_columns": null,
            "grid_auto_flow": null,
            "grid_auto_rows": null,
            "grid_column": null,
            "grid_gap": null,
            "grid_row": null,
            "grid_template_areas": null,
            "grid_template_columns": null,
            "grid_template_rows": null,
            "height": null,
            "justify_content": null,
            "justify_items": null,
            "left": null,
            "margin": null,
            "max_height": null,
            "max_width": null,
            "min_height": null,
            "min_width": null,
            "object_fit": null,
            "object_position": null,
            "order": null,
            "overflow": null,
            "overflow_x": null,
            "overflow_y": null,
            "padding": null,
            "right": null,
            "top": null,
            "visibility": null,
            "width": null
          }
        },
        "96a1c9738fe9469fab4d0cc2aeea50cb": {
          "model_module": "@jupyter-widgets/controls",
          "model_name": "ProgressStyleModel",
          "model_module_version": "1.5.0",
          "state": {
            "_model_module": "@jupyter-widgets/controls",
            "_model_module_version": "1.5.0",
            "_model_name": "ProgressStyleModel",
            "_view_count": null,
            "_view_module": "@jupyter-widgets/base",
            "_view_module_version": "1.2.0",
            "_view_name": "StyleView",
            "bar_color": null,
            "description_width": ""
          }
        },
        "0c2c4ab078de46168764d2827384dd69": {
          "model_module": "@jupyter-widgets/base",
          "model_name": "LayoutModel",
          "model_module_version": "1.2.0",
          "state": {
            "_model_module": "@jupyter-widgets/base",
            "_model_module_version": "1.2.0",
            "_model_name": "LayoutModel",
            "_view_count": null,
            "_view_module": "@jupyter-widgets/base",
            "_view_module_version": "1.2.0",
            "_view_name": "LayoutView",
            "align_content": null,
            "align_items": null,
            "align_self": null,
            "border": null,
            "bottom": null,
            "display": null,
            "flex": null,
            "flex_flow": null,
            "grid_area": null,
            "grid_auto_columns": null,
            "grid_auto_flow": null,
            "grid_auto_rows": null,
            "grid_column": null,
            "grid_gap": null,
            "grid_row": null,
            "grid_template_areas": null,
            "grid_template_columns": null,
            "grid_template_rows": null,
            "height": null,
            "justify_content": null,
            "justify_items": null,
            "left": null,
            "margin": null,
            "max_height": null,
            "max_width": null,
            "min_height": null,
            "min_width": null,
            "object_fit": null,
            "object_position": null,
            "order": null,
            "overflow": null,
            "overflow_x": null,
            "overflow_y": null,
            "padding": null,
            "right": null,
            "top": null,
            "visibility": null,
            "width": null
          }
        },
        "cf2cec0f3e0d437d8166e5c3dd960484": {
          "model_module": "@jupyter-widgets/controls",
          "model_name": "DescriptionStyleModel",
          "model_module_version": "1.5.0",
          "state": {
            "_model_module": "@jupyter-widgets/controls",
            "_model_module_version": "1.5.0",
            "_model_name": "DescriptionStyleModel",
            "_view_count": null,
            "_view_module": "@jupyter-widgets/base",
            "_view_module_version": "1.2.0",
            "_view_name": "StyleView",
            "description_width": ""
          }
        },
        "7855af01508b430e97b2f0cb3b2045b0": {
          "model_module": "@jupyter-widgets/controls",
          "model_name": "HBoxModel",
          "model_module_version": "1.5.0",
          "state": {
            "_dom_classes": [],
            "_model_module": "@jupyter-widgets/controls",
            "_model_module_version": "1.5.0",
            "_model_name": "HBoxModel",
            "_view_count": null,
            "_view_module": "@jupyter-widgets/controls",
            "_view_module_version": "1.5.0",
            "_view_name": "HBoxView",
            "box_style": "",
            "children": [
              "IPY_MODEL_aee60c820f244b61b9f833a6a2391363",
              "IPY_MODEL_633b9a6c1b064c0db48c3489ab54b886",
              "IPY_MODEL_361e91efe58d41e796b7d8f384fe450e"
            ],
            "layout": "IPY_MODEL_5c299c705855451589c8e36b593290dc"
          }
        },
        "aee60c820f244b61b9f833a6a2391363": {
          "model_module": "@jupyter-widgets/controls",
          "model_name": "HTMLModel",
          "model_module_version": "1.5.0",
          "state": {
            "_dom_classes": [],
            "_model_module": "@jupyter-widgets/controls",
            "_model_module_version": "1.5.0",
            "_model_name": "HTMLModel",
            "_view_count": null,
            "_view_module": "@jupyter-widgets/controls",
            "_view_module_version": "1.5.0",
            "_view_name": "HTMLView",
            "description": "",
            "description_tooltip": null,
            "layout": "IPY_MODEL_785669b6244e4b6fb2a05e1d988cb4c8",
            "placeholder": "​",
            "style": "IPY_MODEL_28cae0b6e45a46a99ab4c45520be3df2",
            "value": "Downloading: 100%"
          }
        },
        "633b9a6c1b064c0db48c3489ab54b886": {
          "model_module": "@jupyter-widgets/controls",
          "model_name": "FloatProgressModel",
          "model_module_version": "1.5.0",
          "state": {
            "_dom_classes": [],
            "_model_module": "@jupyter-widgets/controls",
            "_model_module_version": "1.5.0",
            "_model_name": "FloatProgressModel",
            "_view_count": null,
            "_view_module": "@jupyter-widgets/controls",
            "_view_module_version": "1.5.0",
            "_view_name": "ProgressView",
            "bar_style": "success",
            "description": "",
            "description_tooltip": null,
            "layout": "IPY_MODEL_80002e222edb46c992de7213c820c279",
            "max": 39265,
            "min": 0,
            "orientation": "horizontal",
            "style": "IPY_MODEL_6b94d6a965b94997ae80b2505ad3a2f0",
            "value": 39265
          }
        },
        "361e91efe58d41e796b7d8f384fe450e": {
          "model_module": "@jupyter-widgets/controls",
          "model_name": "HTMLModel",
          "model_module_version": "1.5.0",
          "state": {
            "_dom_classes": [],
            "_model_module": "@jupyter-widgets/controls",
            "_model_module_version": "1.5.0",
            "_model_name": "HTMLModel",
            "_view_count": null,
            "_view_module": "@jupyter-widgets/controls",
            "_view_module_version": "1.5.0",
            "_view_name": "HTMLView",
            "description": "",
            "description_tooltip": null,
            "layout": "IPY_MODEL_fba9852ba45f457c865e04b3b9d92363",
            "placeholder": "​",
            "style": "IPY_MODEL_fe0287c804144f7aa93fef304849f823",
            "value": " 39.3k/39.3k [00:00&lt;00:00, 631kB/s]"
          }
        },
        "5c299c705855451589c8e36b593290dc": {
          "model_module": "@jupyter-widgets/base",
          "model_name": "LayoutModel",
          "model_module_version": "1.2.0",
          "state": {
            "_model_module": "@jupyter-widgets/base",
            "_model_module_version": "1.2.0",
            "_model_name": "LayoutModel",
            "_view_count": null,
            "_view_module": "@jupyter-widgets/base",
            "_view_module_version": "1.2.0",
            "_view_name": "LayoutView",
            "align_content": null,
            "align_items": null,
            "align_self": null,
            "border": null,
            "bottom": null,
            "display": null,
            "flex": null,
            "flex_flow": null,
            "grid_area": null,
            "grid_auto_columns": null,
            "grid_auto_flow": null,
            "grid_auto_rows": null,
            "grid_column": null,
            "grid_gap": null,
            "grid_row": null,
            "grid_template_areas": null,
            "grid_template_columns": null,
            "grid_template_rows": null,
            "height": null,
            "justify_content": null,
            "justify_items": null,
            "left": null,
            "margin": null,
            "max_height": null,
            "max_width": null,
            "min_height": null,
            "min_width": null,
            "object_fit": null,
            "object_position": null,
            "order": null,
            "overflow": null,
            "overflow_x": null,
            "overflow_y": null,
            "padding": null,
            "right": null,
            "top": null,
            "visibility": null,
            "width": null
          }
        },
        "785669b6244e4b6fb2a05e1d988cb4c8": {
          "model_module": "@jupyter-widgets/base",
          "model_name": "LayoutModel",
          "model_module_version": "1.2.0",
          "state": {
            "_model_module": "@jupyter-widgets/base",
            "_model_module_version": "1.2.0",
            "_model_name": "LayoutModel",
            "_view_count": null,
            "_view_module": "@jupyter-widgets/base",
            "_view_module_version": "1.2.0",
            "_view_name": "LayoutView",
            "align_content": null,
            "align_items": null,
            "align_self": null,
            "border": null,
            "bottom": null,
            "display": null,
            "flex": null,
            "flex_flow": null,
            "grid_area": null,
            "grid_auto_columns": null,
            "grid_auto_flow": null,
            "grid_auto_rows": null,
            "grid_column": null,
            "grid_gap": null,
            "grid_row": null,
            "grid_template_areas": null,
            "grid_template_columns": null,
            "grid_template_rows": null,
            "height": null,
            "justify_content": null,
            "justify_items": null,
            "left": null,
            "margin": null,
            "max_height": null,
            "max_width": null,
            "min_height": null,
            "min_width": null,
            "object_fit": null,
            "object_position": null,
            "order": null,
            "overflow": null,
            "overflow_x": null,
            "overflow_y": null,
            "padding": null,
            "right": null,
            "top": null,
            "visibility": null,
            "width": null
          }
        },
        "28cae0b6e45a46a99ab4c45520be3df2": {
          "model_module": "@jupyter-widgets/controls",
          "model_name": "DescriptionStyleModel",
          "model_module_version": "1.5.0",
          "state": {
            "_model_module": "@jupyter-widgets/controls",
            "_model_module_version": "1.5.0",
            "_model_name": "DescriptionStyleModel",
            "_view_count": null,
            "_view_module": "@jupyter-widgets/base",
            "_view_module_version": "1.2.0",
            "_view_name": "StyleView",
            "description_width": ""
          }
        },
        "80002e222edb46c992de7213c820c279": {
          "model_module": "@jupyter-widgets/base",
          "model_name": "LayoutModel",
          "model_module_version": "1.2.0",
          "state": {
            "_model_module": "@jupyter-widgets/base",
            "_model_module_version": "1.2.0",
            "_model_name": "LayoutModel",
            "_view_count": null,
            "_view_module": "@jupyter-widgets/base",
            "_view_module_version": "1.2.0",
            "_view_name": "LayoutView",
            "align_content": null,
            "align_items": null,
            "align_self": null,
            "border": null,
            "bottom": null,
            "display": null,
            "flex": null,
            "flex_flow": null,
            "grid_area": null,
            "grid_auto_columns": null,
            "grid_auto_flow": null,
            "grid_auto_rows": null,
            "grid_column": null,
            "grid_gap": null,
            "grid_row": null,
            "grid_template_areas": null,
            "grid_template_columns": null,
            "grid_template_rows": null,
            "height": null,
            "justify_content": null,
            "justify_items": null,
            "left": null,
            "margin": null,
            "max_height": null,
            "max_width": null,
            "min_height": null,
            "min_width": null,
            "object_fit": null,
            "object_position": null,
            "order": null,
            "overflow": null,
            "overflow_x": null,
            "overflow_y": null,
            "padding": null,
            "right": null,
            "top": null,
            "visibility": null,
            "width": null
          }
        },
        "6b94d6a965b94997ae80b2505ad3a2f0": {
          "model_module": "@jupyter-widgets/controls",
          "model_name": "ProgressStyleModel",
          "model_module_version": "1.5.0",
          "state": {
            "_model_module": "@jupyter-widgets/controls",
            "_model_module_version": "1.5.0",
            "_model_name": "ProgressStyleModel",
            "_view_count": null,
            "_view_module": "@jupyter-widgets/base",
            "_view_module_version": "1.2.0",
            "_view_name": "StyleView",
            "bar_color": null,
            "description_width": ""
          }
        },
        "fba9852ba45f457c865e04b3b9d92363": {
          "model_module": "@jupyter-widgets/base",
          "model_name": "LayoutModel",
          "model_module_version": "1.2.0",
          "state": {
            "_model_module": "@jupyter-widgets/base",
            "_model_module_version": "1.2.0",
            "_model_name": "LayoutModel",
            "_view_count": null,
            "_view_module": "@jupyter-widgets/base",
            "_view_module_version": "1.2.0",
            "_view_name": "LayoutView",
            "align_content": null,
            "align_items": null,
            "align_self": null,
            "border": null,
            "bottom": null,
            "display": null,
            "flex": null,
            "flex_flow": null,
            "grid_area": null,
            "grid_auto_columns": null,
            "grid_auto_flow": null,
            "grid_auto_rows": null,
            "grid_column": null,
            "grid_gap": null,
            "grid_row": null,
            "grid_template_areas": null,
            "grid_template_columns": null,
            "grid_template_rows": null,
            "height": null,
            "justify_content": null,
            "justify_items": null,
            "left": null,
            "margin": null,
            "max_height": null,
            "max_width": null,
            "min_height": null,
            "min_width": null,
            "object_fit": null,
            "object_position": null,
            "order": null,
            "overflow": null,
            "overflow_x": null,
            "overflow_y": null,
            "padding": null,
            "right": null,
            "top": null,
            "visibility": null,
            "width": null
          }
        },
        "fe0287c804144f7aa93fef304849f823": {
          "model_module": "@jupyter-widgets/controls",
          "model_name": "DescriptionStyleModel",
          "model_module_version": "1.5.0",
          "state": {
            "_model_module": "@jupyter-widgets/controls",
            "_model_module_version": "1.5.0",
            "_model_name": "DescriptionStyleModel",
            "_view_count": null,
            "_view_module": "@jupyter-widgets/base",
            "_view_module_version": "1.2.0",
            "_view_name": "StyleView",
            "description_width": ""
          }
        },
        "89899989b11645afbaf705ac3e3f1147": {
          "model_module": "@jupyter-widgets/controls",
          "model_name": "HBoxModel",
          "model_module_version": "1.5.0",
          "state": {
            "_dom_classes": [],
            "_model_module": "@jupyter-widgets/controls",
            "_model_module_version": "1.5.0",
            "_model_name": "HBoxModel",
            "_view_count": null,
            "_view_module": "@jupyter-widgets/controls",
            "_view_module_version": "1.5.0",
            "_view_name": "HBoxView",
            "box_style": "",
            "children": [
              "IPY_MODEL_3880e66b1020487e9ff66a4df13fbce1",
              "IPY_MODEL_d168a92705834a6e9aa1c6199c4a61c0",
              "IPY_MODEL_ade5ffbd536e41edab1559e5fb390d24"
            ],
            "layout": "IPY_MODEL_05599408545444418382e92ed2d55780"
          }
        },
        "3880e66b1020487e9ff66a4df13fbce1": {
          "model_module": "@jupyter-widgets/controls",
          "model_name": "HTMLModel",
          "model_module_version": "1.5.0",
          "state": {
            "_dom_classes": [],
            "_model_module": "@jupyter-widgets/controls",
            "_model_module_version": "1.5.0",
            "_model_name": "HTMLModel",
            "_view_count": null,
            "_view_module": "@jupyter-widgets/controls",
            "_view_module_version": "1.5.0",
            "_view_name": "HTMLView",
            "description": "",
            "description_tooltip": null,
            "layout": "IPY_MODEL_6a0616790833432e88450b27bb55fd19",
            "placeholder": "​",
            "style": "IPY_MODEL_0e0129ac70314519bbd5566d305a7479",
            "value": "Downloading: 100%"
          }
        },
        "d168a92705834a6e9aa1c6199c4a61c0": {
          "model_module": "@jupyter-widgets/controls",
          "model_name": "FloatProgressModel",
          "model_module_version": "1.5.0",
          "state": {
            "_dom_classes": [],
            "_model_module": "@jupyter-widgets/controls",
            "_model_module_version": "1.5.0",
            "_model_name": "FloatProgressModel",
            "_view_count": null,
            "_view_module": "@jupyter-widgets/controls",
            "_view_module_version": "1.5.0",
            "_view_name": "ProgressView",
            "bar_style": "success",
            "description": "",
            "description_tooltip": null,
            "layout": "IPY_MODEL_64f4281495034921969b7745f8f811f1",
            "max": 90888945,
            "min": 0,
            "orientation": "horizontal",
            "style": "IPY_MODEL_fbc054be5e174e68b9db0848493670aa",
            "value": 90888945
          }
        },
        "ade5ffbd536e41edab1559e5fb390d24": {
          "model_module": "@jupyter-widgets/controls",
          "model_name": "HTMLModel",
          "model_module_version": "1.5.0",
          "state": {
            "_dom_classes": [],
            "_model_module": "@jupyter-widgets/controls",
            "_model_module_version": "1.5.0",
            "_model_name": "HTMLModel",
            "_view_count": null,
            "_view_module": "@jupyter-widgets/controls",
            "_view_module_version": "1.5.0",
            "_view_name": "HTMLView",
            "description": "",
            "description_tooltip": null,
            "layout": "IPY_MODEL_f5cdb543474f48e6ba79824f60183c09",
            "placeholder": "​",
            "style": "IPY_MODEL_30352b4c81c44b6ca4b05398de8ee6b0",
            "value": " 90.9M/90.9M [00:01&lt;00:00, 48.8MB/s]"
          }
        },
        "05599408545444418382e92ed2d55780": {
          "model_module": "@jupyter-widgets/base",
          "model_name": "LayoutModel",
          "model_module_version": "1.2.0",
          "state": {
            "_model_module": "@jupyter-widgets/base",
            "_model_module_version": "1.2.0",
            "_model_name": "LayoutModel",
            "_view_count": null,
            "_view_module": "@jupyter-widgets/base",
            "_view_module_version": "1.2.0",
            "_view_name": "LayoutView",
            "align_content": null,
            "align_items": null,
            "align_self": null,
            "border": null,
            "bottom": null,
            "display": null,
            "flex": null,
            "flex_flow": null,
            "grid_area": null,
            "grid_auto_columns": null,
            "grid_auto_flow": null,
            "grid_auto_rows": null,
            "grid_column": null,
            "grid_gap": null,
            "grid_row": null,
            "grid_template_areas": null,
            "grid_template_columns": null,
            "grid_template_rows": null,
            "height": null,
            "justify_content": null,
            "justify_items": null,
            "left": null,
            "margin": null,
            "max_height": null,
            "max_width": null,
            "min_height": null,
            "min_width": null,
            "object_fit": null,
            "object_position": null,
            "order": null,
            "overflow": null,
            "overflow_x": null,
            "overflow_y": null,
            "padding": null,
            "right": null,
            "top": null,
            "visibility": null,
            "width": null
          }
        },
        "6a0616790833432e88450b27bb55fd19": {
          "model_module": "@jupyter-widgets/base",
          "model_name": "LayoutModel",
          "model_module_version": "1.2.0",
          "state": {
            "_model_module": "@jupyter-widgets/base",
            "_model_module_version": "1.2.0",
            "_model_name": "LayoutModel",
            "_view_count": null,
            "_view_module": "@jupyter-widgets/base",
            "_view_module_version": "1.2.0",
            "_view_name": "LayoutView",
            "align_content": null,
            "align_items": null,
            "align_self": null,
            "border": null,
            "bottom": null,
            "display": null,
            "flex": null,
            "flex_flow": null,
            "grid_area": null,
            "grid_auto_columns": null,
            "grid_auto_flow": null,
            "grid_auto_rows": null,
            "grid_column": null,
            "grid_gap": null,
            "grid_row": null,
            "grid_template_areas": null,
            "grid_template_columns": null,
            "grid_template_rows": null,
            "height": null,
            "justify_content": null,
            "justify_items": null,
            "left": null,
            "margin": null,
            "max_height": null,
            "max_width": null,
            "min_height": null,
            "min_width": null,
            "object_fit": null,
            "object_position": null,
            "order": null,
            "overflow": null,
            "overflow_x": null,
            "overflow_y": null,
            "padding": null,
            "right": null,
            "top": null,
            "visibility": null,
            "width": null
          }
        },
        "0e0129ac70314519bbd5566d305a7479": {
          "model_module": "@jupyter-widgets/controls",
          "model_name": "DescriptionStyleModel",
          "model_module_version": "1.5.0",
          "state": {
            "_model_module": "@jupyter-widgets/controls",
            "_model_module_version": "1.5.0",
            "_model_name": "DescriptionStyleModel",
            "_view_count": null,
            "_view_module": "@jupyter-widgets/base",
            "_view_module_version": "1.2.0",
            "_view_name": "StyleView",
            "description_width": ""
          }
        },
        "64f4281495034921969b7745f8f811f1": {
          "model_module": "@jupyter-widgets/base",
          "model_name": "LayoutModel",
          "model_module_version": "1.2.0",
          "state": {
            "_model_module": "@jupyter-widgets/base",
            "_model_module_version": "1.2.0",
            "_model_name": "LayoutModel",
            "_view_count": null,
            "_view_module": "@jupyter-widgets/base",
            "_view_module_version": "1.2.0",
            "_view_name": "LayoutView",
            "align_content": null,
            "align_items": null,
            "align_self": null,
            "border": null,
            "bottom": null,
            "display": null,
            "flex": null,
            "flex_flow": null,
            "grid_area": null,
            "grid_auto_columns": null,
            "grid_auto_flow": null,
            "grid_auto_rows": null,
            "grid_column": null,
            "grid_gap": null,
            "grid_row": null,
            "grid_template_areas": null,
            "grid_template_columns": null,
            "grid_template_rows": null,
            "height": null,
            "justify_content": null,
            "justify_items": null,
            "left": null,
            "margin": null,
            "max_height": null,
            "max_width": null,
            "min_height": null,
            "min_width": null,
            "object_fit": null,
            "object_position": null,
            "order": null,
            "overflow": null,
            "overflow_x": null,
            "overflow_y": null,
            "padding": null,
            "right": null,
            "top": null,
            "visibility": null,
            "width": null
          }
        },
        "fbc054be5e174e68b9db0848493670aa": {
          "model_module": "@jupyter-widgets/controls",
          "model_name": "ProgressStyleModel",
          "model_module_version": "1.5.0",
          "state": {
            "_model_module": "@jupyter-widgets/controls",
            "_model_module_version": "1.5.0",
            "_model_name": "ProgressStyleModel",
            "_view_count": null,
            "_view_module": "@jupyter-widgets/base",
            "_view_module_version": "1.2.0",
            "_view_name": "StyleView",
            "bar_color": null,
            "description_width": ""
          }
        },
        "f5cdb543474f48e6ba79824f60183c09": {
          "model_module": "@jupyter-widgets/base",
          "model_name": "LayoutModel",
          "model_module_version": "1.2.0",
          "state": {
            "_model_module": "@jupyter-widgets/base",
            "_model_module_version": "1.2.0",
            "_model_name": "LayoutModel",
            "_view_count": null,
            "_view_module": "@jupyter-widgets/base",
            "_view_module_version": "1.2.0",
            "_view_name": "LayoutView",
            "align_content": null,
            "align_items": null,
            "align_self": null,
            "border": null,
            "bottom": null,
            "display": null,
            "flex": null,
            "flex_flow": null,
            "grid_area": null,
            "grid_auto_columns": null,
            "grid_auto_flow": null,
            "grid_auto_rows": null,
            "grid_column": null,
            "grid_gap": null,
            "grid_row": null,
            "grid_template_areas": null,
            "grid_template_columns": null,
            "grid_template_rows": null,
            "height": null,
            "justify_content": null,
            "justify_items": null,
            "left": null,
            "margin": null,
            "max_height": null,
            "max_width": null,
            "min_height": null,
            "min_width": null,
            "object_fit": null,
            "object_position": null,
            "order": null,
            "overflow": null,
            "overflow_x": null,
            "overflow_y": null,
            "padding": null,
            "right": null,
            "top": null,
            "visibility": null,
            "width": null
          }
        },
        "30352b4c81c44b6ca4b05398de8ee6b0": {
          "model_module": "@jupyter-widgets/controls",
          "model_name": "DescriptionStyleModel",
          "model_module_version": "1.5.0",
          "state": {
            "_model_module": "@jupyter-widgets/controls",
            "_model_module_version": "1.5.0",
            "_model_name": "DescriptionStyleModel",
            "_view_count": null,
            "_view_module": "@jupyter-widgets/base",
            "_view_module_version": "1.2.0",
            "_view_name": "StyleView",
            "description_width": ""
          }
        },
        "e33be7f4b6284239a940fd8a10004610": {
          "model_module": "@jupyter-widgets/controls",
          "model_name": "HBoxModel",
          "model_module_version": "1.5.0",
          "state": {
            "_dom_classes": [],
            "_model_module": "@jupyter-widgets/controls",
            "_model_module_version": "1.5.0",
            "_model_name": "HBoxModel",
            "_view_count": null,
            "_view_module": "@jupyter-widgets/controls",
            "_view_module_version": "1.5.0",
            "_view_name": "HBoxView",
            "box_style": "",
            "children": [
              "IPY_MODEL_2c8156062d404688b593428ad4d732ad",
              "IPY_MODEL_ea9b373d8ca5490e800bab2f5bd0d467",
              "IPY_MODEL_e8e6d0ab74024154b7ec3613a29d4010"
            ],
            "layout": "IPY_MODEL_75a84d6ea4894309980b558c1d676b30"
          }
        },
        "2c8156062d404688b593428ad4d732ad": {
          "model_module": "@jupyter-widgets/controls",
          "model_name": "HTMLModel",
          "model_module_version": "1.5.0",
          "state": {
            "_dom_classes": [],
            "_model_module": "@jupyter-widgets/controls",
            "_model_module_version": "1.5.0",
            "_model_name": "HTMLModel",
            "_view_count": null,
            "_view_module": "@jupyter-widgets/controls",
            "_view_module_version": "1.5.0",
            "_view_name": "HTMLView",
            "description": "",
            "description_tooltip": null,
            "layout": "IPY_MODEL_b6d1804581a942e789f82961f0d96a59",
            "placeholder": "​",
            "style": "IPY_MODEL_1c37beb6f33f48bf9a00251623ebe4b0",
            "value": "Downloading: 100%"
          }
        },
        "ea9b373d8ca5490e800bab2f5bd0d467": {
          "model_module": "@jupyter-widgets/controls",
          "model_name": "FloatProgressModel",
          "model_module_version": "1.5.0",
          "state": {
            "_dom_classes": [],
            "_model_module": "@jupyter-widgets/controls",
            "_model_module_version": "1.5.0",
            "_model_name": "FloatProgressModel",
            "_view_count": null,
            "_view_module": "@jupyter-widgets/controls",
            "_view_module_version": "1.5.0",
            "_view_name": "ProgressView",
            "bar_style": "success",
            "description": "",
            "description_tooltip": null,
            "layout": "IPY_MODEL_f7dcee8853af4bbf8f160b6d361403a6",
            "max": 53,
            "min": 0,
            "orientation": "horizontal",
            "style": "IPY_MODEL_2ce08b4a42504c48b7920822f79be0bc",
            "value": 53
          }
        },
        "e8e6d0ab74024154b7ec3613a29d4010": {
          "model_module": "@jupyter-widgets/controls",
          "model_name": "HTMLModel",
          "model_module_version": "1.5.0",
          "state": {
            "_dom_classes": [],
            "_model_module": "@jupyter-widgets/controls",
            "_model_module_version": "1.5.0",
            "_model_name": "HTMLModel",
            "_view_count": null,
            "_view_module": "@jupyter-widgets/controls",
            "_view_module_version": "1.5.0",
            "_view_name": "HTMLView",
            "description": "",
            "description_tooltip": null,
            "layout": "IPY_MODEL_9a6d50e199be45359206213dd3b635f9",
            "placeholder": "​",
            "style": "IPY_MODEL_4ad754cecd2d448cbd00f0f9afd46948",
            "value": " 53.0/53.0 [00:00&lt;00:00, 1.22kB/s]"
          }
        },
        "75a84d6ea4894309980b558c1d676b30": {
          "model_module": "@jupyter-widgets/base",
          "model_name": "LayoutModel",
          "model_module_version": "1.2.0",
          "state": {
            "_model_module": "@jupyter-widgets/base",
            "_model_module_version": "1.2.0",
            "_model_name": "LayoutModel",
            "_view_count": null,
            "_view_module": "@jupyter-widgets/base",
            "_view_module_version": "1.2.0",
            "_view_name": "LayoutView",
            "align_content": null,
            "align_items": null,
            "align_self": null,
            "border": null,
            "bottom": null,
            "display": null,
            "flex": null,
            "flex_flow": null,
            "grid_area": null,
            "grid_auto_columns": null,
            "grid_auto_flow": null,
            "grid_auto_rows": null,
            "grid_column": null,
            "grid_gap": null,
            "grid_row": null,
            "grid_template_areas": null,
            "grid_template_columns": null,
            "grid_template_rows": null,
            "height": null,
            "justify_content": null,
            "justify_items": null,
            "left": null,
            "margin": null,
            "max_height": null,
            "max_width": null,
            "min_height": null,
            "min_width": null,
            "object_fit": null,
            "object_position": null,
            "order": null,
            "overflow": null,
            "overflow_x": null,
            "overflow_y": null,
            "padding": null,
            "right": null,
            "top": null,
            "visibility": null,
            "width": null
          }
        },
        "b6d1804581a942e789f82961f0d96a59": {
          "model_module": "@jupyter-widgets/base",
          "model_name": "LayoutModel",
          "model_module_version": "1.2.0",
          "state": {
            "_model_module": "@jupyter-widgets/base",
            "_model_module_version": "1.2.0",
            "_model_name": "LayoutModel",
            "_view_count": null,
            "_view_module": "@jupyter-widgets/base",
            "_view_module_version": "1.2.0",
            "_view_name": "LayoutView",
            "align_content": null,
            "align_items": null,
            "align_self": null,
            "border": null,
            "bottom": null,
            "display": null,
            "flex": null,
            "flex_flow": null,
            "grid_area": null,
            "grid_auto_columns": null,
            "grid_auto_flow": null,
            "grid_auto_rows": null,
            "grid_column": null,
            "grid_gap": null,
            "grid_row": null,
            "grid_template_areas": null,
            "grid_template_columns": null,
            "grid_template_rows": null,
            "height": null,
            "justify_content": null,
            "justify_items": null,
            "left": null,
            "margin": null,
            "max_height": null,
            "max_width": null,
            "min_height": null,
            "min_width": null,
            "object_fit": null,
            "object_position": null,
            "order": null,
            "overflow": null,
            "overflow_x": null,
            "overflow_y": null,
            "padding": null,
            "right": null,
            "top": null,
            "visibility": null,
            "width": null
          }
        },
        "1c37beb6f33f48bf9a00251623ebe4b0": {
          "model_module": "@jupyter-widgets/controls",
          "model_name": "DescriptionStyleModel",
          "model_module_version": "1.5.0",
          "state": {
            "_model_module": "@jupyter-widgets/controls",
            "_model_module_version": "1.5.0",
            "_model_name": "DescriptionStyleModel",
            "_view_count": null,
            "_view_module": "@jupyter-widgets/base",
            "_view_module_version": "1.2.0",
            "_view_name": "StyleView",
            "description_width": ""
          }
        },
        "f7dcee8853af4bbf8f160b6d361403a6": {
          "model_module": "@jupyter-widgets/base",
          "model_name": "LayoutModel",
          "model_module_version": "1.2.0",
          "state": {
            "_model_module": "@jupyter-widgets/base",
            "_model_module_version": "1.2.0",
            "_model_name": "LayoutModel",
            "_view_count": null,
            "_view_module": "@jupyter-widgets/base",
            "_view_module_version": "1.2.0",
            "_view_name": "LayoutView",
            "align_content": null,
            "align_items": null,
            "align_self": null,
            "border": null,
            "bottom": null,
            "display": null,
            "flex": null,
            "flex_flow": null,
            "grid_area": null,
            "grid_auto_columns": null,
            "grid_auto_flow": null,
            "grid_auto_rows": null,
            "grid_column": null,
            "grid_gap": null,
            "grid_row": null,
            "grid_template_areas": null,
            "grid_template_columns": null,
            "grid_template_rows": null,
            "height": null,
            "justify_content": null,
            "justify_items": null,
            "left": null,
            "margin": null,
            "max_height": null,
            "max_width": null,
            "min_height": null,
            "min_width": null,
            "object_fit": null,
            "object_position": null,
            "order": null,
            "overflow": null,
            "overflow_x": null,
            "overflow_y": null,
            "padding": null,
            "right": null,
            "top": null,
            "visibility": null,
            "width": null
          }
        },
        "2ce08b4a42504c48b7920822f79be0bc": {
          "model_module": "@jupyter-widgets/controls",
          "model_name": "ProgressStyleModel",
          "model_module_version": "1.5.0",
          "state": {
            "_model_module": "@jupyter-widgets/controls",
            "_model_module_version": "1.5.0",
            "_model_name": "ProgressStyleModel",
            "_view_count": null,
            "_view_module": "@jupyter-widgets/base",
            "_view_module_version": "1.2.0",
            "_view_name": "StyleView",
            "bar_color": null,
            "description_width": ""
          }
        },
        "9a6d50e199be45359206213dd3b635f9": {
          "model_module": "@jupyter-widgets/base",
          "model_name": "LayoutModel",
          "model_module_version": "1.2.0",
          "state": {
            "_model_module": "@jupyter-widgets/base",
            "_model_module_version": "1.2.0",
            "_model_name": "LayoutModel",
            "_view_count": null,
            "_view_module": "@jupyter-widgets/base",
            "_view_module_version": "1.2.0",
            "_view_name": "LayoutView",
            "align_content": null,
            "align_items": null,
            "align_self": null,
            "border": null,
            "bottom": null,
            "display": null,
            "flex": null,
            "flex_flow": null,
            "grid_area": null,
            "grid_auto_columns": null,
            "grid_auto_flow": null,
            "grid_auto_rows": null,
            "grid_column": null,
            "grid_gap": null,
            "grid_row": null,
            "grid_template_areas": null,
            "grid_template_columns": null,
            "grid_template_rows": null,
            "height": null,
            "justify_content": null,
            "justify_items": null,
            "left": null,
            "margin": null,
            "max_height": null,
            "max_width": null,
            "min_height": null,
            "min_width": null,
            "object_fit": null,
            "object_position": null,
            "order": null,
            "overflow": null,
            "overflow_x": null,
            "overflow_y": null,
            "padding": null,
            "right": null,
            "top": null,
            "visibility": null,
            "width": null
          }
        },
        "4ad754cecd2d448cbd00f0f9afd46948": {
          "model_module": "@jupyter-widgets/controls",
          "model_name": "DescriptionStyleModel",
          "model_module_version": "1.5.0",
          "state": {
            "_model_module": "@jupyter-widgets/controls",
            "_model_module_version": "1.5.0",
            "_model_name": "DescriptionStyleModel",
            "_view_count": null,
            "_view_module": "@jupyter-widgets/base",
            "_view_module_version": "1.2.0",
            "_view_name": "StyleView",
            "description_width": ""
          }
        },
        "b5f93967e38e42fb8e2e3f871b5e032c": {
          "model_module": "@jupyter-widgets/controls",
          "model_name": "HBoxModel",
          "model_module_version": "1.5.0",
          "state": {
            "_dom_classes": [],
            "_model_module": "@jupyter-widgets/controls",
            "_model_module_version": "1.5.0",
            "_model_name": "HBoxModel",
            "_view_count": null,
            "_view_module": "@jupyter-widgets/controls",
            "_view_module_version": "1.5.0",
            "_view_name": "HBoxView",
            "box_style": "",
            "children": [
              "IPY_MODEL_410edd0a2f3946e8a90862b524c4876b",
              "IPY_MODEL_aeaaf114064442438ba3de4bd981e85c",
              "IPY_MODEL_8dedbca4322642f8b07bfc6ca0a7e244"
            ],
            "layout": "IPY_MODEL_23e0a43a5ae6447bbcf3db826e3f396f"
          }
        },
        "410edd0a2f3946e8a90862b524c4876b": {
          "model_module": "@jupyter-widgets/controls",
          "model_name": "HTMLModel",
          "model_module_version": "1.5.0",
          "state": {
            "_dom_classes": [],
            "_model_module": "@jupyter-widgets/controls",
            "_model_module_version": "1.5.0",
            "_model_name": "HTMLModel",
            "_view_count": null,
            "_view_module": "@jupyter-widgets/controls",
            "_view_module_version": "1.5.0",
            "_view_name": "HTMLView",
            "description": "",
            "description_tooltip": null,
            "layout": "IPY_MODEL_b1e85d47f5b649ac9b1c9317a0f2b9f0",
            "placeholder": "​",
            "style": "IPY_MODEL_28cd9a1b55b44db99f690c4d26c416d7",
            "value": "Downloading: 100%"
          }
        },
        "aeaaf114064442438ba3de4bd981e85c": {
          "model_module": "@jupyter-widgets/controls",
          "model_name": "FloatProgressModel",
          "model_module_version": "1.5.0",
          "state": {
            "_dom_classes": [],
            "_model_module": "@jupyter-widgets/controls",
            "_model_module_version": "1.5.0",
            "_model_name": "FloatProgressModel",
            "_view_count": null,
            "_view_module": "@jupyter-widgets/controls",
            "_view_module_version": "1.5.0",
            "_view_name": "ProgressView",
            "bar_style": "success",
            "description": "",
            "description_tooltip": null,
            "layout": "IPY_MODEL_4e4b6a4cdf614aff86f50241da79259d",
            "max": 112,
            "min": 0,
            "orientation": "horizontal",
            "style": "IPY_MODEL_14652216b21f49b38d7789016ab52030",
            "value": 112
          }
        },
        "8dedbca4322642f8b07bfc6ca0a7e244": {
          "model_module": "@jupyter-widgets/controls",
          "model_name": "HTMLModel",
          "model_module_version": "1.5.0",
          "state": {
            "_dom_classes": [],
            "_model_module": "@jupyter-widgets/controls",
            "_model_module_version": "1.5.0",
            "_model_name": "HTMLModel",
            "_view_count": null,
            "_view_module": "@jupyter-widgets/controls",
            "_view_module_version": "1.5.0",
            "_view_name": "HTMLView",
            "description": "",
            "description_tooltip": null,
            "layout": "IPY_MODEL_2bab89875f7149e08d52420b894a2b0d",
            "placeholder": "​",
            "style": "IPY_MODEL_5ee19ad5b279490783345062961c898c",
            "value": " 112/112 [00:00&lt;00:00, 2.22kB/s]"
          }
        },
        "23e0a43a5ae6447bbcf3db826e3f396f": {
          "model_module": "@jupyter-widgets/base",
          "model_name": "LayoutModel",
          "model_module_version": "1.2.0",
          "state": {
            "_model_module": "@jupyter-widgets/base",
            "_model_module_version": "1.2.0",
            "_model_name": "LayoutModel",
            "_view_count": null,
            "_view_module": "@jupyter-widgets/base",
            "_view_module_version": "1.2.0",
            "_view_name": "LayoutView",
            "align_content": null,
            "align_items": null,
            "align_self": null,
            "border": null,
            "bottom": null,
            "display": null,
            "flex": null,
            "flex_flow": null,
            "grid_area": null,
            "grid_auto_columns": null,
            "grid_auto_flow": null,
            "grid_auto_rows": null,
            "grid_column": null,
            "grid_gap": null,
            "grid_row": null,
            "grid_template_areas": null,
            "grid_template_columns": null,
            "grid_template_rows": null,
            "height": null,
            "justify_content": null,
            "justify_items": null,
            "left": null,
            "margin": null,
            "max_height": null,
            "max_width": null,
            "min_height": null,
            "min_width": null,
            "object_fit": null,
            "object_position": null,
            "order": null,
            "overflow": null,
            "overflow_x": null,
            "overflow_y": null,
            "padding": null,
            "right": null,
            "top": null,
            "visibility": null,
            "width": null
          }
        },
        "b1e85d47f5b649ac9b1c9317a0f2b9f0": {
          "model_module": "@jupyter-widgets/base",
          "model_name": "LayoutModel",
          "model_module_version": "1.2.0",
          "state": {
            "_model_module": "@jupyter-widgets/base",
            "_model_module_version": "1.2.0",
            "_model_name": "LayoutModel",
            "_view_count": null,
            "_view_module": "@jupyter-widgets/base",
            "_view_module_version": "1.2.0",
            "_view_name": "LayoutView",
            "align_content": null,
            "align_items": null,
            "align_self": null,
            "border": null,
            "bottom": null,
            "display": null,
            "flex": null,
            "flex_flow": null,
            "grid_area": null,
            "grid_auto_columns": null,
            "grid_auto_flow": null,
            "grid_auto_rows": null,
            "grid_column": null,
            "grid_gap": null,
            "grid_row": null,
            "grid_template_areas": null,
            "grid_template_columns": null,
            "grid_template_rows": null,
            "height": null,
            "justify_content": null,
            "justify_items": null,
            "left": null,
            "margin": null,
            "max_height": null,
            "max_width": null,
            "min_height": null,
            "min_width": null,
            "object_fit": null,
            "object_position": null,
            "order": null,
            "overflow": null,
            "overflow_x": null,
            "overflow_y": null,
            "padding": null,
            "right": null,
            "top": null,
            "visibility": null,
            "width": null
          }
        },
        "28cd9a1b55b44db99f690c4d26c416d7": {
          "model_module": "@jupyter-widgets/controls",
          "model_name": "DescriptionStyleModel",
          "model_module_version": "1.5.0",
          "state": {
            "_model_module": "@jupyter-widgets/controls",
            "_model_module_version": "1.5.0",
            "_model_name": "DescriptionStyleModel",
            "_view_count": null,
            "_view_module": "@jupyter-widgets/base",
            "_view_module_version": "1.2.0",
            "_view_name": "StyleView",
            "description_width": ""
          }
        },
        "4e4b6a4cdf614aff86f50241da79259d": {
          "model_module": "@jupyter-widgets/base",
          "model_name": "LayoutModel",
          "model_module_version": "1.2.0",
          "state": {
            "_model_module": "@jupyter-widgets/base",
            "_model_module_version": "1.2.0",
            "_model_name": "LayoutModel",
            "_view_count": null,
            "_view_module": "@jupyter-widgets/base",
            "_view_module_version": "1.2.0",
            "_view_name": "LayoutView",
            "align_content": null,
            "align_items": null,
            "align_self": null,
            "border": null,
            "bottom": null,
            "display": null,
            "flex": null,
            "flex_flow": null,
            "grid_area": null,
            "grid_auto_columns": null,
            "grid_auto_flow": null,
            "grid_auto_rows": null,
            "grid_column": null,
            "grid_gap": null,
            "grid_row": null,
            "grid_template_areas": null,
            "grid_template_columns": null,
            "grid_template_rows": null,
            "height": null,
            "justify_content": null,
            "justify_items": null,
            "left": null,
            "margin": null,
            "max_height": null,
            "max_width": null,
            "min_height": null,
            "min_width": null,
            "object_fit": null,
            "object_position": null,
            "order": null,
            "overflow": null,
            "overflow_x": null,
            "overflow_y": null,
            "padding": null,
            "right": null,
            "top": null,
            "visibility": null,
            "width": null
          }
        },
        "14652216b21f49b38d7789016ab52030": {
          "model_module": "@jupyter-widgets/controls",
          "model_name": "ProgressStyleModel",
          "model_module_version": "1.5.0",
          "state": {
            "_model_module": "@jupyter-widgets/controls",
            "_model_module_version": "1.5.0",
            "_model_name": "ProgressStyleModel",
            "_view_count": null,
            "_view_module": "@jupyter-widgets/base",
            "_view_module_version": "1.2.0",
            "_view_name": "StyleView",
            "bar_color": null,
            "description_width": ""
          }
        },
        "2bab89875f7149e08d52420b894a2b0d": {
          "model_module": "@jupyter-widgets/base",
          "model_name": "LayoutModel",
          "model_module_version": "1.2.0",
          "state": {
            "_model_module": "@jupyter-widgets/base",
            "_model_module_version": "1.2.0",
            "_model_name": "LayoutModel",
            "_view_count": null,
            "_view_module": "@jupyter-widgets/base",
            "_view_module_version": "1.2.0",
            "_view_name": "LayoutView",
            "align_content": null,
            "align_items": null,
            "align_self": null,
            "border": null,
            "bottom": null,
            "display": null,
            "flex": null,
            "flex_flow": null,
            "grid_area": null,
            "grid_auto_columns": null,
            "grid_auto_flow": null,
            "grid_auto_rows": null,
            "grid_column": null,
            "grid_gap": null,
            "grid_row": null,
            "grid_template_areas": null,
            "grid_template_columns": null,
            "grid_template_rows": null,
            "height": null,
            "justify_content": null,
            "justify_items": null,
            "left": null,
            "margin": null,
            "max_height": null,
            "max_width": null,
            "min_height": null,
            "min_width": null,
            "object_fit": null,
            "object_position": null,
            "order": null,
            "overflow": null,
            "overflow_x": null,
            "overflow_y": null,
            "padding": null,
            "right": null,
            "top": null,
            "visibility": null,
            "width": null
          }
        },
        "5ee19ad5b279490783345062961c898c": {
          "model_module": "@jupyter-widgets/controls",
          "model_name": "DescriptionStyleModel",
          "model_module_version": "1.5.0",
          "state": {
            "_model_module": "@jupyter-widgets/controls",
            "_model_module_version": "1.5.0",
            "_model_name": "DescriptionStyleModel",
            "_view_count": null,
            "_view_module": "@jupyter-widgets/base",
            "_view_module_version": "1.2.0",
            "_view_name": "StyleView",
            "description_width": ""
          }
        },
        "0aa065f4c60c472b982d1b5225c1a18c": {
          "model_module": "@jupyter-widgets/controls",
          "model_name": "HBoxModel",
          "model_module_version": "1.5.0",
          "state": {
            "_dom_classes": [],
            "_model_module": "@jupyter-widgets/controls",
            "_model_module_version": "1.5.0",
            "_model_name": "HBoxModel",
            "_view_count": null,
            "_view_module": "@jupyter-widgets/controls",
            "_view_module_version": "1.5.0",
            "_view_name": "HBoxView",
            "box_style": "",
            "children": [
              "IPY_MODEL_77d96d28e3d44ae6ae2d5557c958f658",
              "IPY_MODEL_ee1722a68077404c9e683c767ad30f73",
              "IPY_MODEL_9270ac18151d423ba38a8c14aecf75b1"
            ],
            "layout": "IPY_MODEL_feed4db35dc64251a30d2bb2c60799da"
          }
        },
        "77d96d28e3d44ae6ae2d5557c958f658": {
          "model_module": "@jupyter-widgets/controls",
          "model_name": "HTMLModel",
          "model_module_version": "1.5.0",
          "state": {
            "_dom_classes": [],
            "_model_module": "@jupyter-widgets/controls",
            "_model_module_version": "1.5.0",
            "_model_name": "HTMLModel",
            "_view_count": null,
            "_view_module": "@jupyter-widgets/controls",
            "_view_module_version": "1.5.0",
            "_view_name": "HTMLView",
            "description": "",
            "description_tooltip": null,
            "layout": "IPY_MODEL_4e5a17e018ca4f40b0a8518e8fbcc534",
            "placeholder": "​",
            "style": "IPY_MODEL_095292f229fa44e98e60946affc7df08",
            "value": "Downloading: 100%"
          }
        },
        "ee1722a68077404c9e683c767ad30f73": {
          "model_module": "@jupyter-widgets/controls",
          "model_name": "FloatProgressModel",
          "model_module_version": "1.5.0",
          "state": {
            "_dom_classes": [],
            "_model_module": "@jupyter-widgets/controls",
            "_model_module_version": "1.5.0",
            "_model_name": "FloatProgressModel",
            "_view_count": null,
            "_view_module": "@jupyter-widgets/controls",
            "_view_module_version": "1.5.0",
            "_view_name": "ProgressView",
            "bar_style": "success",
            "description": "",
            "description_tooltip": null,
            "layout": "IPY_MODEL_d964a5bc8d2e4b20a34728453621490f",
            "max": 466247,
            "min": 0,
            "orientation": "horizontal",
            "style": "IPY_MODEL_6290d0a9335f404383c25d309ffbe45b",
            "value": 466247
          }
        },
        "9270ac18151d423ba38a8c14aecf75b1": {
          "model_module": "@jupyter-widgets/controls",
          "model_name": "HTMLModel",
          "model_module_version": "1.5.0",
          "state": {
            "_dom_classes": [],
            "_model_module": "@jupyter-widgets/controls",
            "_model_module_version": "1.5.0",
            "_model_name": "HTMLModel",
            "_view_count": null,
            "_view_module": "@jupyter-widgets/controls",
            "_view_module_version": "1.5.0",
            "_view_name": "HTMLView",
            "description": "",
            "description_tooltip": null,
            "layout": "IPY_MODEL_ee81186ef0ae40968fa02cfa90ef2d2f",
            "placeholder": "​",
            "style": "IPY_MODEL_9d274f96487d4bee8530fada5d20d73a",
            "value": " 466k/466k [00:00&lt;00:00, 928kB/s]"
          }
        },
        "feed4db35dc64251a30d2bb2c60799da": {
          "model_module": "@jupyter-widgets/base",
          "model_name": "LayoutModel",
          "model_module_version": "1.2.0",
          "state": {
            "_model_module": "@jupyter-widgets/base",
            "_model_module_version": "1.2.0",
            "_model_name": "LayoutModel",
            "_view_count": null,
            "_view_module": "@jupyter-widgets/base",
            "_view_module_version": "1.2.0",
            "_view_name": "LayoutView",
            "align_content": null,
            "align_items": null,
            "align_self": null,
            "border": null,
            "bottom": null,
            "display": null,
            "flex": null,
            "flex_flow": null,
            "grid_area": null,
            "grid_auto_columns": null,
            "grid_auto_flow": null,
            "grid_auto_rows": null,
            "grid_column": null,
            "grid_gap": null,
            "grid_row": null,
            "grid_template_areas": null,
            "grid_template_columns": null,
            "grid_template_rows": null,
            "height": null,
            "justify_content": null,
            "justify_items": null,
            "left": null,
            "margin": null,
            "max_height": null,
            "max_width": null,
            "min_height": null,
            "min_width": null,
            "object_fit": null,
            "object_position": null,
            "order": null,
            "overflow": null,
            "overflow_x": null,
            "overflow_y": null,
            "padding": null,
            "right": null,
            "top": null,
            "visibility": null,
            "width": null
          }
        },
        "4e5a17e018ca4f40b0a8518e8fbcc534": {
          "model_module": "@jupyter-widgets/base",
          "model_name": "LayoutModel",
          "model_module_version": "1.2.0",
          "state": {
            "_model_module": "@jupyter-widgets/base",
            "_model_module_version": "1.2.0",
            "_model_name": "LayoutModel",
            "_view_count": null,
            "_view_module": "@jupyter-widgets/base",
            "_view_module_version": "1.2.0",
            "_view_name": "LayoutView",
            "align_content": null,
            "align_items": null,
            "align_self": null,
            "border": null,
            "bottom": null,
            "display": null,
            "flex": null,
            "flex_flow": null,
            "grid_area": null,
            "grid_auto_columns": null,
            "grid_auto_flow": null,
            "grid_auto_rows": null,
            "grid_column": null,
            "grid_gap": null,
            "grid_row": null,
            "grid_template_areas": null,
            "grid_template_columns": null,
            "grid_template_rows": null,
            "height": null,
            "justify_content": null,
            "justify_items": null,
            "left": null,
            "margin": null,
            "max_height": null,
            "max_width": null,
            "min_height": null,
            "min_width": null,
            "object_fit": null,
            "object_position": null,
            "order": null,
            "overflow": null,
            "overflow_x": null,
            "overflow_y": null,
            "padding": null,
            "right": null,
            "top": null,
            "visibility": null,
            "width": null
          }
        },
        "095292f229fa44e98e60946affc7df08": {
          "model_module": "@jupyter-widgets/controls",
          "model_name": "DescriptionStyleModel",
          "model_module_version": "1.5.0",
          "state": {
            "_model_module": "@jupyter-widgets/controls",
            "_model_module_version": "1.5.0",
            "_model_name": "DescriptionStyleModel",
            "_view_count": null,
            "_view_module": "@jupyter-widgets/base",
            "_view_module_version": "1.2.0",
            "_view_name": "StyleView",
            "description_width": ""
          }
        },
        "d964a5bc8d2e4b20a34728453621490f": {
          "model_module": "@jupyter-widgets/base",
          "model_name": "LayoutModel",
          "model_module_version": "1.2.0",
          "state": {
            "_model_module": "@jupyter-widgets/base",
            "_model_module_version": "1.2.0",
            "_model_name": "LayoutModel",
            "_view_count": null,
            "_view_module": "@jupyter-widgets/base",
            "_view_module_version": "1.2.0",
            "_view_name": "LayoutView",
            "align_content": null,
            "align_items": null,
            "align_self": null,
            "border": null,
            "bottom": null,
            "display": null,
            "flex": null,
            "flex_flow": null,
            "grid_area": null,
            "grid_auto_columns": null,
            "grid_auto_flow": null,
            "grid_auto_rows": null,
            "grid_column": null,
            "grid_gap": null,
            "grid_row": null,
            "grid_template_areas": null,
            "grid_template_columns": null,
            "grid_template_rows": null,
            "height": null,
            "justify_content": null,
            "justify_items": null,
            "left": null,
            "margin": null,
            "max_height": null,
            "max_width": null,
            "min_height": null,
            "min_width": null,
            "object_fit": null,
            "object_position": null,
            "order": null,
            "overflow": null,
            "overflow_x": null,
            "overflow_y": null,
            "padding": null,
            "right": null,
            "top": null,
            "visibility": null,
            "width": null
          }
        },
        "6290d0a9335f404383c25d309ffbe45b": {
          "model_module": "@jupyter-widgets/controls",
          "model_name": "ProgressStyleModel",
          "model_module_version": "1.5.0",
          "state": {
            "_model_module": "@jupyter-widgets/controls",
            "_model_module_version": "1.5.0",
            "_model_name": "ProgressStyleModel",
            "_view_count": null,
            "_view_module": "@jupyter-widgets/base",
            "_view_module_version": "1.2.0",
            "_view_name": "StyleView",
            "bar_color": null,
            "description_width": ""
          }
        },
        "ee81186ef0ae40968fa02cfa90ef2d2f": {
          "model_module": "@jupyter-widgets/base",
          "model_name": "LayoutModel",
          "model_module_version": "1.2.0",
          "state": {
            "_model_module": "@jupyter-widgets/base",
            "_model_module_version": "1.2.0",
            "_model_name": "LayoutModel",
            "_view_count": null,
            "_view_module": "@jupyter-widgets/base",
            "_view_module_version": "1.2.0",
            "_view_name": "LayoutView",
            "align_content": null,
            "align_items": null,
            "align_self": null,
            "border": null,
            "bottom": null,
            "display": null,
            "flex": null,
            "flex_flow": null,
            "grid_area": null,
            "grid_auto_columns": null,
            "grid_auto_flow": null,
            "grid_auto_rows": null,
            "grid_column": null,
            "grid_gap": null,
            "grid_row": null,
            "grid_template_areas": null,
            "grid_template_columns": null,
            "grid_template_rows": null,
            "height": null,
            "justify_content": null,
            "justify_items": null,
            "left": null,
            "margin": null,
            "max_height": null,
            "max_width": null,
            "min_height": null,
            "min_width": null,
            "object_fit": null,
            "object_position": null,
            "order": null,
            "overflow": null,
            "overflow_x": null,
            "overflow_y": null,
            "padding": null,
            "right": null,
            "top": null,
            "visibility": null,
            "width": null
          }
        },
        "9d274f96487d4bee8530fada5d20d73a": {
          "model_module": "@jupyter-widgets/controls",
          "model_name": "DescriptionStyleModel",
          "model_module_version": "1.5.0",
          "state": {
            "_model_module": "@jupyter-widgets/controls",
            "_model_module_version": "1.5.0",
            "_model_name": "DescriptionStyleModel",
            "_view_count": null,
            "_view_module": "@jupyter-widgets/base",
            "_view_module_version": "1.2.0",
            "_view_name": "StyleView",
            "description_width": ""
          }
        },
        "ae5e6b2ec046456299d405b28b973798": {
          "model_module": "@jupyter-widgets/controls",
          "model_name": "HBoxModel",
          "model_module_version": "1.5.0",
          "state": {
            "_dom_classes": [],
            "_model_module": "@jupyter-widgets/controls",
            "_model_module_version": "1.5.0",
            "_model_name": "HBoxModel",
            "_view_count": null,
            "_view_module": "@jupyter-widgets/controls",
            "_view_module_version": "1.5.0",
            "_view_name": "HBoxView",
            "box_style": "",
            "children": [
              "IPY_MODEL_7f560be9558e4195bf852d6b07d9599f",
              "IPY_MODEL_1006b9371a054667bd8c27cca8bfb905",
              "IPY_MODEL_c2780399b5d74df59172437c020b6a4c"
            ],
            "layout": "IPY_MODEL_1b3c2cc110d7407983ea6414c135a3d5"
          }
        },
        "7f560be9558e4195bf852d6b07d9599f": {
          "model_module": "@jupyter-widgets/controls",
          "model_name": "HTMLModel",
          "model_module_version": "1.5.0",
          "state": {
            "_dom_classes": [],
            "_model_module": "@jupyter-widgets/controls",
            "_model_module_version": "1.5.0",
            "_model_name": "HTMLModel",
            "_view_count": null,
            "_view_module": "@jupyter-widgets/controls",
            "_view_module_version": "1.5.0",
            "_view_name": "HTMLView",
            "description": "",
            "description_tooltip": null,
            "layout": "IPY_MODEL_36797e3658d04dfd9b7efa5734ad8081",
            "placeholder": "​",
            "style": "IPY_MODEL_d13fc97d956d4ba189326b9031caa379",
            "value": "Downloading: 100%"
          }
        },
        "1006b9371a054667bd8c27cca8bfb905": {
          "model_module": "@jupyter-widgets/controls",
          "model_name": "FloatProgressModel",
          "model_module_version": "1.5.0",
          "state": {
            "_dom_classes": [],
            "_model_module": "@jupyter-widgets/controls",
            "_model_module_version": "1.5.0",
            "_model_name": "FloatProgressModel",
            "_view_count": null,
            "_view_module": "@jupyter-widgets/controls",
            "_view_module_version": "1.5.0",
            "_view_name": "ProgressView",
            "bar_style": "success",
            "description": "",
            "description_tooltip": null,
            "layout": "IPY_MODEL_c3b2e040530c44ff8301e4ba7b699bf0",
            "max": 350,
            "min": 0,
            "orientation": "horizontal",
            "style": "IPY_MODEL_e3651ac850fa4a4fa16cb13bf2e2b490",
            "value": 350
          }
        },
        "c2780399b5d74df59172437c020b6a4c": {
          "model_module": "@jupyter-widgets/controls",
          "model_name": "HTMLModel",
          "model_module_version": "1.5.0",
          "state": {
            "_dom_classes": [],
            "_model_module": "@jupyter-widgets/controls",
            "_model_module_version": "1.5.0",
            "_model_name": "HTMLModel",
            "_view_count": null,
            "_view_module": "@jupyter-widgets/controls",
            "_view_module_version": "1.5.0",
            "_view_name": "HTMLView",
            "description": "",
            "description_tooltip": null,
            "layout": "IPY_MODEL_f920cc4d14e048d988adb1b9cdb79a16",
            "placeholder": "​",
            "style": "IPY_MODEL_88d3e8be07824051a4ce6fbfeaaa3499",
            "value": " 350/350 [00:00&lt;00:00, 9.55kB/s]"
          }
        },
        "1b3c2cc110d7407983ea6414c135a3d5": {
          "model_module": "@jupyter-widgets/base",
          "model_name": "LayoutModel",
          "model_module_version": "1.2.0",
          "state": {
            "_model_module": "@jupyter-widgets/base",
            "_model_module_version": "1.2.0",
            "_model_name": "LayoutModel",
            "_view_count": null,
            "_view_module": "@jupyter-widgets/base",
            "_view_module_version": "1.2.0",
            "_view_name": "LayoutView",
            "align_content": null,
            "align_items": null,
            "align_self": null,
            "border": null,
            "bottom": null,
            "display": null,
            "flex": null,
            "flex_flow": null,
            "grid_area": null,
            "grid_auto_columns": null,
            "grid_auto_flow": null,
            "grid_auto_rows": null,
            "grid_column": null,
            "grid_gap": null,
            "grid_row": null,
            "grid_template_areas": null,
            "grid_template_columns": null,
            "grid_template_rows": null,
            "height": null,
            "justify_content": null,
            "justify_items": null,
            "left": null,
            "margin": null,
            "max_height": null,
            "max_width": null,
            "min_height": null,
            "min_width": null,
            "object_fit": null,
            "object_position": null,
            "order": null,
            "overflow": null,
            "overflow_x": null,
            "overflow_y": null,
            "padding": null,
            "right": null,
            "top": null,
            "visibility": null,
            "width": null
          }
        },
        "36797e3658d04dfd9b7efa5734ad8081": {
          "model_module": "@jupyter-widgets/base",
          "model_name": "LayoutModel",
          "model_module_version": "1.2.0",
          "state": {
            "_model_module": "@jupyter-widgets/base",
            "_model_module_version": "1.2.0",
            "_model_name": "LayoutModel",
            "_view_count": null,
            "_view_module": "@jupyter-widgets/base",
            "_view_module_version": "1.2.0",
            "_view_name": "LayoutView",
            "align_content": null,
            "align_items": null,
            "align_self": null,
            "border": null,
            "bottom": null,
            "display": null,
            "flex": null,
            "flex_flow": null,
            "grid_area": null,
            "grid_auto_columns": null,
            "grid_auto_flow": null,
            "grid_auto_rows": null,
            "grid_column": null,
            "grid_gap": null,
            "grid_row": null,
            "grid_template_areas": null,
            "grid_template_columns": null,
            "grid_template_rows": null,
            "height": null,
            "justify_content": null,
            "justify_items": null,
            "left": null,
            "margin": null,
            "max_height": null,
            "max_width": null,
            "min_height": null,
            "min_width": null,
            "object_fit": null,
            "object_position": null,
            "order": null,
            "overflow": null,
            "overflow_x": null,
            "overflow_y": null,
            "padding": null,
            "right": null,
            "top": null,
            "visibility": null,
            "width": null
          }
        },
        "d13fc97d956d4ba189326b9031caa379": {
          "model_module": "@jupyter-widgets/controls",
          "model_name": "DescriptionStyleModel",
          "model_module_version": "1.5.0",
          "state": {
            "_model_module": "@jupyter-widgets/controls",
            "_model_module_version": "1.5.0",
            "_model_name": "DescriptionStyleModel",
            "_view_count": null,
            "_view_module": "@jupyter-widgets/base",
            "_view_module_version": "1.2.0",
            "_view_name": "StyleView",
            "description_width": ""
          }
        },
        "c3b2e040530c44ff8301e4ba7b699bf0": {
          "model_module": "@jupyter-widgets/base",
          "model_name": "LayoutModel",
          "model_module_version": "1.2.0",
          "state": {
            "_model_module": "@jupyter-widgets/base",
            "_model_module_version": "1.2.0",
            "_model_name": "LayoutModel",
            "_view_count": null,
            "_view_module": "@jupyter-widgets/base",
            "_view_module_version": "1.2.0",
            "_view_name": "LayoutView",
            "align_content": null,
            "align_items": null,
            "align_self": null,
            "border": null,
            "bottom": null,
            "display": null,
            "flex": null,
            "flex_flow": null,
            "grid_area": null,
            "grid_auto_columns": null,
            "grid_auto_flow": null,
            "grid_auto_rows": null,
            "grid_column": null,
            "grid_gap": null,
            "grid_row": null,
            "grid_template_areas": null,
            "grid_template_columns": null,
            "grid_template_rows": null,
            "height": null,
            "justify_content": null,
            "justify_items": null,
            "left": null,
            "margin": null,
            "max_height": null,
            "max_width": null,
            "min_height": null,
            "min_width": null,
            "object_fit": null,
            "object_position": null,
            "order": null,
            "overflow": null,
            "overflow_x": null,
            "overflow_y": null,
            "padding": null,
            "right": null,
            "top": null,
            "visibility": null,
            "width": null
          }
        },
        "e3651ac850fa4a4fa16cb13bf2e2b490": {
          "model_module": "@jupyter-widgets/controls",
          "model_name": "ProgressStyleModel",
          "model_module_version": "1.5.0",
          "state": {
            "_model_module": "@jupyter-widgets/controls",
            "_model_module_version": "1.5.0",
            "_model_name": "ProgressStyleModel",
            "_view_count": null,
            "_view_module": "@jupyter-widgets/base",
            "_view_module_version": "1.2.0",
            "_view_name": "StyleView",
            "bar_color": null,
            "description_width": ""
          }
        },
        "f920cc4d14e048d988adb1b9cdb79a16": {
          "model_module": "@jupyter-widgets/base",
          "model_name": "LayoutModel",
          "model_module_version": "1.2.0",
          "state": {
            "_model_module": "@jupyter-widgets/base",
            "_model_module_version": "1.2.0",
            "_model_name": "LayoutModel",
            "_view_count": null,
            "_view_module": "@jupyter-widgets/base",
            "_view_module_version": "1.2.0",
            "_view_name": "LayoutView",
            "align_content": null,
            "align_items": null,
            "align_self": null,
            "border": null,
            "bottom": null,
            "display": null,
            "flex": null,
            "flex_flow": null,
            "grid_area": null,
            "grid_auto_columns": null,
            "grid_auto_flow": null,
            "grid_auto_rows": null,
            "grid_column": null,
            "grid_gap": null,
            "grid_row": null,
            "grid_template_areas": null,
            "grid_template_columns": null,
            "grid_template_rows": null,
            "height": null,
            "justify_content": null,
            "justify_items": null,
            "left": null,
            "margin": null,
            "max_height": null,
            "max_width": null,
            "min_height": null,
            "min_width": null,
            "object_fit": null,
            "object_position": null,
            "order": null,
            "overflow": null,
            "overflow_x": null,
            "overflow_y": null,
            "padding": null,
            "right": null,
            "top": null,
            "visibility": null,
            "width": null
          }
        },
        "88d3e8be07824051a4ce6fbfeaaa3499": {
          "model_module": "@jupyter-widgets/controls",
          "model_name": "DescriptionStyleModel",
          "model_module_version": "1.5.0",
          "state": {
            "_model_module": "@jupyter-widgets/controls",
            "_model_module_version": "1.5.0",
            "_model_name": "DescriptionStyleModel",
            "_view_count": null,
            "_view_module": "@jupyter-widgets/base",
            "_view_module_version": "1.2.0",
            "_view_name": "StyleView",
            "description_width": ""
          }
        },
        "883448b98b7b4c93b92943daab007143": {
          "model_module": "@jupyter-widgets/controls",
          "model_name": "HBoxModel",
          "model_module_version": "1.5.0",
          "state": {
            "_dom_classes": [],
            "_model_module": "@jupyter-widgets/controls",
            "_model_module_version": "1.5.0",
            "_model_name": "HBoxModel",
            "_view_count": null,
            "_view_module": "@jupyter-widgets/controls",
            "_view_module_version": "1.5.0",
            "_view_name": "HBoxView",
            "box_style": "",
            "children": [
              "IPY_MODEL_7b627161b89e4d16b8daeede8dfacf24",
              "IPY_MODEL_4c8faa0d98234279a1d07fd52e1baea0",
              "IPY_MODEL_b07deb44dfde48df8f61c138332fba10"
            ],
            "layout": "IPY_MODEL_6383b1e5428f457e853c77e8df0a5eb5"
          }
        },
        "7b627161b89e4d16b8daeede8dfacf24": {
          "model_module": "@jupyter-widgets/controls",
          "model_name": "HTMLModel",
          "model_module_version": "1.5.0",
          "state": {
            "_dom_classes": [],
            "_model_module": "@jupyter-widgets/controls",
            "_model_module_version": "1.5.0",
            "_model_name": "HTMLModel",
            "_view_count": null,
            "_view_module": "@jupyter-widgets/controls",
            "_view_module_version": "1.5.0",
            "_view_name": "HTMLView",
            "description": "",
            "description_tooltip": null,
            "layout": "IPY_MODEL_ef68e7d2f5254ea19bc46de0920263d0",
            "placeholder": "​",
            "style": "IPY_MODEL_543f6237739d4b05842a0d1795da8282",
            "value": "Downloading: 100%"
          }
        },
        "4c8faa0d98234279a1d07fd52e1baea0": {
          "model_module": "@jupyter-widgets/controls",
          "model_name": "FloatProgressModel",
          "model_module_version": "1.5.0",
          "state": {
            "_dom_classes": [],
            "_model_module": "@jupyter-widgets/controls",
            "_model_module_version": "1.5.0",
            "_model_name": "FloatProgressModel",
            "_view_count": null,
            "_view_module": "@jupyter-widgets/controls",
            "_view_module_version": "1.5.0",
            "_view_name": "ProgressView",
            "bar_style": "success",
            "description": "",
            "description_tooltip": null,
            "layout": "IPY_MODEL_c143c0e52f0e4509984347eddd95fd27",
            "max": 13156,
            "min": 0,
            "orientation": "horizontal",
            "style": "IPY_MODEL_879cf3cfd956443c8f9f541f927d4267",
            "value": 13156
          }
        },
        "b07deb44dfde48df8f61c138332fba10": {
          "model_module": "@jupyter-widgets/controls",
          "model_name": "HTMLModel",
          "model_module_version": "1.5.0",
          "state": {
            "_dom_classes": [],
            "_model_module": "@jupyter-widgets/controls",
            "_model_module_version": "1.5.0",
            "_model_name": "HTMLModel",
            "_view_count": null,
            "_view_module": "@jupyter-widgets/controls",
            "_view_module_version": "1.5.0",
            "_view_name": "HTMLView",
            "description": "",
            "description_tooltip": null,
            "layout": "IPY_MODEL_597f05a8c8d54ee6a9166f3e3d0ba66f",
            "placeholder": "​",
            "style": "IPY_MODEL_74e26def9c324da789f975a019de8fd9",
            "value": " 13.2k/13.2k [00:00&lt;00:00, 287kB/s]"
          }
        },
        "6383b1e5428f457e853c77e8df0a5eb5": {
          "model_module": "@jupyter-widgets/base",
          "model_name": "LayoutModel",
          "model_module_version": "1.2.0",
          "state": {
            "_model_module": "@jupyter-widgets/base",
            "_model_module_version": "1.2.0",
            "_model_name": "LayoutModel",
            "_view_count": null,
            "_view_module": "@jupyter-widgets/base",
            "_view_module_version": "1.2.0",
            "_view_name": "LayoutView",
            "align_content": null,
            "align_items": null,
            "align_self": null,
            "border": null,
            "bottom": null,
            "display": null,
            "flex": null,
            "flex_flow": null,
            "grid_area": null,
            "grid_auto_columns": null,
            "grid_auto_flow": null,
            "grid_auto_rows": null,
            "grid_column": null,
            "grid_gap": null,
            "grid_row": null,
            "grid_template_areas": null,
            "grid_template_columns": null,
            "grid_template_rows": null,
            "height": null,
            "justify_content": null,
            "justify_items": null,
            "left": null,
            "margin": null,
            "max_height": null,
            "max_width": null,
            "min_height": null,
            "min_width": null,
            "object_fit": null,
            "object_position": null,
            "order": null,
            "overflow": null,
            "overflow_x": null,
            "overflow_y": null,
            "padding": null,
            "right": null,
            "top": null,
            "visibility": null,
            "width": null
          }
        },
        "ef68e7d2f5254ea19bc46de0920263d0": {
          "model_module": "@jupyter-widgets/base",
          "model_name": "LayoutModel",
          "model_module_version": "1.2.0",
          "state": {
            "_model_module": "@jupyter-widgets/base",
            "_model_module_version": "1.2.0",
            "_model_name": "LayoutModel",
            "_view_count": null,
            "_view_module": "@jupyter-widgets/base",
            "_view_module_version": "1.2.0",
            "_view_name": "LayoutView",
            "align_content": null,
            "align_items": null,
            "align_self": null,
            "border": null,
            "bottom": null,
            "display": null,
            "flex": null,
            "flex_flow": null,
            "grid_area": null,
            "grid_auto_columns": null,
            "grid_auto_flow": null,
            "grid_auto_rows": null,
            "grid_column": null,
            "grid_gap": null,
            "grid_row": null,
            "grid_template_areas": null,
            "grid_template_columns": null,
            "grid_template_rows": null,
            "height": null,
            "justify_content": null,
            "justify_items": null,
            "left": null,
            "margin": null,
            "max_height": null,
            "max_width": null,
            "min_height": null,
            "min_width": null,
            "object_fit": null,
            "object_position": null,
            "order": null,
            "overflow": null,
            "overflow_x": null,
            "overflow_y": null,
            "padding": null,
            "right": null,
            "top": null,
            "visibility": null,
            "width": null
          }
        },
        "543f6237739d4b05842a0d1795da8282": {
          "model_module": "@jupyter-widgets/controls",
          "model_name": "DescriptionStyleModel",
          "model_module_version": "1.5.0",
          "state": {
            "_model_module": "@jupyter-widgets/controls",
            "_model_module_version": "1.5.0",
            "_model_name": "DescriptionStyleModel",
            "_view_count": null,
            "_view_module": "@jupyter-widgets/base",
            "_view_module_version": "1.2.0",
            "_view_name": "StyleView",
            "description_width": ""
          }
        },
        "c143c0e52f0e4509984347eddd95fd27": {
          "model_module": "@jupyter-widgets/base",
          "model_name": "LayoutModel",
          "model_module_version": "1.2.0",
          "state": {
            "_model_module": "@jupyter-widgets/base",
            "_model_module_version": "1.2.0",
            "_model_name": "LayoutModel",
            "_view_count": null,
            "_view_module": "@jupyter-widgets/base",
            "_view_module_version": "1.2.0",
            "_view_name": "LayoutView",
            "align_content": null,
            "align_items": null,
            "align_self": null,
            "border": null,
            "bottom": null,
            "display": null,
            "flex": null,
            "flex_flow": null,
            "grid_area": null,
            "grid_auto_columns": null,
            "grid_auto_flow": null,
            "grid_auto_rows": null,
            "grid_column": null,
            "grid_gap": null,
            "grid_row": null,
            "grid_template_areas": null,
            "grid_template_columns": null,
            "grid_template_rows": null,
            "height": null,
            "justify_content": null,
            "justify_items": null,
            "left": null,
            "margin": null,
            "max_height": null,
            "max_width": null,
            "min_height": null,
            "min_width": null,
            "object_fit": null,
            "object_position": null,
            "order": null,
            "overflow": null,
            "overflow_x": null,
            "overflow_y": null,
            "padding": null,
            "right": null,
            "top": null,
            "visibility": null,
            "width": null
          }
        },
        "879cf3cfd956443c8f9f541f927d4267": {
          "model_module": "@jupyter-widgets/controls",
          "model_name": "ProgressStyleModel",
          "model_module_version": "1.5.0",
          "state": {
            "_model_module": "@jupyter-widgets/controls",
            "_model_module_version": "1.5.0",
            "_model_name": "ProgressStyleModel",
            "_view_count": null,
            "_view_module": "@jupyter-widgets/base",
            "_view_module_version": "1.2.0",
            "_view_name": "StyleView",
            "bar_color": null,
            "description_width": ""
          }
        },
        "597f05a8c8d54ee6a9166f3e3d0ba66f": {
          "model_module": "@jupyter-widgets/base",
          "model_name": "LayoutModel",
          "model_module_version": "1.2.0",
          "state": {
            "_model_module": "@jupyter-widgets/base",
            "_model_module_version": "1.2.0",
            "_model_name": "LayoutModel",
            "_view_count": null,
            "_view_module": "@jupyter-widgets/base",
            "_view_module_version": "1.2.0",
            "_view_name": "LayoutView",
            "align_content": null,
            "align_items": null,
            "align_self": null,
            "border": null,
            "bottom": null,
            "display": null,
            "flex": null,
            "flex_flow": null,
            "grid_area": null,
            "grid_auto_columns": null,
            "grid_auto_flow": null,
            "grid_auto_rows": null,
            "grid_column": null,
            "grid_gap": null,
            "grid_row": null,
            "grid_template_areas": null,
            "grid_template_columns": null,
            "grid_template_rows": null,
            "height": null,
            "justify_content": null,
            "justify_items": null,
            "left": null,
            "margin": null,
            "max_height": null,
            "max_width": null,
            "min_height": null,
            "min_width": null,
            "object_fit": null,
            "object_position": null,
            "order": null,
            "overflow": null,
            "overflow_x": null,
            "overflow_y": null,
            "padding": null,
            "right": null,
            "top": null,
            "visibility": null,
            "width": null
          }
        },
        "74e26def9c324da789f975a019de8fd9": {
          "model_module": "@jupyter-widgets/controls",
          "model_name": "DescriptionStyleModel",
          "model_module_version": "1.5.0",
          "state": {
            "_model_module": "@jupyter-widgets/controls",
            "_model_module_version": "1.5.0",
            "_model_name": "DescriptionStyleModel",
            "_view_count": null,
            "_view_module": "@jupyter-widgets/base",
            "_view_module_version": "1.2.0",
            "_view_name": "StyleView",
            "description_width": ""
          }
        },
        "5fae20de992c4b66a6830d07a3694662": {
          "model_module": "@jupyter-widgets/controls",
          "model_name": "HBoxModel",
          "model_module_version": "1.5.0",
          "state": {
            "_dom_classes": [],
            "_model_module": "@jupyter-widgets/controls",
            "_model_module_version": "1.5.0",
            "_model_name": "HBoxModel",
            "_view_count": null,
            "_view_module": "@jupyter-widgets/controls",
            "_view_module_version": "1.5.0",
            "_view_name": "HBoxView",
            "box_style": "",
            "children": [
              "IPY_MODEL_cfe806d27ae24bf48ecc732387b176ad",
              "IPY_MODEL_36d0a2f632254502b6b1d6d1a10b4721",
              "IPY_MODEL_d84a91cfc4864c5586f80cc03c700217"
            ],
            "layout": "IPY_MODEL_725dbeadd69c45739c885b4109c969df"
          }
        },
        "cfe806d27ae24bf48ecc732387b176ad": {
          "model_module": "@jupyter-widgets/controls",
          "model_name": "HTMLModel",
          "model_module_version": "1.5.0",
          "state": {
            "_dom_classes": [],
            "_model_module": "@jupyter-widgets/controls",
            "_model_module_version": "1.5.0",
            "_model_name": "HTMLModel",
            "_view_count": null,
            "_view_module": "@jupyter-widgets/controls",
            "_view_module_version": "1.5.0",
            "_view_name": "HTMLView",
            "description": "",
            "description_tooltip": null,
            "layout": "IPY_MODEL_5c903caa11a446b896f202f3d904bef0",
            "placeholder": "​",
            "style": "IPY_MODEL_c827c465fc304299a67941b2b634d3a9",
            "value": "Downloading: 100%"
          }
        },
        "36d0a2f632254502b6b1d6d1a10b4721": {
          "model_module": "@jupyter-widgets/controls",
          "model_name": "FloatProgressModel",
          "model_module_version": "1.5.0",
          "state": {
            "_dom_classes": [],
            "_model_module": "@jupyter-widgets/controls",
            "_model_module_version": "1.5.0",
            "_model_name": "FloatProgressModel",
            "_view_count": null,
            "_view_module": "@jupyter-widgets/controls",
            "_view_module_version": "1.5.0",
            "_view_name": "ProgressView",
            "bar_style": "success",
            "description": "",
            "description_tooltip": null,
            "layout": "IPY_MODEL_2a5434f91d344cada6a8580eaad8930d",
            "max": 231508,
            "min": 0,
            "orientation": "horizontal",
            "style": "IPY_MODEL_c875fe6b135041e69fd0c90959ae7cdb",
            "value": 231508
          }
        },
        "d84a91cfc4864c5586f80cc03c700217": {
          "model_module": "@jupyter-widgets/controls",
          "model_name": "HTMLModel",
          "model_module_version": "1.5.0",
          "state": {
            "_dom_classes": [],
            "_model_module": "@jupyter-widgets/controls",
            "_model_module_version": "1.5.0",
            "_model_name": "HTMLModel",
            "_view_count": null,
            "_view_module": "@jupyter-widgets/controls",
            "_view_module_version": "1.5.0",
            "_view_name": "HTMLView",
            "description": "",
            "description_tooltip": null,
            "layout": "IPY_MODEL_3e6c8c9a0f834538a3d0307445f197b3",
            "placeholder": "​",
            "style": "IPY_MODEL_c430e048e7944a55a3de64410c262a86",
            "value": " 232k/232k [00:00&lt;00:00, 803kB/s]"
          }
        },
        "725dbeadd69c45739c885b4109c969df": {
          "model_module": "@jupyter-widgets/base",
          "model_name": "LayoutModel",
          "model_module_version": "1.2.0",
          "state": {
            "_model_module": "@jupyter-widgets/base",
            "_model_module_version": "1.2.0",
            "_model_name": "LayoutModel",
            "_view_count": null,
            "_view_module": "@jupyter-widgets/base",
            "_view_module_version": "1.2.0",
            "_view_name": "LayoutView",
            "align_content": null,
            "align_items": null,
            "align_self": null,
            "border": null,
            "bottom": null,
            "display": null,
            "flex": null,
            "flex_flow": null,
            "grid_area": null,
            "grid_auto_columns": null,
            "grid_auto_flow": null,
            "grid_auto_rows": null,
            "grid_column": null,
            "grid_gap": null,
            "grid_row": null,
            "grid_template_areas": null,
            "grid_template_columns": null,
            "grid_template_rows": null,
            "height": null,
            "justify_content": null,
            "justify_items": null,
            "left": null,
            "margin": null,
            "max_height": null,
            "max_width": null,
            "min_height": null,
            "min_width": null,
            "object_fit": null,
            "object_position": null,
            "order": null,
            "overflow": null,
            "overflow_x": null,
            "overflow_y": null,
            "padding": null,
            "right": null,
            "top": null,
            "visibility": null,
            "width": null
          }
        },
        "5c903caa11a446b896f202f3d904bef0": {
          "model_module": "@jupyter-widgets/base",
          "model_name": "LayoutModel",
          "model_module_version": "1.2.0",
          "state": {
            "_model_module": "@jupyter-widgets/base",
            "_model_module_version": "1.2.0",
            "_model_name": "LayoutModel",
            "_view_count": null,
            "_view_module": "@jupyter-widgets/base",
            "_view_module_version": "1.2.0",
            "_view_name": "LayoutView",
            "align_content": null,
            "align_items": null,
            "align_self": null,
            "border": null,
            "bottom": null,
            "display": null,
            "flex": null,
            "flex_flow": null,
            "grid_area": null,
            "grid_auto_columns": null,
            "grid_auto_flow": null,
            "grid_auto_rows": null,
            "grid_column": null,
            "grid_gap": null,
            "grid_row": null,
            "grid_template_areas": null,
            "grid_template_columns": null,
            "grid_template_rows": null,
            "height": null,
            "justify_content": null,
            "justify_items": null,
            "left": null,
            "margin": null,
            "max_height": null,
            "max_width": null,
            "min_height": null,
            "min_width": null,
            "object_fit": null,
            "object_position": null,
            "order": null,
            "overflow": null,
            "overflow_x": null,
            "overflow_y": null,
            "padding": null,
            "right": null,
            "top": null,
            "visibility": null,
            "width": null
          }
        },
        "c827c465fc304299a67941b2b634d3a9": {
          "model_module": "@jupyter-widgets/controls",
          "model_name": "DescriptionStyleModel",
          "model_module_version": "1.5.0",
          "state": {
            "_model_module": "@jupyter-widgets/controls",
            "_model_module_version": "1.5.0",
            "_model_name": "DescriptionStyleModel",
            "_view_count": null,
            "_view_module": "@jupyter-widgets/base",
            "_view_module_version": "1.2.0",
            "_view_name": "StyleView",
            "description_width": ""
          }
        },
        "2a5434f91d344cada6a8580eaad8930d": {
          "model_module": "@jupyter-widgets/base",
          "model_name": "LayoutModel",
          "model_module_version": "1.2.0",
          "state": {
            "_model_module": "@jupyter-widgets/base",
            "_model_module_version": "1.2.0",
            "_model_name": "LayoutModel",
            "_view_count": null,
            "_view_module": "@jupyter-widgets/base",
            "_view_module_version": "1.2.0",
            "_view_name": "LayoutView",
            "align_content": null,
            "align_items": null,
            "align_self": null,
            "border": null,
            "bottom": null,
            "display": null,
            "flex": null,
            "flex_flow": null,
            "grid_area": null,
            "grid_auto_columns": null,
            "grid_auto_flow": null,
            "grid_auto_rows": null,
            "grid_column": null,
            "grid_gap": null,
            "grid_row": null,
            "grid_template_areas": null,
            "grid_template_columns": null,
            "grid_template_rows": null,
            "height": null,
            "justify_content": null,
            "justify_items": null,
            "left": null,
            "margin": null,
            "max_height": null,
            "max_width": null,
            "min_height": null,
            "min_width": null,
            "object_fit": null,
            "object_position": null,
            "order": null,
            "overflow": null,
            "overflow_x": null,
            "overflow_y": null,
            "padding": null,
            "right": null,
            "top": null,
            "visibility": null,
            "width": null
          }
        },
        "c875fe6b135041e69fd0c90959ae7cdb": {
          "model_module": "@jupyter-widgets/controls",
          "model_name": "ProgressStyleModel",
          "model_module_version": "1.5.0",
          "state": {
            "_model_module": "@jupyter-widgets/controls",
            "_model_module_version": "1.5.0",
            "_model_name": "ProgressStyleModel",
            "_view_count": null,
            "_view_module": "@jupyter-widgets/base",
            "_view_module_version": "1.2.0",
            "_view_name": "StyleView",
            "bar_color": null,
            "description_width": ""
          }
        },
        "3e6c8c9a0f834538a3d0307445f197b3": {
          "model_module": "@jupyter-widgets/base",
          "model_name": "LayoutModel",
          "model_module_version": "1.2.0",
          "state": {
            "_model_module": "@jupyter-widgets/base",
            "_model_module_version": "1.2.0",
            "_model_name": "LayoutModel",
            "_view_count": null,
            "_view_module": "@jupyter-widgets/base",
            "_view_module_version": "1.2.0",
            "_view_name": "LayoutView",
            "align_content": null,
            "align_items": null,
            "align_self": null,
            "border": null,
            "bottom": null,
            "display": null,
            "flex": null,
            "flex_flow": null,
            "grid_area": null,
            "grid_auto_columns": null,
            "grid_auto_flow": null,
            "grid_auto_rows": null,
            "grid_column": null,
            "grid_gap": null,
            "grid_row": null,
            "grid_template_areas": null,
            "grid_template_columns": null,
            "grid_template_rows": null,
            "height": null,
            "justify_content": null,
            "justify_items": null,
            "left": null,
            "margin": null,
            "max_height": null,
            "max_width": null,
            "min_height": null,
            "min_width": null,
            "object_fit": null,
            "object_position": null,
            "order": null,
            "overflow": null,
            "overflow_x": null,
            "overflow_y": null,
            "padding": null,
            "right": null,
            "top": null,
            "visibility": null,
            "width": null
          }
        },
        "c430e048e7944a55a3de64410c262a86": {
          "model_module": "@jupyter-widgets/controls",
          "model_name": "DescriptionStyleModel",
          "model_module_version": "1.5.0",
          "state": {
            "_model_module": "@jupyter-widgets/controls",
            "_model_module_version": "1.5.0",
            "_model_name": "DescriptionStyleModel",
            "_view_count": null,
            "_view_module": "@jupyter-widgets/base",
            "_view_module_version": "1.2.0",
            "_view_name": "StyleView",
            "description_width": ""
          }
        },
        "3925101b96ac427a931ef6d98544cc40": {
          "model_module": "@jupyter-widgets/controls",
          "model_name": "HBoxModel",
          "model_module_version": "1.5.0",
          "state": {
            "_dom_classes": [],
            "_model_module": "@jupyter-widgets/controls",
            "_model_module_version": "1.5.0",
            "_model_name": "HBoxModel",
            "_view_count": null,
            "_view_module": "@jupyter-widgets/controls",
            "_view_module_version": "1.5.0",
            "_view_name": "HBoxView",
            "box_style": "",
            "children": [
              "IPY_MODEL_46eb930b660f4cebb8df664c5354d1f8",
              "IPY_MODEL_ea80b700289a453b972744191d926f62",
              "IPY_MODEL_014028d7f142499caad3acea92bc0fbf"
            ],
            "layout": "IPY_MODEL_4aaf5c792c024b0c9a96708a06b3be94"
          }
        },
        "46eb930b660f4cebb8df664c5354d1f8": {
          "model_module": "@jupyter-widgets/controls",
          "model_name": "HTMLModel",
          "model_module_version": "1.5.0",
          "state": {
            "_dom_classes": [],
            "_model_module": "@jupyter-widgets/controls",
            "_model_module_version": "1.5.0",
            "_model_name": "HTMLModel",
            "_view_count": null,
            "_view_module": "@jupyter-widgets/controls",
            "_view_module_version": "1.5.0",
            "_view_name": "HTMLView",
            "description": "",
            "description_tooltip": null,
            "layout": "IPY_MODEL_b403bc227dca48b59f8dcf27b1a62588",
            "placeholder": "​",
            "style": "IPY_MODEL_81e3ec9c23e048b29f1b100ec956b5fa",
            "value": "Downloading: 100%"
          }
        },
        "ea80b700289a453b972744191d926f62": {
          "model_module": "@jupyter-widgets/controls",
          "model_name": "FloatProgressModel",
          "model_module_version": "1.5.0",
          "state": {
            "_dom_classes": [],
            "_model_module": "@jupyter-widgets/controls",
            "_model_module_version": "1.5.0",
            "_model_name": "FloatProgressModel",
            "_view_count": null,
            "_view_module": "@jupyter-widgets/controls",
            "_view_module_version": "1.5.0",
            "_view_name": "ProgressView",
            "bar_style": "success",
            "description": "",
            "description_tooltip": null,
            "layout": "IPY_MODEL_7f832d3bf0fc426bb4417de22c790a0d",
            "max": 349,
            "min": 0,
            "orientation": "horizontal",
            "style": "IPY_MODEL_321007395f884466818b4c680fb72c9f",
            "value": 349
          }
        },
        "014028d7f142499caad3acea92bc0fbf": {
          "model_module": "@jupyter-widgets/controls",
          "model_name": "HTMLModel",
          "model_module_version": "1.5.0",
          "state": {
            "_dom_classes": [],
            "_model_module": "@jupyter-widgets/controls",
            "_model_module_version": "1.5.0",
            "_model_name": "HTMLModel",
            "_view_count": null,
            "_view_module": "@jupyter-widgets/controls",
            "_view_module_version": "1.5.0",
            "_view_name": "HTMLView",
            "description": "",
            "description_tooltip": null,
            "layout": "IPY_MODEL_afe05c58e2334b788ff015f4bb8aef00",
            "placeholder": "​",
            "style": "IPY_MODEL_c173a07a879a412ab30e05dcc5d57db4",
            "value": " 349/349 [00:00&lt;00:00, 5.54kB/s]"
          }
        },
        "4aaf5c792c024b0c9a96708a06b3be94": {
          "model_module": "@jupyter-widgets/base",
          "model_name": "LayoutModel",
          "model_module_version": "1.2.0",
          "state": {
            "_model_module": "@jupyter-widgets/base",
            "_model_module_version": "1.2.0",
            "_model_name": "LayoutModel",
            "_view_count": null,
            "_view_module": "@jupyter-widgets/base",
            "_view_module_version": "1.2.0",
            "_view_name": "LayoutView",
            "align_content": null,
            "align_items": null,
            "align_self": null,
            "border": null,
            "bottom": null,
            "display": null,
            "flex": null,
            "flex_flow": null,
            "grid_area": null,
            "grid_auto_columns": null,
            "grid_auto_flow": null,
            "grid_auto_rows": null,
            "grid_column": null,
            "grid_gap": null,
            "grid_row": null,
            "grid_template_areas": null,
            "grid_template_columns": null,
            "grid_template_rows": null,
            "height": null,
            "justify_content": null,
            "justify_items": null,
            "left": null,
            "margin": null,
            "max_height": null,
            "max_width": null,
            "min_height": null,
            "min_width": null,
            "object_fit": null,
            "object_position": null,
            "order": null,
            "overflow": null,
            "overflow_x": null,
            "overflow_y": null,
            "padding": null,
            "right": null,
            "top": null,
            "visibility": null,
            "width": null
          }
        },
        "b403bc227dca48b59f8dcf27b1a62588": {
          "model_module": "@jupyter-widgets/base",
          "model_name": "LayoutModel",
          "model_module_version": "1.2.0",
          "state": {
            "_model_module": "@jupyter-widgets/base",
            "_model_module_version": "1.2.0",
            "_model_name": "LayoutModel",
            "_view_count": null,
            "_view_module": "@jupyter-widgets/base",
            "_view_module_version": "1.2.0",
            "_view_name": "LayoutView",
            "align_content": null,
            "align_items": null,
            "align_self": null,
            "border": null,
            "bottom": null,
            "display": null,
            "flex": null,
            "flex_flow": null,
            "grid_area": null,
            "grid_auto_columns": null,
            "grid_auto_flow": null,
            "grid_auto_rows": null,
            "grid_column": null,
            "grid_gap": null,
            "grid_row": null,
            "grid_template_areas": null,
            "grid_template_columns": null,
            "grid_template_rows": null,
            "height": null,
            "justify_content": null,
            "justify_items": null,
            "left": null,
            "margin": null,
            "max_height": null,
            "max_width": null,
            "min_height": null,
            "min_width": null,
            "object_fit": null,
            "object_position": null,
            "order": null,
            "overflow": null,
            "overflow_x": null,
            "overflow_y": null,
            "padding": null,
            "right": null,
            "top": null,
            "visibility": null,
            "width": null
          }
        },
        "81e3ec9c23e048b29f1b100ec956b5fa": {
          "model_module": "@jupyter-widgets/controls",
          "model_name": "DescriptionStyleModel",
          "model_module_version": "1.5.0",
          "state": {
            "_model_module": "@jupyter-widgets/controls",
            "_model_module_version": "1.5.0",
            "_model_name": "DescriptionStyleModel",
            "_view_count": null,
            "_view_module": "@jupyter-widgets/base",
            "_view_module_version": "1.2.0",
            "_view_name": "StyleView",
            "description_width": ""
          }
        },
        "7f832d3bf0fc426bb4417de22c790a0d": {
          "model_module": "@jupyter-widgets/base",
          "model_name": "LayoutModel",
          "model_module_version": "1.2.0",
          "state": {
            "_model_module": "@jupyter-widgets/base",
            "_model_module_version": "1.2.0",
            "_model_name": "LayoutModel",
            "_view_count": null,
            "_view_module": "@jupyter-widgets/base",
            "_view_module_version": "1.2.0",
            "_view_name": "LayoutView",
            "align_content": null,
            "align_items": null,
            "align_self": null,
            "border": null,
            "bottom": null,
            "display": null,
            "flex": null,
            "flex_flow": null,
            "grid_area": null,
            "grid_auto_columns": null,
            "grid_auto_flow": null,
            "grid_auto_rows": null,
            "grid_column": null,
            "grid_gap": null,
            "grid_row": null,
            "grid_template_areas": null,
            "grid_template_columns": null,
            "grid_template_rows": null,
            "height": null,
            "justify_content": null,
            "justify_items": null,
            "left": null,
            "margin": null,
            "max_height": null,
            "max_width": null,
            "min_height": null,
            "min_width": null,
            "object_fit": null,
            "object_position": null,
            "order": null,
            "overflow": null,
            "overflow_x": null,
            "overflow_y": null,
            "padding": null,
            "right": null,
            "top": null,
            "visibility": null,
            "width": null
          }
        },
        "321007395f884466818b4c680fb72c9f": {
          "model_module": "@jupyter-widgets/controls",
          "model_name": "ProgressStyleModel",
          "model_module_version": "1.5.0",
          "state": {
            "_model_module": "@jupyter-widgets/controls",
            "_model_module_version": "1.5.0",
            "_model_name": "ProgressStyleModel",
            "_view_count": null,
            "_view_module": "@jupyter-widgets/base",
            "_view_module_version": "1.2.0",
            "_view_name": "StyleView",
            "bar_color": null,
            "description_width": ""
          }
        },
        "afe05c58e2334b788ff015f4bb8aef00": {
          "model_module": "@jupyter-widgets/base",
          "model_name": "LayoutModel",
          "model_module_version": "1.2.0",
          "state": {
            "_model_module": "@jupyter-widgets/base",
            "_model_module_version": "1.2.0",
            "_model_name": "LayoutModel",
            "_view_count": null,
            "_view_module": "@jupyter-widgets/base",
            "_view_module_version": "1.2.0",
            "_view_name": "LayoutView",
            "align_content": null,
            "align_items": null,
            "align_self": null,
            "border": null,
            "bottom": null,
            "display": null,
            "flex": null,
            "flex_flow": null,
            "grid_area": null,
            "grid_auto_columns": null,
            "grid_auto_flow": null,
            "grid_auto_rows": null,
            "grid_column": null,
            "grid_gap": null,
            "grid_row": null,
            "grid_template_areas": null,
            "grid_template_columns": null,
            "grid_template_rows": null,
            "height": null,
            "justify_content": null,
            "justify_items": null,
            "left": null,
            "margin": null,
            "max_height": null,
            "max_width": null,
            "min_height": null,
            "min_width": null,
            "object_fit": null,
            "object_position": null,
            "order": null,
            "overflow": null,
            "overflow_x": null,
            "overflow_y": null,
            "padding": null,
            "right": null,
            "top": null,
            "visibility": null,
            "width": null
          }
        },
        "c173a07a879a412ab30e05dcc5d57db4": {
          "model_module": "@jupyter-widgets/controls",
          "model_name": "DescriptionStyleModel",
          "model_module_version": "1.5.0",
          "state": {
            "_model_module": "@jupyter-widgets/controls",
            "_model_module_version": "1.5.0",
            "_model_name": "DescriptionStyleModel",
            "_view_count": null,
            "_view_module": "@jupyter-widgets/base",
            "_view_module_version": "1.2.0",
            "_view_name": "StyleView",
            "description_width": ""
          }
        },
        "5e49a79f12ff48059dbd38d291999063": {
          "model_module": "@jupyter-widgets/controls",
          "model_name": "HBoxModel",
          "model_module_version": "1.5.0",
          "state": {
            "_dom_classes": [],
            "_model_module": "@jupyter-widgets/controls",
            "_model_module_version": "1.5.0",
            "_model_name": "HBoxModel",
            "_view_count": null,
            "_view_module": "@jupyter-widgets/controls",
            "_view_module_version": "1.5.0",
            "_view_name": "HBoxView",
            "box_style": "",
            "children": [
              "IPY_MODEL_a6365a1aacf04cff8f7375e731c00a6f",
              "IPY_MODEL_f8101d97ed464e8fb1927f8ce6d9dcb8",
              "IPY_MODEL_0563395e491243868df6a53a712c9068"
            ],
            "layout": "IPY_MODEL_325ad60cd29141ea9df258446def24fb"
          }
        },
        "a6365a1aacf04cff8f7375e731c00a6f": {
          "model_module": "@jupyter-widgets/controls",
          "model_name": "HTMLModel",
          "model_module_version": "1.5.0",
          "state": {
            "_dom_classes": [],
            "_model_module": "@jupyter-widgets/controls",
            "_model_module_version": "1.5.0",
            "_model_name": "HTMLModel",
            "_view_count": null,
            "_view_module": "@jupyter-widgets/controls",
            "_view_module_version": "1.5.0",
            "_view_name": "HTMLView",
            "description": "",
            "description_tooltip": null,
            "layout": "IPY_MODEL_d28e89cce9a74de2b975ca173f3315c9",
            "placeholder": "​",
            "style": "IPY_MODEL_97beb5d5f19e4b00a47bd43c78511b0c",
            "value": "Batches: 100%"
          }
        },
        "f8101d97ed464e8fb1927f8ce6d9dcb8": {
          "model_module": "@jupyter-widgets/controls",
          "model_name": "FloatProgressModel",
          "model_module_version": "1.5.0",
          "state": {
            "_dom_classes": [],
            "_model_module": "@jupyter-widgets/controls",
            "_model_module_version": "1.5.0",
            "_model_name": "FloatProgressModel",
            "_view_count": null,
            "_view_module": "@jupyter-widgets/controls",
            "_view_module_version": "1.5.0",
            "_view_name": "ProgressView",
            "bar_style": "success",
            "description": "",
            "description_tooltip": null,
            "layout": "IPY_MODEL_805eae7a8cee4c388d438591d00e4c5a",
            "max": 3159,
            "min": 0,
            "orientation": "horizontal",
            "style": "IPY_MODEL_ca3474e74e4c444a8461cbb356aea6a3",
            "value": 3159
          }
        },
        "0563395e491243868df6a53a712c9068": {
          "model_module": "@jupyter-widgets/controls",
          "model_name": "HTMLModel",
          "model_module_version": "1.5.0",
          "state": {
            "_dom_classes": [],
            "_model_module": "@jupyter-widgets/controls",
            "_model_module_version": "1.5.0",
            "_model_name": "HTMLModel",
            "_view_count": null,
            "_view_module": "@jupyter-widgets/controls",
            "_view_module_version": "1.5.0",
            "_view_name": "HTMLView",
            "description": "",
            "description_tooltip": null,
            "layout": "IPY_MODEL_1167e23534c4417f89bed2383cc1fa0e",
            "placeholder": "​",
            "style": "IPY_MODEL_21ca7477854c45f190ba007c1a972b7f",
            "value": " 3159/3159 [06:14&lt;00:00, 16.63it/s]"
          }
        },
        "325ad60cd29141ea9df258446def24fb": {
          "model_module": "@jupyter-widgets/base",
          "model_name": "LayoutModel",
          "model_module_version": "1.2.0",
          "state": {
            "_model_module": "@jupyter-widgets/base",
            "_model_module_version": "1.2.0",
            "_model_name": "LayoutModel",
            "_view_count": null,
            "_view_module": "@jupyter-widgets/base",
            "_view_module_version": "1.2.0",
            "_view_name": "LayoutView",
            "align_content": null,
            "align_items": null,
            "align_self": null,
            "border": null,
            "bottom": null,
            "display": null,
            "flex": null,
            "flex_flow": null,
            "grid_area": null,
            "grid_auto_columns": null,
            "grid_auto_flow": null,
            "grid_auto_rows": null,
            "grid_column": null,
            "grid_gap": null,
            "grid_row": null,
            "grid_template_areas": null,
            "grid_template_columns": null,
            "grid_template_rows": null,
            "height": null,
            "justify_content": null,
            "justify_items": null,
            "left": null,
            "margin": null,
            "max_height": null,
            "max_width": null,
            "min_height": null,
            "min_width": null,
            "object_fit": null,
            "object_position": null,
            "order": null,
            "overflow": null,
            "overflow_x": null,
            "overflow_y": null,
            "padding": null,
            "right": null,
            "top": null,
            "visibility": null,
            "width": null
          }
        },
        "d28e89cce9a74de2b975ca173f3315c9": {
          "model_module": "@jupyter-widgets/base",
          "model_name": "LayoutModel",
          "model_module_version": "1.2.0",
          "state": {
            "_model_module": "@jupyter-widgets/base",
            "_model_module_version": "1.2.0",
            "_model_name": "LayoutModel",
            "_view_count": null,
            "_view_module": "@jupyter-widgets/base",
            "_view_module_version": "1.2.0",
            "_view_name": "LayoutView",
            "align_content": null,
            "align_items": null,
            "align_self": null,
            "border": null,
            "bottom": null,
            "display": null,
            "flex": null,
            "flex_flow": null,
            "grid_area": null,
            "grid_auto_columns": null,
            "grid_auto_flow": null,
            "grid_auto_rows": null,
            "grid_column": null,
            "grid_gap": null,
            "grid_row": null,
            "grid_template_areas": null,
            "grid_template_columns": null,
            "grid_template_rows": null,
            "height": null,
            "justify_content": null,
            "justify_items": null,
            "left": null,
            "margin": null,
            "max_height": null,
            "max_width": null,
            "min_height": null,
            "min_width": null,
            "object_fit": null,
            "object_position": null,
            "order": null,
            "overflow": null,
            "overflow_x": null,
            "overflow_y": null,
            "padding": null,
            "right": null,
            "top": null,
            "visibility": null,
            "width": null
          }
        },
        "97beb5d5f19e4b00a47bd43c78511b0c": {
          "model_module": "@jupyter-widgets/controls",
          "model_name": "DescriptionStyleModel",
          "model_module_version": "1.5.0",
          "state": {
            "_model_module": "@jupyter-widgets/controls",
            "_model_module_version": "1.5.0",
            "_model_name": "DescriptionStyleModel",
            "_view_count": null,
            "_view_module": "@jupyter-widgets/base",
            "_view_module_version": "1.2.0",
            "_view_name": "StyleView",
            "description_width": ""
          }
        },
        "805eae7a8cee4c388d438591d00e4c5a": {
          "model_module": "@jupyter-widgets/base",
          "model_name": "LayoutModel",
          "model_module_version": "1.2.0",
          "state": {
            "_model_module": "@jupyter-widgets/base",
            "_model_module_version": "1.2.0",
            "_model_name": "LayoutModel",
            "_view_count": null,
            "_view_module": "@jupyter-widgets/base",
            "_view_module_version": "1.2.0",
            "_view_name": "LayoutView",
            "align_content": null,
            "align_items": null,
            "align_self": null,
            "border": null,
            "bottom": null,
            "display": null,
            "flex": null,
            "flex_flow": null,
            "grid_area": null,
            "grid_auto_columns": null,
            "grid_auto_flow": null,
            "grid_auto_rows": null,
            "grid_column": null,
            "grid_gap": null,
            "grid_row": null,
            "grid_template_areas": null,
            "grid_template_columns": null,
            "grid_template_rows": null,
            "height": null,
            "justify_content": null,
            "justify_items": null,
            "left": null,
            "margin": null,
            "max_height": null,
            "max_width": null,
            "min_height": null,
            "min_width": null,
            "object_fit": null,
            "object_position": null,
            "order": null,
            "overflow": null,
            "overflow_x": null,
            "overflow_y": null,
            "padding": null,
            "right": null,
            "top": null,
            "visibility": null,
            "width": null
          }
        },
        "ca3474e74e4c444a8461cbb356aea6a3": {
          "model_module": "@jupyter-widgets/controls",
          "model_name": "ProgressStyleModel",
          "model_module_version": "1.5.0",
          "state": {
            "_model_module": "@jupyter-widgets/controls",
            "_model_module_version": "1.5.0",
            "_model_name": "ProgressStyleModel",
            "_view_count": null,
            "_view_module": "@jupyter-widgets/base",
            "_view_module_version": "1.2.0",
            "_view_name": "StyleView",
            "bar_color": null,
            "description_width": ""
          }
        },
        "1167e23534c4417f89bed2383cc1fa0e": {
          "model_module": "@jupyter-widgets/base",
          "model_name": "LayoutModel",
          "model_module_version": "1.2.0",
          "state": {
            "_model_module": "@jupyter-widgets/base",
            "_model_module_version": "1.2.0",
            "_model_name": "LayoutModel",
            "_view_count": null,
            "_view_module": "@jupyter-widgets/base",
            "_view_module_version": "1.2.0",
            "_view_name": "LayoutView",
            "align_content": null,
            "align_items": null,
            "align_self": null,
            "border": null,
            "bottom": null,
            "display": null,
            "flex": null,
            "flex_flow": null,
            "grid_area": null,
            "grid_auto_columns": null,
            "grid_auto_flow": null,
            "grid_auto_rows": null,
            "grid_column": null,
            "grid_gap": null,
            "grid_row": null,
            "grid_template_areas": null,
            "grid_template_columns": null,
            "grid_template_rows": null,
            "height": null,
            "justify_content": null,
            "justify_items": null,
            "left": null,
            "margin": null,
            "max_height": null,
            "max_width": null,
            "min_height": null,
            "min_width": null,
            "object_fit": null,
            "object_position": null,
            "order": null,
            "overflow": null,
            "overflow_x": null,
            "overflow_y": null,
            "padding": null,
            "right": null,
            "top": null,
            "visibility": null,
            "width": null
          }
        },
        "21ca7477854c45f190ba007c1a972b7f": {
          "model_module": "@jupyter-widgets/controls",
          "model_name": "DescriptionStyleModel",
          "model_module_version": "1.5.0",
          "state": {
            "_model_module": "@jupyter-widgets/controls",
            "_model_module_version": "1.5.0",
            "_model_name": "DescriptionStyleModel",
            "_view_count": null,
            "_view_module": "@jupyter-widgets/base",
            "_view_module_version": "1.2.0",
            "_view_name": "StyleView",
            "description_width": ""
          }
        }
      }
    }
  },
  "nbformat": 4,
  "nbformat_minor": 0
}